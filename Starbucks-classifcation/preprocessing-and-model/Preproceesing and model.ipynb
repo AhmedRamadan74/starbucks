{
 "cells": [
  {
   "cell_type": "markdown",
   "id": "1ffd218c",
   "metadata": {},
   "source": [
    "# Target of this note\n",
    "\n",
    "#### preprocessing  data to initialize model and bulid best model to use ."
   ]
  },
  {
   "cell_type": "markdown",
   "id": "55bd8dbb",
   "metadata": {},
   "source": [
    "##### in preprocessing i will do\n",
    "1) convert [ time , reward , diffculty and duration ] to categocial data ,because they represented to group of categorcail not numercial.\n",
    "\n",
    "2) select the target column [value/offer id] and convert to numerical \n",
    "\n",
    "3) split data\n",
    "\n",
    "4) bulid function contains all steps of preproessing  and polynomail Features( Pipeline)\n",
    "\n",
    "5) save preproccsing steps as binary file"
   ]
  },
  {
   "cell_type": "code",
   "execution_count": 1,
   "id": "13b3c36e",
   "metadata": {},
   "outputs": [],
   "source": [
    "import numpy as np\n",
    "import pandas as pd\n",
    "from sklearn.model_selection import train_test_split\n",
    "\n"
   ]
  },
  {
   "cell_type": "code",
   "execution_count": 2,
   "id": "fd0211ca",
   "metadata": {},
   "outputs": [],
   "source": [
    "data=pd.read_csv(\"data\")"
   ]
  },
  {
   "cell_type": "code",
   "execution_count": 3,
   "id": "4b0755d5",
   "metadata": {},
   "outputs": [
    {
     "data": {
      "text/html": [
       "<div>\n",
       "<style scoped>\n",
       "    .dataframe tbody tr th:only-of-type {\n",
       "        vertical-align: middle;\n",
       "    }\n",
       "\n",
       "    .dataframe tbody tr th {\n",
       "        vertical-align: top;\n",
       "    }\n",
       "\n",
       "    .dataframe thead th {\n",
       "        text-align: right;\n",
       "    }\n",
       "</style>\n",
       "<table border=\"1\" class=\"dataframe\">\n",
       "  <thead>\n",
       "    <tr style=\"text-align: right;\">\n",
       "      <th></th>\n",
       "      <th>gender</th>\n",
       "      <th>age</th>\n",
       "      <th>person</th>\n",
       "      <th>became_member_year</th>\n",
       "      <th>became_member_month</th>\n",
       "      <th>became_member_day</th>\n",
       "      <th>login_days</th>\n",
       "      <th>income</th>\n",
       "      <th>event</th>\n",
       "      <th>value/offer id</th>\n",
       "      <th>time</th>\n",
       "      <th>reward</th>\n",
       "      <th>difficulty</th>\n",
       "      <th>duration</th>\n",
       "      <th>offer_type</th>\n",
       "    </tr>\n",
       "  </thead>\n",
       "  <tbody>\n",
       "    <tr>\n",
       "      <th>0</th>\n",
       "      <td>F</td>\n",
       "      <td>55</td>\n",
       "      <td>0610b486422d4921ae7d2bf64640c50b</td>\n",
       "      <td>2017</td>\n",
       "      <td>7</td>\n",
       "      <td>15</td>\n",
       "      <td>376</td>\n",
       "      <td>112000.0</td>\n",
       "      <td>transaction</td>\n",
       "      <td>0</td>\n",
       "      <td>18</td>\n",
       "      <td>0.0</td>\n",
       "      <td>0.0</td>\n",
       "      <td>0.0</td>\n",
       "      <td>0</td>\n",
       "    </tr>\n",
       "    <tr>\n",
       "      <th>1</th>\n",
       "      <td>F</td>\n",
       "      <td>75</td>\n",
       "      <td>78afa995795e4d85b5d9ceeca43f5fef</td>\n",
       "      <td>2017</td>\n",
       "      <td>5</td>\n",
       "      <td>9</td>\n",
       "      <td>443</td>\n",
       "      <td>100000.0</td>\n",
       "      <td>offer received</td>\n",
       "      <td>9b98b8c7a33c4b65b9aebfe6a799e6d9</td>\n",
       "      <td>0</td>\n",
       "      <td>5.0</td>\n",
       "      <td>5.0</td>\n",
       "      <td>7.0</td>\n",
       "      <td>bogo</td>\n",
       "    </tr>\n",
       "    <tr>\n",
       "      <th>2</th>\n",
       "      <td>F</td>\n",
       "      <td>75</td>\n",
       "      <td>78afa995795e4d85b5d9ceeca43f5fef</td>\n",
       "      <td>2017</td>\n",
       "      <td>5</td>\n",
       "      <td>9</td>\n",
       "      <td>443</td>\n",
       "      <td>100000.0</td>\n",
       "      <td>offer viewed</td>\n",
       "      <td>9b98b8c7a33c4b65b9aebfe6a799e6d9</td>\n",
       "      <td>6</td>\n",
       "      <td>5.0</td>\n",
       "      <td>5.0</td>\n",
       "      <td>7.0</td>\n",
       "      <td>bogo</td>\n",
       "    </tr>\n",
       "    <tr>\n",
       "      <th>3</th>\n",
       "      <td>F</td>\n",
       "      <td>75</td>\n",
       "      <td>78afa995795e4d85b5d9ceeca43f5fef</td>\n",
       "      <td>2017</td>\n",
       "      <td>5</td>\n",
       "      <td>9</td>\n",
       "      <td>443</td>\n",
       "      <td>100000.0</td>\n",
       "      <td>offer received</td>\n",
       "      <td>9b98b8c7a33c4b65b9aebfe6a799e6d9</td>\n",
       "      <td>0</td>\n",
       "      <td>5.0</td>\n",
       "      <td>5.0</td>\n",
       "      <td>7.0</td>\n",
       "      <td>bogo</td>\n",
       "    </tr>\n",
       "    <tr>\n",
       "      <th>4</th>\n",
       "      <td>F</td>\n",
       "      <td>75</td>\n",
       "      <td>78afa995795e4d85b5d9ceeca43f5fef</td>\n",
       "      <td>2017</td>\n",
       "      <td>5</td>\n",
       "      <td>9</td>\n",
       "      <td>443</td>\n",
       "      <td>100000.0</td>\n",
       "      <td>offer viewed</td>\n",
       "      <td>9b98b8c7a33c4b65b9aebfe6a799e6d9</td>\n",
       "      <td>6</td>\n",
       "      <td>5.0</td>\n",
       "      <td>5.0</td>\n",
       "      <td>7.0</td>\n",
       "      <td>bogo</td>\n",
       "    </tr>\n",
       "  </tbody>\n",
       "</table>\n",
       "</div>"
      ],
      "text/plain": [
       "  gender  age                            person  became_member_year  \\\n",
       "0      F   55  0610b486422d4921ae7d2bf64640c50b                2017   \n",
       "1      F   75  78afa995795e4d85b5d9ceeca43f5fef                2017   \n",
       "2      F   75  78afa995795e4d85b5d9ceeca43f5fef                2017   \n",
       "3      F   75  78afa995795e4d85b5d9ceeca43f5fef                2017   \n",
       "4      F   75  78afa995795e4d85b5d9ceeca43f5fef                2017   \n",
       "\n",
       "   became_member_month  became_member_day  login_days    income  \\\n",
       "0                    7                 15         376  112000.0   \n",
       "1                    5                  9         443  100000.0   \n",
       "2                    5                  9         443  100000.0   \n",
       "3                    5                  9         443  100000.0   \n",
       "4                    5                  9         443  100000.0   \n",
       "\n",
       "            event                    value/offer id  time  reward  difficulty  \\\n",
       "0     transaction                                 0    18     0.0         0.0   \n",
       "1  offer received  9b98b8c7a33c4b65b9aebfe6a799e6d9     0     5.0         5.0   \n",
       "2    offer viewed  9b98b8c7a33c4b65b9aebfe6a799e6d9     6     5.0         5.0   \n",
       "3  offer received  9b98b8c7a33c4b65b9aebfe6a799e6d9     0     5.0         5.0   \n",
       "4    offer viewed  9b98b8c7a33c4b65b9aebfe6a799e6d9     6     5.0         5.0   \n",
       "\n",
       "   duration offer_type  \n",
       "0       0.0          0  \n",
       "1       7.0       bogo  \n",
       "2       7.0       bogo  \n",
       "3       7.0       bogo  \n",
       "4       7.0       bogo  "
      ]
     },
     "execution_count": 3,
     "metadata": {},
     "output_type": "execute_result"
    }
   ],
   "source": [
    "data.head()"
   ]
  },
  {
   "cell_type": "markdown",
   "id": "a26b014a",
   "metadata": {},
   "source": [
    "###### 1) convert [ time , reward , diffculty and duration ] to categocial data ,because they represented to group of categorcail not numercial.\n"
   ]
  },
  {
   "cell_type": "code",
   "execution_count": 4,
   "id": "5d54c411",
   "metadata": {},
   "outputs": [
    {
     "data": {
      "text/plain": [
       "time            int64\n",
       "reward        float64\n",
       "difficulty    float64\n",
       "duration      float64\n",
       "dtype: object"
      ]
     },
     "execution_count": 4,
     "metadata": {},
     "output_type": "execute_result"
    }
   ],
   "source": [
    "data[['time', 'reward', 'difficulty', 'duration']].dtypes"
   ]
  },
  {
   "cell_type": "code",
   "execution_count": 5,
   "id": "4a95a19c",
   "metadata": {},
   "outputs": [
    {
     "data": {
      "text/plain": [
       "Index(['gender', 'age', 'person', 'became_member_year', 'became_member_month',\n",
       "       'became_member_day', 'login_days', 'income', 'event', 'value/offer id',\n",
       "       'time', 'reward', 'difficulty', 'duration', 'offer_type'],\n",
       "      dtype='object')"
      ]
     },
     "execution_count": 5,
     "metadata": {},
     "output_type": "execute_result"
    }
   ],
   "source": [
    "data.columns"
   ]
  },
  {
   "cell_type": "code",
   "execution_count": 6,
   "id": "a116c0c6",
   "metadata": {},
   "outputs": [],
   "source": [
    "#convert\n",
    "data.time=data.time.astype(\"O\")\n",
    "data.reward=data.reward.astype(\"O\")\n",
    "data.difficulty=data.difficulty.astype(\"O\")\n",
    "data.duration=data.duration.astype(\"O\")\n"
   ]
  },
  {
   "cell_type": "code",
   "execution_count": 7,
   "id": "304caac4",
   "metadata": {},
   "outputs": [
    {
     "data": {
      "text/plain": [
       "time          object\n",
       "reward        object\n",
       "difficulty    object\n",
       "duration      object\n",
       "dtype: object"
      ]
     },
     "execution_count": 7,
     "metadata": {},
     "output_type": "execute_result"
    }
   ],
   "source": [
    "#cehck\n",
    "data[['time', 'reward', 'difficulty', 'duration']].dtypes"
   ]
  },
  {
   "cell_type": "markdown",
   "id": "e2093b38",
   "metadata": {},
   "source": [
    "-----------------------------"
   ]
  },
  {
   "cell_type": "markdown",
   "id": "730cce65",
   "metadata": {},
   "source": [
    "###### 2) select the target column [value/offer id] and convert to numerical \n"
   ]
  },
  {
   "cell_type": "code",
   "execution_count": 8,
   "id": "9ddf1b42",
   "metadata": {},
   "outputs": [
    {
     "data": {
      "text/plain": [
       "array(['0', '9b98b8c7a33c4b65b9aebfe6a799e6d9',\n",
       "       '2906b810c7d4411798c6938adc9daaa5',\n",
       "       'f19421c1d4aa40978ebb69ca19b0e20d',\n",
       "       '3f207df678b143eea3cee63160fa8bed',\n",
       "       '0b1e1539f2cc45b7b9fa7c272da2e1d7',\n",
       "       '2298d6c36e964ae4a3e7e9706d1fb8c2',\n",
       "       'ae264e3637204a6fb9bb56bc8210ddfd',\n",
       "       'fafdcd668e3743c1bb461111dcafc2a4',\n",
       "       '5a8bc65990b245e5a138643cd4eb9837',\n",
       "       '4d5c57ea9a6940dd891ad53e9dbe8da0'], dtype=object)"
      ]
     },
     "execution_count": 8,
     "metadata": {},
     "output_type": "execute_result"
    }
   ],
   "source": [
    "data[\"value/offer id\"].unique()"
   ]
  },
  {
   "cell_type": "code",
   "execution_count": 9,
   "id": "757c4972",
   "metadata": {},
   "outputs": [
    {
     "data": {
      "text/plain": [
       "11"
      ]
     },
     "execution_count": 9,
     "metadata": {},
     "output_type": "execute_result"
    }
   ],
   "source": [
    "len(data[\"value/offer id\"].unique())"
   ]
  },
  {
   "cell_type": "code",
   "execution_count": 10,
   "id": "214c939c",
   "metadata": {},
   "outputs": [
    {
     "data": {
      "text/plain": [
       "array([0, 7, 7, ..., 0, 0, 0])"
      ]
     },
     "execution_count": 10,
     "metadata": {},
     "output_type": "execute_result"
    }
   ],
   "source": [
    "#use label encoder \n",
    "\n",
    "from sklearn.preprocessing import LabelEncoder\n",
    "label=LabelEncoder()\n",
    "label.fit_transform(data[\"value/offer id\"])"
   ]
  },
  {
   "cell_type": "code",
   "execution_count": 11,
   "id": "39e058ba",
   "metadata": {},
   "outputs": [
    {
     "data": {
      "text/plain": [
       "array(['0', '0b1e1539f2cc45b7b9fa7c272da2e1d7',\n",
       "       '2298d6c36e964ae4a3e7e9706d1fb8c2',\n",
       "       '2906b810c7d4411798c6938adc9daaa5',\n",
       "       '3f207df678b143eea3cee63160fa8bed',\n",
       "       '4d5c57ea9a6940dd891ad53e9dbe8da0',\n",
       "       '5a8bc65990b245e5a138643cd4eb9837',\n",
       "       '9b98b8c7a33c4b65b9aebfe6a799e6d9',\n",
       "       'ae264e3637204a6fb9bb56bc8210ddfd',\n",
       "       'f19421c1d4aa40978ebb69ca19b0e20d',\n",
       "       'fafdcd668e3743c1bb461111dcafc2a4'], dtype=object)"
      ]
     },
     "execution_count": 11,
     "metadata": {},
     "output_type": "execute_result"
    }
   ],
   "source": [
    "label.classes_"
   ]
  },
  {
   "cell_type": "code",
   "execution_count": 12,
   "id": "ff3c7dbf",
   "metadata": {},
   "outputs": [
    {
     "data": {
      "text/plain": [
       "['0']"
      ]
     },
     "execution_count": 12,
     "metadata": {},
     "output_type": "execute_result"
    }
   ],
   "source": [
    "list(label.inverse_transform([0]))"
   ]
  },
  {
   "cell_type": "code",
   "execution_count": 13,
   "id": "0a0ffd4f",
   "metadata": {},
   "outputs": [],
   "source": [
    "data[\"value/offer id\"]=label.fit_transform(data[\"value/offer id\"])"
   ]
  },
  {
   "cell_type": "code",
   "execution_count": 14,
   "id": "c3f9f709",
   "metadata": {},
   "outputs": [
    {
     "data": {
      "text/plain": [
       "array([ 0,  7,  3,  9,  4,  1,  2,  8, 10,  6,  5])"
      ]
     },
     "execution_count": 14,
     "metadata": {},
     "output_type": "execute_result"
    }
   ],
   "source": [
    "data[\"value/offer id\"].unique()"
   ]
  },
  {
   "cell_type": "code",
   "execution_count": 15,
   "id": "7752f21d",
   "metadata": {},
   "outputs": [
    {
     "data": {
      "text/plain": [
       "dtype('int64')"
      ]
     },
     "execution_count": 15,
     "metadata": {},
     "output_type": "execute_result"
    }
   ],
   "source": [
    "data[\"value/offer id\"].dtype"
   ]
  },
  {
   "cell_type": "code",
   "execution_count": 16,
   "id": "ced12cfe",
   "metadata": {},
   "outputs": [
    {
     "data": {
      "text/html": [
       "<div>\n",
       "<style scoped>\n",
       "    .dataframe tbody tr th:only-of-type {\n",
       "        vertical-align: middle;\n",
       "    }\n",
       "\n",
       "    .dataframe tbody tr th {\n",
       "        vertical-align: top;\n",
       "    }\n",
       "\n",
       "    .dataframe thead th {\n",
       "        text-align: right;\n",
       "    }\n",
       "</style>\n",
       "<table border=\"1\" class=\"dataframe\">\n",
       "  <thead>\n",
       "    <tr style=\"text-align: right;\">\n",
       "      <th></th>\n",
       "      <th>gender</th>\n",
       "      <th>age</th>\n",
       "      <th>person</th>\n",
       "      <th>became_member_year</th>\n",
       "      <th>became_member_month</th>\n",
       "      <th>became_member_day</th>\n",
       "      <th>login_days</th>\n",
       "      <th>income</th>\n",
       "      <th>event</th>\n",
       "      <th>value/offer id</th>\n",
       "      <th>time</th>\n",
       "      <th>reward</th>\n",
       "      <th>difficulty</th>\n",
       "      <th>duration</th>\n",
       "      <th>offer_type</th>\n",
       "    </tr>\n",
       "  </thead>\n",
       "  <tbody>\n",
       "    <tr>\n",
       "      <th>1</th>\n",
       "      <td>F</td>\n",
       "      <td>75</td>\n",
       "      <td>78afa995795e4d85b5d9ceeca43f5fef</td>\n",
       "      <td>2017</td>\n",
       "      <td>5</td>\n",
       "      <td>9</td>\n",
       "      <td>443</td>\n",
       "      <td>100000.0</td>\n",
       "      <td>offer received</td>\n",
       "      <td>7</td>\n",
       "      <td>0</td>\n",
       "      <td>5.0</td>\n",
       "      <td>5.0</td>\n",
       "      <td>7.0</td>\n",
       "      <td>bogo</td>\n",
       "    </tr>\n",
       "    <tr>\n",
       "      <th>2</th>\n",
       "      <td>F</td>\n",
       "      <td>75</td>\n",
       "      <td>78afa995795e4d85b5d9ceeca43f5fef</td>\n",
       "      <td>2017</td>\n",
       "      <td>5</td>\n",
       "      <td>9</td>\n",
       "      <td>443</td>\n",
       "      <td>100000.0</td>\n",
       "      <td>offer viewed</td>\n",
       "      <td>7</td>\n",
       "      <td>6</td>\n",
       "      <td>5.0</td>\n",
       "      <td>5.0</td>\n",
       "      <td>7.0</td>\n",
       "      <td>bogo</td>\n",
       "    </tr>\n",
       "    <tr>\n",
       "      <th>3</th>\n",
       "      <td>F</td>\n",
       "      <td>75</td>\n",
       "      <td>78afa995795e4d85b5d9ceeca43f5fef</td>\n",
       "      <td>2017</td>\n",
       "      <td>5</td>\n",
       "      <td>9</td>\n",
       "      <td>443</td>\n",
       "      <td>100000.0</td>\n",
       "      <td>offer received</td>\n",
       "      <td>7</td>\n",
       "      <td>0</td>\n",
       "      <td>5.0</td>\n",
       "      <td>5.0</td>\n",
       "      <td>7.0</td>\n",
       "      <td>bogo</td>\n",
       "    </tr>\n",
       "    <tr>\n",
       "      <th>4</th>\n",
       "      <td>F</td>\n",
       "      <td>75</td>\n",
       "      <td>78afa995795e4d85b5d9ceeca43f5fef</td>\n",
       "      <td>2017</td>\n",
       "      <td>5</td>\n",
       "      <td>9</td>\n",
       "      <td>443</td>\n",
       "      <td>100000.0</td>\n",
       "      <td>offer viewed</td>\n",
       "      <td>7</td>\n",
       "      <td>6</td>\n",
       "      <td>5.0</td>\n",
       "      <td>5.0</td>\n",
       "      <td>7.0</td>\n",
       "      <td>bogo</td>\n",
       "    </tr>\n",
       "    <tr>\n",
       "      <th>29</th>\n",
       "      <td>F</td>\n",
       "      <td>61</td>\n",
       "      <td>a448667f336b42c9a66fc5ffd5d73772</td>\n",
       "      <td>2018</td>\n",
       "      <td>5</td>\n",
       "      <td>1</td>\n",
       "      <td>86</td>\n",
       "      <td>40000.0</td>\n",
       "      <td>offer received</td>\n",
       "      <td>7</td>\n",
       "      <td>0</td>\n",
       "      <td>5.0</td>\n",
       "      <td>5.0</td>\n",
       "      <td>7.0</td>\n",
       "      <td>bogo</td>\n",
       "    </tr>\n",
       "    <tr>\n",
       "      <th>...</th>\n",
       "      <td>...</td>\n",
       "      <td>...</td>\n",
       "      <td>...</td>\n",
       "      <td>...</td>\n",
       "      <td>...</td>\n",
       "      <td>...</td>\n",
       "      <td>...</td>\n",
       "      <td>...</td>\n",
       "      <td>...</td>\n",
       "      <td>...</td>\n",
       "      <td>...</td>\n",
       "      <td>...</td>\n",
       "      <td>...</td>\n",
       "      <td>...</td>\n",
       "      <td>...</td>\n",
       "    </tr>\n",
       "    <tr>\n",
       "      <th>52957</th>\n",
       "      <td>M</td>\n",
       "      <td>57</td>\n",
       "      <td>76ddbd6576844afe811f1a3c0fbb5bec</td>\n",
       "      <td>2016</td>\n",
       "      <td>7</td>\n",
       "      <td>9</td>\n",
       "      <td>747</td>\n",
       "      <td>40000.0</td>\n",
       "      <td>offer received</td>\n",
       "      <td>7</td>\n",
       "      <td>0</td>\n",
       "      <td>5.0</td>\n",
       "      <td>5.0</td>\n",
       "      <td>7.0</td>\n",
       "      <td>bogo</td>\n",
       "    </tr>\n",
       "    <tr>\n",
       "      <th>52958</th>\n",
       "      <td>M</td>\n",
       "      <td>57</td>\n",
       "      <td>76ddbd6576844afe811f1a3c0fbb5bec</td>\n",
       "      <td>2016</td>\n",
       "      <td>7</td>\n",
       "      <td>9</td>\n",
       "      <td>747</td>\n",
       "      <td>40000.0</td>\n",
       "      <td>offer viewed</td>\n",
       "      <td>7</td>\n",
       "      <td>60</td>\n",
       "      <td>5.0</td>\n",
       "      <td>5.0</td>\n",
       "      <td>7.0</td>\n",
       "      <td>bogo</td>\n",
       "    </tr>\n",
       "    <tr>\n",
       "      <th>52972</th>\n",
       "      <td>F</td>\n",
       "      <td>21</td>\n",
       "      <td>400d0536e8794cbb855b0d882d67cbda</td>\n",
       "      <td>2017</td>\n",
       "      <td>9</td>\n",
       "      <td>17</td>\n",
       "      <td>312</td>\n",
       "      <td>72000.0</td>\n",
       "      <td>offer received</td>\n",
       "      <td>7</td>\n",
       "      <td>0</td>\n",
       "      <td>5.0</td>\n",
       "      <td>5.0</td>\n",
       "      <td>7.0</td>\n",
       "      <td>bogo</td>\n",
       "    </tr>\n",
       "    <tr>\n",
       "      <th>52973</th>\n",
       "      <td>F</td>\n",
       "      <td>21</td>\n",
       "      <td>400d0536e8794cbb855b0d882d67cbda</td>\n",
       "      <td>2017</td>\n",
       "      <td>9</td>\n",
       "      <td>17</td>\n",
       "      <td>312</td>\n",
       "      <td>72000.0</td>\n",
       "      <td>offer received</td>\n",
       "      <td>7</td>\n",
       "      <td>0</td>\n",
       "      <td>5.0</td>\n",
       "      <td>5.0</td>\n",
       "      <td>7.0</td>\n",
       "      <td>bogo</td>\n",
       "    </tr>\n",
       "    <tr>\n",
       "      <th>52974</th>\n",
       "      <td>F</td>\n",
       "      <td>21</td>\n",
       "      <td>400d0536e8794cbb855b0d882d67cbda</td>\n",
       "      <td>2017</td>\n",
       "      <td>9</td>\n",
       "      <td>17</td>\n",
       "      <td>312</td>\n",
       "      <td>72000.0</td>\n",
       "      <td>offer viewed</td>\n",
       "      <td>7</td>\n",
       "      <td>12</td>\n",
       "      <td>5.0</td>\n",
       "      <td>5.0</td>\n",
       "      <td>7.0</td>\n",
       "      <td>bogo</td>\n",
       "    </tr>\n",
       "  </tbody>\n",
       "</table>\n",
       "<p>2840 rows × 15 columns</p>\n",
       "</div>"
      ],
      "text/plain": [
       "      gender  age                            person  became_member_year  \\\n",
       "1          F   75  78afa995795e4d85b5d9ceeca43f5fef                2017   \n",
       "2          F   75  78afa995795e4d85b5d9ceeca43f5fef                2017   \n",
       "3          F   75  78afa995795e4d85b5d9ceeca43f5fef                2017   \n",
       "4          F   75  78afa995795e4d85b5d9ceeca43f5fef                2017   \n",
       "29         F   61  a448667f336b42c9a66fc5ffd5d73772                2018   \n",
       "...      ...  ...                               ...                 ...   \n",
       "52957      M   57  76ddbd6576844afe811f1a3c0fbb5bec                2016   \n",
       "52958      M   57  76ddbd6576844afe811f1a3c0fbb5bec                2016   \n",
       "52972      F   21  400d0536e8794cbb855b0d882d67cbda                2017   \n",
       "52973      F   21  400d0536e8794cbb855b0d882d67cbda                2017   \n",
       "52974      F   21  400d0536e8794cbb855b0d882d67cbda                2017   \n",
       "\n",
       "       became_member_month  became_member_day  login_days    income  \\\n",
       "1                        5                  9         443  100000.0   \n",
       "2                        5                  9         443  100000.0   \n",
       "3                        5                  9         443  100000.0   \n",
       "4                        5                  9         443  100000.0   \n",
       "29                       5                  1          86   40000.0   \n",
       "...                    ...                ...         ...       ...   \n",
       "52957                    7                  9         747   40000.0   \n",
       "52958                    7                  9         747   40000.0   \n",
       "52972                    9                 17         312   72000.0   \n",
       "52973                    9                 17         312   72000.0   \n",
       "52974                    9                 17         312   72000.0   \n",
       "\n",
       "                event  value/offer id time reward difficulty duration  \\\n",
       "1      offer received               7    0    5.0        5.0      7.0   \n",
       "2        offer viewed               7    6    5.0        5.0      7.0   \n",
       "3      offer received               7    0    5.0        5.0      7.0   \n",
       "4        offer viewed               7    6    5.0        5.0      7.0   \n",
       "29     offer received               7    0    5.0        5.0      7.0   \n",
       "...               ...             ...  ...    ...        ...      ...   \n",
       "52957  offer received               7    0    5.0        5.0      7.0   \n",
       "52958    offer viewed               7   60    5.0        5.0      7.0   \n",
       "52972  offer received               7    0    5.0        5.0      7.0   \n",
       "52973  offer received               7    0    5.0        5.0      7.0   \n",
       "52974    offer viewed               7   12    5.0        5.0      7.0   \n",
       "\n",
       "      offer_type  \n",
       "1           bogo  \n",
       "2           bogo  \n",
       "3           bogo  \n",
       "4           bogo  \n",
       "29          bogo  \n",
       "...          ...  \n",
       "52957       bogo  \n",
       "52958       bogo  \n",
       "52972       bogo  \n",
       "52973       bogo  \n",
       "52974       bogo  \n",
       "\n",
       "[2840 rows x 15 columns]"
      ]
     },
     "execution_count": 16,
     "metadata": {},
     "output_type": "execute_result"
    }
   ],
   "source": [
    "data[data[\"value/offer id\"]==7]"
   ]
  },
  {
   "cell_type": "code",
   "execution_count": 17,
   "id": "f685d6d5",
   "metadata": {
    "scrolled": true
   },
   "outputs": [
    {
     "data": {
      "text/html": [
       "<div>\n",
       "<style scoped>\n",
       "    .dataframe tbody tr th:only-of-type {\n",
       "        vertical-align: middle;\n",
       "    }\n",
       "\n",
       "    .dataframe tbody tr th {\n",
       "        vertical-align: top;\n",
       "    }\n",
       "\n",
       "    .dataframe thead th {\n",
       "        text-align: right;\n",
       "    }\n",
       "</style>\n",
       "<table border=\"1\" class=\"dataframe\">\n",
       "  <thead>\n",
       "    <tr style=\"text-align: right;\">\n",
       "      <th></th>\n",
       "      <th>gender</th>\n",
       "      <th>age</th>\n",
       "      <th>person</th>\n",
       "      <th>became_member_year</th>\n",
       "      <th>became_member_month</th>\n",
       "      <th>became_member_day</th>\n",
       "      <th>login_days</th>\n",
       "      <th>income</th>\n",
       "      <th>event</th>\n",
       "      <th>value/offer id</th>\n",
       "      <th>time</th>\n",
       "      <th>reward</th>\n",
       "      <th>difficulty</th>\n",
       "      <th>duration</th>\n",
       "      <th>offer_type</th>\n",
       "    </tr>\n",
       "  </thead>\n",
       "  <tbody>\n",
       "    <tr>\n",
       "      <th>16</th>\n",
       "      <td>F</td>\n",
       "      <td>61</td>\n",
       "      <td>aa4862eba776480b8bb9c68455b8c2e1</td>\n",
       "      <td>2017</td>\n",
       "      <td>9</td>\n",
       "      <td>11</td>\n",
       "      <td>318</td>\n",
       "      <td>57000.0</td>\n",
       "      <td>offer received</td>\n",
       "      <td>1</td>\n",
       "      <td>0</td>\n",
       "      <td>5.0</td>\n",
       "      <td>20.0</td>\n",
       "      <td>10.0</td>\n",
       "      <td>discount</td>\n",
       "    </tr>\n",
       "    <tr>\n",
       "      <th>17</th>\n",
       "      <td>F</td>\n",
       "      <td>61</td>\n",
       "      <td>aa4862eba776480b8bb9c68455b8c2e1</td>\n",
       "      <td>2017</td>\n",
       "      <td>9</td>\n",
       "      <td>11</td>\n",
       "      <td>318</td>\n",
       "      <td>57000.0</td>\n",
       "      <td>offer received</td>\n",
       "      <td>1</td>\n",
       "      <td>0</td>\n",
       "      <td>5.0</td>\n",
       "      <td>20.0</td>\n",
       "      <td>10.0</td>\n",
       "      <td>discount</td>\n",
       "    </tr>\n",
       "    <tr>\n",
       "      <th>18</th>\n",
       "      <td>F</td>\n",
       "      <td>61</td>\n",
       "      <td>aa4862eba776480b8bb9c68455b8c2e1</td>\n",
       "      <td>2017</td>\n",
       "      <td>9</td>\n",
       "      <td>11</td>\n",
       "      <td>318</td>\n",
       "      <td>57000.0</td>\n",
       "      <td>offer viewed</td>\n",
       "      <td>1</td>\n",
       "      <td>18</td>\n",
       "      <td>5.0</td>\n",
       "      <td>20.0</td>\n",
       "      <td>10.0</td>\n",
       "      <td>discount</td>\n",
       "    </tr>\n",
       "    <tr>\n",
       "      <th>19</th>\n",
       "      <td>M</td>\n",
       "      <td>26</td>\n",
       "      <td>e12aeaf2d47d42479ea1c4ac3d8286c6</td>\n",
       "      <td>2014</td>\n",
       "      <td>2</td>\n",
       "      <td>13</td>\n",
       "      <td>1624</td>\n",
       "      <td>46000.0</td>\n",
       "      <td>offer received</td>\n",
       "      <td>1</td>\n",
       "      <td>0</td>\n",
       "      <td>5.0</td>\n",
       "      <td>20.0</td>\n",
       "      <td>10.0</td>\n",
       "      <td>discount</td>\n",
       "    </tr>\n",
       "    <tr>\n",
       "      <th>20</th>\n",
       "      <td>M</td>\n",
       "      <td>26</td>\n",
       "      <td>e12aeaf2d47d42479ea1c4ac3d8286c6</td>\n",
       "      <td>2014</td>\n",
       "      <td>2</td>\n",
       "      <td>13</td>\n",
       "      <td>1624</td>\n",
       "      <td>46000.0</td>\n",
       "      <td>offer received</td>\n",
       "      <td>1</td>\n",
       "      <td>0</td>\n",
       "      <td>5.0</td>\n",
       "      <td>20.0</td>\n",
       "      <td>10.0</td>\n",
       "      <td>discount</td>\n",
       "    </tr>\n",
       "    <tr>\n",
       "      <th>...</th>\n",
       "      <td>...</td>\n",
       "      <td>...</td>\n",
       "      <td>...</td>\n",
       "      <td>...</td>\n",
       "      <td>...</td>\n",
       "      <td>...</td>\n",
       "      <td>...</td>\n",
       "      <td>...</td>\n",
       "      <td>...</td>\n",
       "      <td>...</td>\n",
       "      <td>...</td>\n",
       "      <td>...</td>\n",
       "      <td>...</td>\n",
       "      <td>...</td>\n",
       "      <td>...</td>\n",
       "    </tr>\n",
       "    <tr>\n",
       "      <th>52964</th>\n",
       "      <td>F</td>\n",
       "      <td>70</td>\n",
       "      <td>79edb810789c447e8d212a324b44cc16</td>\n",
       "      <td>2016</td>\n",
       "      <td>3</td>\n",
       "      <td>10</td>\n",
       "      <td>868</td>\n",
       "      <td>39000.0</td>\n",
       "      <td>offer received</td>\n",
       "      <td>1</td>\n",
       "      <td>0</td>\n",
       "      <td>5.0</td>\n",
       "      <td>20.0</td>\n",
       "      <td>10.0</td>\n",
       "      <td>discount</td>\n",
       "    </tr>\n",
       "    <tr>\n",
       "      <th>52965</th>\n",
       "      <td>F</td>\n",
       "      <td>70</td>\n",
       "      <td>79edb810789c447e8d212a324b44cc16</td>\n",
       "      <td>2016</td>\n",
       "      <td>3</td>\n",
       "      <td>10</td>\n",
       "      <td>868</td>\n",
       "      <td>39000.0</td>\n",
       "      <td>offer received</td>\n",
       "      <td>1</td>\n",
       "      <td>0</td>\n",
       "      <td>5.0</td>\n",
       "      <td>20.0</td>\n",
       "      <td>10.0</td>\n",
       "      <td>discount</td>\n",
       "    </tr>\n",
       "    <tr>\n",
       "      <th>52966</th>\n",
       "      <td>F</td>\n",
       "      <td>70</td>\n",
       "      <td>79edb810789c447e8d212a324b44cc16</td>\n",
       "      <td>2016</td>\n",
       "      <td>3</td>\n",
       "      <td>10</td>\n",
       "      <td>868</td>\n",
       "      <td>39000.0</td>\n",
       "      <td>offer viewed</td>\n",
       "      <td>1</td>\n",
       "      <td>42</td>\n",
       "      <td>5.0</td>\n",
       "      <td>20.0</td>\n",
       "      <td>10.0</td>\n",
       "      <td>discount</td>\n",
       "    </tr>\n",
       "    <tr>\n",
       "      <th>52984</th>\n",
       "      <td>M</td>\n",
       "      <td>49</td>\n",
       "      <td>01d26f638c274aa0b965d24cefe3183f</td>\n",
       "      <td>2017</td>\n",
       "      <td>1</td>\n",
       "      <td>26</td>\n",
       "      <td>546</td>\n",
       "      <td>73000.0</td>\n",
       "      <td>offer received</td>\n",
       "      <td>1</td>\n",
       "      <td>0</td>\n",
       "      <td>5.0</td>\n",
       "      <td>20.0</td>\n",
       "      <td>10.0</td>\n",
       "      <td>discount</td>\n",
       "    </tr>\n",
       "    <tr>\n",
       "      <th>52985</th>\n",
       "      <td>M</td>\n",
       "      <td>49</td>\n",
       "      <td>01d26f638c274aa0b965d24cefe3183f</td>\n",
       "      <td>2017</td>\n",
       "      <td>1</td>\n",
       "      <td>26</td>\n",
       "      <td>546</td>\n",
       "      <td>73000.0</td>\n",
       "      <td>offer received</td>\n",
       "      <td>1</td>\n",
       "      <td>0</td>\n",
       "      <td>5.0</td>\n",
       "      <td>20.0</td>\n",
       "      <td>10.0</td>\n",
       "      <td>discount</td>\n",
       "    </tr>\n",
       "  </tbody>\n",
       "</table>\n",
       "<p>2694 rows × 15 columns</p>\n",
       "</div>"
      ],
      "text/plain": [
       "      gender  age                            person  became_member_year  \\\n",
       "16         F   61  aa4862eba776480b8bb9c68455b8c2e1                2017   \n",
       "17         F   61  aa4862eba776480b8bb9c68455b8c2e1                2017   \n",
       "18         F   61  aa4862eba776480b8bb9c68455b8c2e1                2017   \n",
       "19         M   26  e12aeaf2d47d42479ea1c4ac3d8286c6                2014   \n",
       "20         M   26  e12aeaf2d47d42479ea1c4ac3d8286c6                2014   \n",
       "...      ...  ...                               ...                 ...   \n",
       "52964      F   70  79edb810789c447e8d212a324b44cc16                2016   \n",
       "52965      F   70  79edb810789c447e8d212a324b44cc16                2016   \n",
       "52966      F   70  79edb810789c447e8d212a324b44cc16                2016   \n",
       "52984      M   49  01d26f638c274aa0b965d24cefe3183f                2017   \n",
       "52985      M   49  01d26f638c274aa0b965d24cefe3183f                2017   \n",
       "\n",
       "       became_member_month  became_member_day  login_days   income  \\\n",
       "16                       9                 11         318  57000.0   \n",
       "17                       9                 11         318  57000.0   \n",
       "18                       9                 11         318  57000.0   \n",
       "19                       2                 13        1624  46000.0   \n",
       "20                       2                 13        1624  46000.0   \n",
       "...                    ...                ...         ...      ...   \n",
       "52964                    3                 10         868  39000.0   \n",
       "52965                    3                 10         868  39000.0   \n",
       "52966                    3                 10         868  39000.0   \n",
       "52984                    1                 26         546  73000.0   \n",
       "52985                    1                 26         546  73000.0   \n",
       "\n",
       "                event  value/offer id time reward difficulty duration  \\\n",
       "16     offer received               1    0    5.0       20.0     10.0   \n",
       "17     offer received               1    0    5.0       20.0     10.0   \n",
       "18       offer viewed               1   18    5.0       20.0     10.0   \n",
       "19     offer received               1    0    5.0       20.0     10.0   \n",
       "20     offer received               1    0    5.0       20.0     10.0   \n",
       "...               ...             ...  ...    ...        ...      ...   \n",
       "52964  offer received               1    0    5.0       20.0     10.0   \n",
       "52965  offer received               1    0    5.0       20.0     10.0   \n",
       "52966    offer viewed               1   42    5.0       20.0     10.0   \n",
       "52984  offer received               1    0    5.0       20.0     10.0   \n",
       "52985  offer received               1    0    5.0       20.0     10.0   \n",
       "\n",
       "      offer_type  \n",
       "16      discount  \n",
       "17      discount  \n",
       "18      discount  \n",
       "19      discount  \n",
       "20      discount  \n",
       "...          ...  \n",
       "52964   discount  \n",
       "52965   discount  \n",
       "52966   discount  \n",
       "52984   discount  \n",
       "52985   discount  \n",
       "\n",
       "[2694 rows x 15 columns]"
      ]
     },
     "execution_count": 17,
     "metadata": {},
     "output_type": "execute_result"
    }
   ],
   "source": [
    "data[data[\"value/offer id\"]==1]"
   ]
  },
  {
   "cell_type": "code",
   "execution_count": 18,
   "id": "0f13ba93",
   "metadata": {},
   "outputs": [
    {
     "name": "stdout",
     "output_type": "stream",
     "text": [
      "0\n",
      "[0.0 0.0 0.0 '0']\n",
      "**************************************************\n",
      "1\n",
      "[5.0 20.0 10.0 'discount']\n",
      "**************************************************\n",
      "2\n",
      "[3.0 7.0 7.0 'discount']\n",
      "**************************************************\n",
      "3\n",
      "[2.0 10.0 7.0 'discount']\n",
      "**************************************************\n",
      "4\n",
      "[0.0 0.0 4.0 'informational']\n",
      "**************************************************\n",
      "5\n",
      "[10.0 10.0 5.0 'bogo']\n",
      "**************************************************\n",
      "6\n",
      "[0.0 0.0 3.0 'informational']\n",
      "**************************************************\n",
      "7\n",
      "[5.0 5.0 7.0 'bogo']\n",
      "**************************************************\n"
     ]
    }
   ],
   "source": [
    "for i in range(0,8):\n",
    "    print(i)\n",
    "    print(data[data[\"value/offer id\"]==i][[\"reward\",\"difficulty\",\"duration\",\"offer_type\"]].values[0])\n",
    "    print(\"*\"*50)"
   ]
  },
  {
   "cell_type": "markdown",
   "id": "cb41756e",
   "metadata": {},
   "source": [
    "- for all number of value/offer id is represented to offer_type with different of reward, difficulty , duration and offer_type\n",
    "\n",
    "- so that in train and test process , i will drop reward, difficulty , duration and offer_type and reprecent by only value/offer id"
   ]
  },
  {
   "cell_type": "code",
   "execution_count": 19,
   "id": "12b10f52",
   "metadata": {},
   "outputs": [
    {
     "data": {
      "text/plain": [
       "Index(['gender', 'age', 'person', 'became_member_year', 'became_member_month',\n",
       "       'became_member_day', 'login_days', 'income', 'event', 'value/offer id',\n",
       "       'time', 'reward', 'difficulty', 'duration', 'offer_type'],\n",
       "      dtype='object')"
      ]
     },
     "execution_count": 19,
     "metadata": {},
     "output_type": "execute_result"
    }
   ],
   "source": [
    "data.columns"
   ]
  },
  {
   "cell_type": "code",
   "execution_count": 20,
   "id": "5f43cfb4",
   "metadata": {},
   "outputs": [],
   "source": [
    "data.drop(['reward', 'difficulty', 'duration', 'offer_type',\"person\"],axis=1,inplace=True)"
   ]
  },
  {
   "cell_type": "code",
   "execution_count": 21,
   "id": "a2fe65ea",
   "metadata": {},
   "outputs": [
    {
     "data": {
      "text/html": [
       "<div>\n",
       "<style scoped>\n",
       "    .dataframe tbody tr th:only-of-type {\n",
       "        vertical-align: middle;\n",
       "    }\n",
       "\n",
       "    .dataframe tbody tr th {\n",
       "        vertical-align: top;\n",
       "    }\n",
       "\n",
       "    .dataframe thead th {\n",
       "        text-align: right;\n",
       "    }\n",
       "</style>\n",
       "<table border=\"1\" class=\"dataframe\">\n",
       "  <thead>\n",
       "    <tr style=\"text-align: right;\">\n",
       "      <th></th>\n",
       "      <th>gender</th>\n",
       "      <th>age</th>\n",
       "      <th>became_member_year</th>\n",
       "      <th>became_member_month</th>\n",
       "      <th>became_member_day</th>\n",
       "      <th>login_days</th>\n",
       "      <th>income</th>\n",
       "      <th>event</th>\n",
       "      <th>value/offer id</th>\n",
       "      <th>time</th>\n",
       "    </tr>\n",
       "  </thead>\n",
       "  <tbody>\n",
       "    <tr>\n",
       "      <th>0</th>\n",
       "      <td>F</td>\n",
       "      <td>55</td>\n",
       "      <td>2017</td>\n",
       "      <td>7</td>\n",
       "      <td>15</td>\n",
       "      <td>376</td>\n",
       "      <td>112000.0</td>\n",
       "      <td>transaction</td>\n",
       "      <td>0</td>\n",
       "      <td>18</td>\n",
       "    </tr>\n",
       "    <tr>\n",
       "      <th>1</th>\n",
       "      <td>F</td>\n",
       "      <td>75</td>\n",
       "      <td>2017</td>\n",
       "      <td>5</td>\n",
       "      <td>9</td>\n",
       "      <td>443</td>\n",
       "      <td>100000.0</td>\n",
       "      <td>offer received</td>\n",
       "      <td>7</td>\n",
       "      <td>0</td>\n",
       "    </tr>\n",
       "    <tr>\n",
       "      <th>2</th>\n",
       "      <td>F</td>\n",
       "      <td>75</td>\n",
       "      <td>2017</td>\n",
       "      <td>5</td>\n",
       "      <td>9</td>\n",
       "      <td>443</td>\n",
       "      <td>100000.0</td>\n",
       "      <td>offer viewed</td>\n",
       "      <td>7</td>\n",
       "      <td>6</td>\n",
       "    </tr>\n",
       "    <tr>\n",
       "      <th>3</th>\n",
       "      <td>F</td>\n",
       "      <td>75</td>\n",
       "      <td>2017</td>\n",
       "      <td>5</td>\n",
       "      <td>9</td>\n",
       "      <td>443</td>\n",
       "      <td>100000.0</td>\n",
       "      <td>offer received</td>\n",
       "      <td>7</td>\n",
       "      <td>0</td>\n",
       "    </tr>\n",
       "    <tr>\n",
       "      <th>4</th>\n",
       "      <td>F</td>\n",
       "      <td>75</td>\n",
       "      <td>2017</td>\n",
       "      <td>5</td>\n",
       "      <td>9</td>\n",
       "      <td>443</td>\n",
       "      <td>100000.0</td>\n",
       "      <td>offer viewed</td>\n",
       "      <td>7</td>\n",
       "      <td>6</td>\n",
       "    </tr>\n",
       "  </tbody>\n",
       "</table>\n",
       "</div>"
      ],
      "text/plain": [
       "  gender  age  became_member_year  became_member_month  became_member_day  \\\n",
       "0      F   55                2017                    7                 15   \n",
       "1      F   75                2017                    5                  9   \n",
       "2      F   75                2017                    5                  9   \n",
       "3      F   75                2017                    5                  9   \n",
       "4      F   75                2017                    5                  9   \n",
       "\n",
       "   login_days    income           event  value/offer id time  \n",
       "0         376  112000.0     transaction               0   18  \n",
       "1         443  100000.0  offer received               7    0  \n",
       "2         443  100000.0    offer viewed               7    6  \n",
       "3         443  100000.0  offer received               7    0  \n",
       "4         443  100000.0    offer viewed               7    6  "
      ]
     },
     "execution_count": 21,
     "metadata": {},
     "output_type": "execute_result"
    }
   ],
   "source": [
    "data.head()"
   ]
  },
  {
   "cell_type": "markdown",
   "id": "1e27493e",
   "metadata": {},
   "source": [
    "----------------------------"
   ]
  },
  {
   "cell_type": "markdown",
   "id": "f898f5da",
   "metadata": {},
   "source": [
    "###### 3) split data\n"
   ]
  },
  {
   "cell_type": "code",
   "execution_count": 22,
   "id": "720d00de",
   "metadata": {},
   "outputs": [],
   "source": [
    "from sklearn.model_selection import train_test_split\n",
    "\n",
    "X=data.drop(\"value/offer id\",axis=1)\n",
    "y=data[\"value/offer id\"]\n",
    "\n",
    "X_train, X_test, y_train, y_test = train_test_split(X, y, train_size=0.75, random_state=42,stratify=y)\n"
   ]
  },
  {
   "cell_type": "code",
   "execution_count": 23,
   "id": "1b37d6b2",
   "metadata": {},
   "outputs": [
    {
     "name": "stdout",
     "output_type": "stream",
     "text": [
      "Shape of X train data =  (39745, 9)\n",
      "Shape of X test data =  (13249, 9)\n",
      "Shape of y train data =  (39745,)\n",
      "Shape of y test data =  (13249,)\n"
     ]
    }
   ],
   "source": [
    "print(\"Shape of X train data = \",X_train.shape)\n",
    "print(\"Shape of X test data = \",X_test.shape)\n",
    "print(\"Shape of y train data = \",y_train.shape)\n",
    "print(\"Shape of y test data = \",y_test.shape)"
   ]
  },
  {
   "cell_type": "code",
   "execution_count": 24,
   "id": "4ba93ac0",
   "metadata": {},
   "outputs": [
    {
     "data": {
      "text/plain": [
       "0     14441\n",
       "10     2959\n",
       "9      2869\n",
       "2      2774\n",
       "5      2756\n",
       "8      2744\n",
       "6      2644\n",
       "4      2213\n",
       "3      2194\n",
       "7      2130\n",
       "1      2021\n",
       "Name: value/offer id, dtype: int64"
      ]
     },
     "execution_count": 24,
     "metadata": {},
     "output_type": "execute_result"
    }
   ],
   "source": [
    "y_train.value_counts()"
   ]
  },
  {
   "cell_type": "code",
   "execution_count": 25,
   "id": "4a5e59ac",
   "metadata": {},
   "outputs": [
    {
     "data": {
      "text/plain": [
       "0     36.0\n",
       "10     7.0\n",
       "9      7.0\n",
       "2      7.0\n",
       "5      7.0\n",
       "8      7.0\n",
       "6      7.0\n",
       "4      6.0\n",
       "3      6.0\n",
       "7      5.0\n",
       "1      5.0\n",
       "Name: value/offer id, dtype: float64"
      ]
     },
     "execution_count": 25,
     "metadata": {},
     "output_type": "execute_result"
    }
   ],
   "source": [
    "round(y_train.value_counts()/y_train.shape[0],2)*100"
   ]
  },
  {
   "cell_type": "code",
   "execution_count": 26,
   "id": "7119a220",
   "metadata": {},
   "outputs": [
    {
     "data": {
      "text/plain": [
       "0     4814\n",
       "10     987\n",
       "9      956\n",
       "2      925\n",
       "5      919\n",
       "8      915\n",
       "6      881\n",
       "4      738\n",
       "3      731\n",
       "7      710\n",
       "1      673\n",
       "Name: value/offer id, dtype: int64"
      ]
     },
     "execution_count": 26,
     "metadata": {},
     "output_type": "execute_result"
    }
   ],
   "source": [
    "y_test.value_counts()"
   ]
  },
  {
   "cell_type": "code",
   "execution_count": 27,
   "id": "c3ab88a6",
   "metadata": {
    "scrolled": true
   },
   "outputs": [
    {
     "data": {
      "text/plain": [
       "0     36.0\n",
       "10     7.0\n",
       "9      7.0\n",
       "2      7.0\n",
       "5      7.0\n",
       "8      7.0\n",
       "6      7.0\n",
       "4      6.0\n",
       "3      6.0\n",
       "7      5.0\n",
       "1      5.0\n",
       "Name: value/offer id, dtype: float64"
      ]
     },
     "execution_count": 27,
     "metadata": {},
     "output_type": "execute_result"
    }
   ],
   "source": [
    "round(y_test.value_counts()/y_test.shape[0],2)*100"
   ]
  },
  {
   "cell_type": "markdown",
   "id": "b0dcfd21",
   "metadata": {},
   "source": [
    "------------------"
   ]
  },
  {
   "cell_type": "markdown",
   "id": "d115dd84",
   "metadata": {},
   "source": [
    "###### 4) bulid function contains all steps of preproessing  and polynomail Features( Pipeline)\n",
    "\n"
   ]
  },
  {
   "cell_type": "code",
   "execution_count": 28,
   "id": "58aa48ec",
   "metadata": {},
   "outputs": [
    {
     "data": {
      "text/html": [
       "<div>\n",
       "<style scoped>\n",
       "    .dataframe tbody tr th:only-of-type {\n",
       "        vertical-align: middle;\n",
       "    }\n",
       "\n",
       "    .dataframe tbody tr th {\n",
       "        vertical-align: top;\n",
       "    }\n",
       "\n",
       "    .dataframe thead th {\n",
       "        text-align: right;\n",
       "    }\n",
       "</style>\n",
       "<table border=\"1\" class=\"dataframe\">\n",
       "  <thead>\n",
       "    <tr style=\"text-align: right;\">\n",
       "      <th></th>\n",
       "      <th>gender</th>\n",
       "      <th>age</th>\n",
       "      <th>became_member_year</th>\n",
       "      <th>became_member_month</th>\n",
       "      <th>became_member_day</th>\n",
       "      <th>login_days</th>\n",
       "      <th>income</th>\n",
       "      <th>event</th>\n",
       "      <th>time</th>\n",
       "    </tr>\n",
       "  </thead>\n",
       "  <tbody>\n",
       "    <tr>\n",
       "      <th>2131</th>\n",
       "      <td>F</td>\n",
       "      <td>93</td>\n",
       "      <td>2013</td>\n",
       "      <td>10</td>\n",
       "      <td>25</td>\n",
       "      <td>1735</td>\n",
       "      <td>48000.0</td>\n",
       "      <td>transaction</td>\n",
       "      <td>66</td>\n",
       "    </tr>\n",
       "    <tr>\n",
       "      <th>50137</th>\n",
       "      <td>F</td>\n",
       "      <td>46</td>\n",
       "      <td>2018</td>\n",
       "      <td>6</td>\n",
       "      <td>25</td>\n",
       "      <td>31</td>\n",
       "      <td>51000.0</td>\n",
       "      <td>transaction</td>\n",
       "      <td>24</td>\n",
       "    </tr>\n",
       "    <tr>\n",
       "      <th>29266</th>\n",
       "      <td>M</td>\n",
       "      <td>70</td>\n",
       "      <td>2018</td>\n",
       "      <td>5</td>\n",
       "      <td>29</td>\n",
       "      <td>58</td>\n",
       "      <td>55000.0</td>\n",
       "      <td>transaction</td>\n",
       "      <td>60</td>\n",
       "    </tr>\n",
       "    <tr>\n",
       "      <th>50076</th>\n",
       "      <td>F</td>\n",
       "      <td>31</td>\n",
       "      <td>2016</td>\n",
       "      <td>10</td>\n",
       "      <td>16</td>\n",
       "      <td>648</td>\n",
       "      <td>31000.0</td>\n",
       "      <td>transaction</td>\n",
       "      <td>6</td>\n",
       "    </tr>\n",
       "    <tr>\n",
       "      <th>23203</th>\n",
       "      <td>F</td>\n",
       "      <td>51</td>\n",
       "      <td>2015</td>\n",
       "      <td>8</td>\n",
       "      <td>30</td>\n",
       "      <td>1061</td>\n",
       "      <td>76000.0</td>\n",
       "      <td>offer completed</td>\n",
       "      <td>6</td>\n",
       "    </tr>\n",
       "    <tr>\n",
       "      <th>...</th>\n",
       "      <td>...</td>\n",
       "      <td>...</td>\n",
       "      <td>...</td>\n",
       "      <td>...</td>\n",
       "      <td>...</td>\n",
       "      <td>...</td>\n",
       "      <td>...</td>\n",
       "      <td>...</td>\n",
       "      <td>...</td>\n",
       "    </tr>\n",
       "    <tr>\n",
       "      <th>22235</th>\n",
       "      <td>M</td>\n",
       "      <td>34</td>\n",
       "      <td>2014</td>\n",
       "      <td>1</td>\n",
       "      <td>19</td>\n",
       "      <td>1649</td>\n",
       "      <td>59000.0</td>\n",
       "      <td>transaction</td>\n",
       "      <td>84</td>\n",
       "    </tr>\n",
       "    <tr>\n",
       "      <th>1924</th>\n",
       "      <td>M</td>\n",
       "      <td>55</td>\n",
       "      <td>2017</td>\n",
       "      <td>9</td>\n",
       "      <td>24</td>\n",
       "      <td>305</td>\n",
       "      <td>83000.0</td>\n",
       "      <td>transaction</td>\n",
       "      <td>36</td>\n",
       "    </tr>\n",
       "    <tr>\n",
       "      <th>51920</th>\n",
       "      <td>F</td>\n",
       "      <td>20</td>\n",
       "      <td>2015</td>\n",
       "      <td>12</td>\n",
       "      <td>5</td>\n",
       "      <td>964</td>\n",
       "      <td>65000.0</td>\n",
       "      <td>offer received</td>\n",
       "      <td>0</td>\n",
       "    </tr>\n",
       "    <tr>\n",
       "      <th>35894</th>\n",
       "      <td>O</td>\n",
       "      <td>37</td>\n",
       "      <td>2016</td>\n",
       "      <td>5</td>\n",
       "      <td>16</td>\n",
       "      <td>801</td>\n",
       "      <td>70000.0</td>\n",
       "      <td>transaction</td>\n",
       "      <td>12</td>\n",
       "    </tr>\n",
       "    <tr>\n",
       "      <th>42479</th>\n",
       "      <td>M</td>\n",
       "      <td>83</td>\n",
       "      <td>2017</td>\n",
       "      <td>10</td>\n",
       "      <td>20</td>\n",
       "      <td>279</td>\n",
       "      <td>43000.0</td>\n",
       "      <td>transaction</td>\n",
       "      <td>18</td>\n",
       "    </tr>\n",
       "  </tbody>\n",
       "</table>\n",
       "<p>39745 rows × 9 columns</p>\n",
       "</div>"
      ],
      "text/plain": [
       "      gender  age  became_member_year  became_member_month  became_member_day  \\\n",
       "2131       F   93                2013                   10                 25   \n",
       "50137      F   46                2018                    6                 25   \n",
       "29266      M   70                2018                    5                 29   \n",
       "50076      F   31                2016                   10                 16   \n",
       "23203      F   51                2015                    8                 30   \n",
       "...      ...  ...                 ...                  ...                ...   \n",
       "22235      M   34                2014                    1                 19   \n",
       "1924       M   55                2017                    9                 24   \n",
       "51920      F   20                2015                   12                  5   \n",
       "35894      O   37                2016                    5                 16   \n",
       "42479      M   83                2017                   10                 20   \n",
       "\n",
       "       login_days   income            event time  \n",
       "2131         1735  48000.0      transaction   66  \n",
       "50137          31  51000.0      transaction   24  \n",
       "29266          58  55000.0      transaction   60  \n",
       "50076         648  31000.0      transaction    6  \n",
       "23203        1061  76000.0  offer completed    6  \n",
       "...           ...      ...              ...  ...  \n",
       "22235        1649  59000.0      transaction   84  \n",
       "1924          305  83000.0      transaction   36  \n",
       "51920         964  65000.0   offer received    0  \n",
       "35894         801  70000.0      transaction   12  \n",
       "42479         279  43000.0      transaction   18  \n",
       "\n",
       "[39745 rows x 9 columns]"
      ]
     },
     "execution_count": 28,
     "metadata": {},
     "output_type": "execute_result"
    }
   ],
   "source": [
    "X_train"
   ]
  },
  {
   "cell_type": "code",
   "execution_count": 29,
   "id": "a470aab0",
   "metadata": {},
   "outputs": [],
   "source": [
    "from sklearn.preprocessing import OneHotEncoder\n",
    "from sklearn.preprocessing import StandardScaler\n",
    "from category_encoders import BinaryEncoder\n",
    "from sklearn.compose import ColumnTransformer\n",
    "from sklearn.preprocessing import PolynomialFeatures\n",
    "from sklearn.pipeline import Pipeline\n",
    "\n",
    "cat=X_train.select_dtypes(include=\"O\").columns\n",
    "num=X_train.select_dtypes(exclude=\"O\").columns\n",
    "\n",
    "encoder=OneHotEncoder() \n",
    "scaler=StandardScaler()\n",
    "ct=ColumnTransformer([\n",
    "      (\"encoder\",encoder,cat),\n",
    "      (\"scaler\",scaler,num)])\n",
    "\n",
    "\n",
    "X_train_pre=ct.fit_transform(X_train)\n",
    "X_test_pre=ct.transform(X_test)\n",
    "\n"
   ]
  },
  {
   "cell_type": "code",
   "execution_count": 30,
   "id": "aee95699",
   "metadata": {
    "scrolled": true
   },
   "outputs": [],
   "source": [
    "df_train=pd.DataFrame(X_train_pre,columns=ct.get_feature_names_out())"
   ]
  },
  {
   "cell_type": "code",
   "execution_count": 31,
   "id": "efcacbb8",
   "metadata": {},
   "outputs": [
    {
     "data": {
      "text/html": [
       "<div>\n",
       "<style scoped>\n",
       "    .dataframe tbody tr th:only-of-type {\n",
       "        vertical-align: middle;\n",
       "    }\n",
       "\n",
       "    .dataframe tbody tr th {\n",
       "        vertical-align: top;\n",
       "    }\n",
       "\n",
       "    .dataframe thead th {\n",
       "        text-align: right;\n",
       "    }\n",
       "</style>\n",
       "<table border=\"1\" class=\"dataframe\">\n",
       "  <thead>\n",
       "    <tr style=\"text-align: right;\">\n",
       "      <th></th>\n",
       "      <th>encoder__gender_F</th>\n",
       "      <th>encoder__gender_M</th>\n",
       "      <th>encoder__gender_O</th>\n",
       "      <th>encoder__event_offer completed</th>\n",
       "      <th>encoder__event_offer received</th>\n",
       "      <th>encoder__event_offer viewed</th>\n",
       "      <th>encoder__event_transaction</th>\n",
       "      <th>encoder__time_0</th>\n",
       "      <th>encoder__time_6</th>\n",
       "      <th>encoder__time_12</th>\n",
       "      <th>...</th>\n",
       "      <th>encoder__time_72</th>\n",
       "      <th>encoder__time_78</th>\n",
       "      <th>encoder__time_84</th>\n",
       "      <th>encoder__time_90</th>\n",
       "      <th>scaler__age</th>\n",
       "      <th>scaler__became_member_year</th>\n",
       "      <th>scaler__became_member_month</th>\n",
       "      <th>scaler__became_member_day</th>\n",
       "      <th>scaler__login_days</th>\n",
       "      <th>scaler__income</th>\n",
       "    </tr>\n",
       "  </thead>\n",
       "  <tbody>\n",
       "    <tr>\n",
       "      <th>0</th>\n",
       "      <td>1.0</td>\n",
       "      <td>0.0</td>\n",
       "      <td>0.0</td>\n",
       "      <td>0.0</td>\n",
       "      <td>0.0</td>\n",
       "      <td>0.0</td>\n",
       "      <td>1.0</td>\n",
       "      <td>0.0</td>\n",
       "      <td>0.0</td>\n",
       "      <td>0.0</td>\n",
       "      <td>...</td>\n",
       "      <td>0.0</td>\n",
       "      <td>0.0</td>\n",
       "      <td>0.0</td>\n",
       "      <td>0.0</td>\n",
       "      <td>2.220406</td>\n",
       "      <td>-2.901666</td>\n",
       "      <td>0.949219</td>\n",
       "      <td>1.034703</td>\n",
       "      <td>2.767402</td>\n",
       "      <td>-0.794713</td>\n",
       "    </tr>\n",
       "    <tr>\n",
       "      <th>1</th>\n",
       "      <td>1.0</td>\n",
       "      <td>0.0</td>\n",
       "      <td>0.0</td>\n",
       "      <td>0.0</td>\n",
       "      <td>0.0</td>\n",
       "      <td>0.0</td>\n",
       "      <td>1.0</td>\n",
       "      <td>0.0</td>\n",
       "      <td>0.0</td>\n",
       "      <td>0.0</td>\n",
       "      <td>...</td>\n",
       "      <td>0.0</td>\n",
       "      <td>0.0</td>\n",
       "      <td>0.0</td>\n",
       "      <td>0.0</td>\n",
       "      <td>-0.454022</td>\n",
       "      <td>1.232412</td>\n",
       "      <td>-0.194812</td>\n",
       "      <td>1.034703</td>\n",
       "      <td>-1.257373</td>\n",
       "      <td>-0.653433</td>\n",
       "    </tr>\n",
       "    <tr>\n",
       "      <th>2</th>\n",
       "      <td>0.0</td>\n",
       "      <td>1.0</td>\n",
       "      <td>0.0</td>\n",
       "      <td>0.0</td>\n",
       "      <td>0.0</td>\n",
       "      <td>0.0</td>\n",
       "      <td>1.0</td>\n",
       "      <td>0.0</td>\n",
       "      <td>0.0</td>\n",
       "      <td>0.0</td>\n",
       "      <td>...</td>\n",
       "      <td>0.0</td>\n",
       "      <td>0.0</td>\n",
       "      <td>0.0</td>\n",
       "      <td>0.0</td>\n",
       "      <td>0.911643</td>\n",
       "      <td>1.232412</td>\n",
       "      <td>-0.480819</td>\n",
       "      <td>1.489972</td>\n",
       "      <td>-1.193600</td>\n",
       "      <td>-0.465059</td>\n",
       "    </tr>\n",
       "    <tr>\n",
       "      <th>3</th>\n",
       "      <td>1.0</td>\n",
       "      <td>0.0</td>\n",
       "      <td>0.0</td>\n",
       "      <td>0.0</td>\n",
       "      <td>0.0</td>\n",
       "      <td>0.0</td>\n",
       "      <td>1.0</td>\n",
       "      <td>0.0</td>\n",
       "      <td>1.0</td>\n",
       "      <td>0.0</td>\n",
       "      <td>...</td>\n",
       "      <td>0.0</td>\n",
       "      <td>0.0</td>\n",
       "      <td>0.0</td>\n",
       "      <td>0.0</td>\n",
       "      <td>-1.307563</td>\n",
       "      <td>-0.421219</td>\n",
       "      <td>0.949219</td>\n",
       "      <td>0.010349</td>\n",
       "      <td>0.199954</td>\n",
       "      <td>-1.595302</td>\n",
       "    </tr>\n",
       "    <tr>\n",
       "      <th>4</th>\n",
       "      <td>1.0</td>\n",
       "      <td>0.0</td>\n",
       "      <td>0.0</td>\n",
       "      <td>1.0</td>\n",
       "      <td>0.0</td>\n",
       "      <td>0.0</td>\n",
       "      <td>0.0</td>\n",
       "      <td>0.0</td>\n",
       "      <td>1.0</td>\n",
       "      <td>0.0</td>\n",
       "      <td>...</td>\n",
       "      <td>0.0</td>\n",
       "      <td>0.0</td>\n",
       "      <td>0.0</td>\n",
       "      <td>0.0</td>\n",
       "      <td>-0.169508</td>\n",
       "      <td>-1.248035</td>\n",
       "      <td>0.377203</td>\n",
       "      <td>1.603789</td>\n",
       "      <td>1.175443</td>\n",
       "      <td>0.523904</td>\n",
       "    </tr>\n",
       "    <tr>\n",
       "      <th>...</th>\n",
       "      <td>...</td>\n",
       "      <td>...</td>\n",
       "      <td>...</td>\n",
       "      <td>...</td>\n",
       "      <td>...</td>\n",
       "      <td>...</td>\n",
       "      <td>...</td>\n",
       "      <td>...</td>\n",
       "      <td>...</td>\n",
       "      <td>...</td>\n",
       "      <td>...</td>\n",
       "      <td>...</td>\n",
       "      <td>...</td>\n",
       "      <td>...</td>\n",
       "      <td>...</td>\n",
       "      <td>...</td>\n",
       "      <td>...</td>\n",
       "      <td>...</td>\n",
       "      <td>...</td>\n",
       "      <td>...</td>\n",
       "      <td>...</td>\n",
       "    </tr>\n",
       "    <tr>\n",
       "      <th>39740</th>\n",
       "      <td>0.0</td>\n",
       "      <td>1.0</td>\n",
       "      <td>0.0</td>\n",
       "      <td>0.0</td>\n",
       "      <td>0.0</td>\n",
       "      <td>0.0</td>\n",
       "      <td>1.0</td>\n",
       "      <td>0.0</td>\n",
       "      <td>0.0</td>\n",
       "      <td>0.0</td>\n",
       "      <td>...</td>\n",
       "      <td>0.0</td>\n",
       "      <td>0.0</td>\n",
       "      <td>1.0</td>\n",
       "      <td>0.0</td>\n",
       "      <td>-1.136855</td>\n",
       "      <td>-2.074850</td>\n",
       "      <td>-1.624850</td>\n",
       "      <td>0.351801</td>\n",
       "      <td>2.564273</td>\n",
       "      <td>-0.276685</td>\n",
       "    </tr>\n",
       "    <tr>\n",
       "      <th>39741</th>\n",
       "      <td>0.0</td>\n",
       "      <td>1.0</td>\n",
       "      <td>0.0</td>\n",
       "      <td>0.0</td>\n",
       "      <td>0.0</td>\n",
       "      <td>0.0</td>\n",
       "      <td>1.0</td>\n",
       "      <td>0.0</td>\n",
       "      <td>0.0</td>\n",
       "      <td>0.0</td>\n",
       "      <td>...</td>\n",
       "      <td>0.0</td>\n",
       "      <td>0.0</td>\n",
       "      <td>0.0</td>\n",
       "      <td>0.0</td>\n",
       "      <td>0.058102</td>\n",
       "      <td>0.405596</td>\n",
       "      <td>0.663211</td>\n",
       "      <td>0.920886</td>\n",
       "      <td>-0.610197</td>\n",
       "      <td>0.853558</td>\n",
       "    </tr>\n",
       "    <tr>\n",
       "      <th>39742</th>\n",
       "      <td>1.0</td>\n",
       "      <td>0.0</td>\n",
       "      <td>0.0</td>\n",
       "      <td>0.0</td>\n",
       "      <td>1.0</td>\n",
       "      <td>0.0</td>\n",
       "      <td>0.0</td>\n",
       "      <td>1.0</td>\n",
       "      <td>0.0</td>\n",
       "      <td>0.0</td>\n",
       "      <td>...</td>\n",
       "      <td>0.0</td>\n",
       "      <td>0.0</td>\n",
       "      <td>0.0</td>\n",
       "      <td>0.0</td>\n",
       "      <td>-1.933493</td>\n",
       "      <td>-1.248035</td>\n",
       "      <td>1.521234</td>\n",
       "      <td>-1.241639</td>\n",
       "      <td>0.946333</td>\n",
       "      <td>0.005876</td>\n",
       "    </tr>\n",
       "    <tr>\n",
       "      <th>39743</th>\n",
       "      <td>0.0</td>\n",
       "      <td>0.0</td>\n",
       "      <td>1.0</td>\n",
       "      <td>0.0</td>\n",
       "      <td>0.0</td>\n",
       "      <td>0.0</td>\n",
       "      <td>1.0</td>\n",
       "      <td>0.0</td>\n",
       "      <td>0.0</td>\n",
       "      <td>1.0</td>\n",
       "      <td>...</td>\n",
       "      <td>0.0</td>\n",
       "      <td>0.0</td>\n",
       "      <td>0.0</td>\n",
       "      <td>0.0</td>\n",
       "      <td>-0.966147</td>\n",
       "      <td>-0.421219</td>\n",
       "      <td>-0.480819</td>\n",
       "      <td>0.010349</td>\n",
       "      <td>0.561334</td>\n",
       "      <td>0.241343</td>\n",
       "    </tr>\n",
       "    <tr>\n",
       "      <th>39744</th>\n",
       "      <td>0.0</td>\n",
       "      <td>1.0</td>\n",
       "      <td>0.0</td>\n",
       "      <td>0.0</td>\n",
       "      <td>0.0</td>\n",
       "      <td>0.0</td>\n",
       "      <td>1.0</td>\n",
       "      <td>0.0</td>\n",
       "      <td>0.0</td>\n",
       "      <td>0.0</td>\n",
       "      <td>...</td>\n",
       "      <td>0.0</td>\n",
       "      <td>0.0</td>\n",
       "      <td>0.0</td>\n",
       "      <td>0.0</td>\n",
       "      <td>1.651379</td>\n",
       "      <td>0.405596</td>\n",
       "      <td>0.949219</td>\n",
       "      <td>0.465618</td>\n",
       "      <td>-0.671608</td>\n",
       "      <td>-1.030181</td>\n",
       "    </tr>\n",
       "  </tbody>\n",
       "</table>\n",
       "<p>39745 rows × 29 columns</p>\n",
       "</div>"
      ],
      "text/plain": [
       "       encoder__gender_F  encoder__gender_M  encoder__gender_O  \\\n",
       "0                    1.0                0.0                0.0   \n",
       "1                    1.0                0.0                0.0   \n",
       "2                    0.0                1.0                0.0   \n",
       "3                    1.0                0.0                0.0   \n",
       "4                    1.0                0.0                0.0   \n",
       "...                  ...                ...                ...   \n",
       "39740                0.0                1.0                0.0   \n",
       "39741                0.0                1.0                0.0   \n",
       "39742                1.0                0.0                0.0   \n",
       "39743                0.0                0.0                1.0   \n",
       "39744                0.0                1.0                0.0   \n",
       "\n",
       "       encoder__event_offer completed  encoder__event_offer received  \\\n",
       "0                                 0.0                            0.0   \n",
       "1                                 0.0                            0.0   \n",
       "2                                 0.0                            0.0   \n",
       "3                                 0.0                            0.0   \n",
       "4                                 1.0                            0.0   \n",
       "...                               ...                            ...   \n",
       "39740                             0.0                            0.0   \n",
       "39741                             0.0                            0.0   \n",
       "39742                             0.0                            1.0   \n",
       "39743                             0.0                            0.0   \n",
       "39744                             0.0                            0.0   \n",
       "\n",
       "       encoder__event_offer viewed  encoder__event_transaction  \\\n",
       "0                              0.0                         1.0   \n",
       "1                              0.0                         1.0   \n",
       "2                              0.0                         1.0   \n",
       "3                              0.0                         1.0   \n",
       "4                              0.0                         0.0   \n",
       "...                            ...                         ...   \n",
       "39740                          0.0                         1.0   \n",
       "39741                          0.0                         1.0   \n",
       "39742                          0.0                         0.0   \n",
       "39743                          0.0                         1.0   \n",
       "39744                          0.0                         1.0   \n",
       "\n",
       "       encoder__time_0  encoder__time_6  encoder__time_12  ...  \\\n",
       "0                  0.0              0.0               0.0  ...   \n",
       "1                  0.0              0.0               0.0  ...   \n",
       "2                  0.0              0.0               0.0  ...   \n",
       "3                  0.0              1.0               0.0  ...   \n",
       "4                  0.0              1.0               0.0  ...   \n",
       "...                ...              ...               ...  ...   \n",
       "39740              0.0              0.0               0.0  ...   \n",
       "39741              0.0              0.0               0.0  ...   \n",
       "39742              1.0              0.0               0.0  ...   \n",
       "39743              0.0              0.0               1.0  ...   \n",
       "39744              0.0              0.0               0.0  ...   \n",
       "\n",
       "       encoder__time_72  encoder__time_78  encoder__time_84  encoder__time_90  \\\n",
       "0                   0.0               0.0               0.0               0.0   \n",
       "1                   0.0               0.0               0.0               0.0   \n",
       "2                   0.0               0.0               0.0               0.0   \n",
       "3                   0.0               0.0               0.0               0.0   \n",
       "4                   0.0               0.0               0.0               0.0   \n",
       "...                 ...               ...               ...               ...   \n",
       "39740               0.0               0.0               1.0               0.0   \n",
       "39741               0.0               0.0               0.0               0.0   \n",
       "39742               0.0               0.0               0.0               0.0   \n",
       "39743               0.0               0.0               0.0               0.0   \n",
       "39744               0.0               0.0               0.0               0.0   \n",
       "\n",
       "       scaler__age  scaler__became_member_year  scaler__became_member_month  \\\n",
       "0         2.220406                   -2.901666                     0.949219   \n",
       "1        -0.454022                    1.232412                    -0.194812   \n",
       "2         0.911643                    1.232412                    -0.480819   \n",
       "3        -1.307563                   -0.421219                     0.949219   \n",
       "4        -0.169508                   -1.248035                     0.377203   \n",
       "...            ...                         ...                          ...   \n",
       "39740    -1.136855                   -2.074850                    -1.624850   \n",
       "39741     0.058102                    0.405596                     0.663211   \n",
       "39742    -1.933493                   -1.248035                     1.521234   \n",
       "39743    -0.966147                   -0.421219                    -0.480819   \n",
       "39744     1.651379                    0.405596                     0.949219   \n",
       "\n",
       "       scaler__became_member_day  scaler__login_days  scaler__income  \n",
       "0                       1.034703            2.767402       -0.794713  \n",
       "1                       1.034703           -1.257373       -0.653433  \n",
       "2                       1.489972           -1.193600       -0.465059  \n",
       "3                       0.010349            0.199954       -1.595302  \n",
       "4                       1.603789            1.175443        0.523904  \n",
       "...                          ...                 ...             ...  \n",
       "39740                   0.351801            2.564273       -0.276685  \n",
       "39741                   0.920886           -0.610197        0.853558  \n",
       "39742                  -1.241639            0.946333        0.005876  \n",
       "39743                   0.010349            0.561334        0.241343  \n",
       "39744                   0.465618           -0.671608       -1.030181  \n",
       "\n",
       "[39745 rows x 29 columns]"
      ]
     },
     "execution_count": 31,
     "metadata": {},
     "output_type": "execute_result"
    }
   ],
   "source": [
    "df_train"
   ]
  },
  {
   "cell_type": "code",
   "execution_count": 32,
   "id": "27b73039",
   "metadata": {},
   "outputs": [
    {
     "data": {
      "text/plain": [
       "(39745, 29)"
      ]
     },
     "execution_count": 32,
     "metadata": {},
     "output_type": "execute_result"
    }
   ],
   "source": [
    "X_train_pre.shape"
   ]
  },
  {
   "cell_type": "code",
   "execution_count": 33,
   "id": "0d6f087e",
   "metadata": {},
   "outputs": [
    {
     "data": {
      "text/plain": [
       "(13249, 29)"
      ]
     },
     "execution_count": 33,
     "metadata": {},
     "output_type": "execute_result"
    }
   ],
   "source": [
    "X_test_pre.shape"
   ]
  },
  {
   "cell_type": "markdown",
   "id": "871c504e",
   "metadata": {},
   "source": [
    "----------------------------------------"
   ]
  },
  {
   "cell_type": "markdown",
   "id": "8dd259b9",
   "metadata": {},
   "source": [
    "###### 5) save function as binary file"
   ]
  },
  {
   "cell_type": "code",
   "execution_count": 34,
   "id": "54048b55",
   "metadata": {},
   "outputs": [],
   "source": [
    "import pickle\n",
    "\n",
    "preprocsser=pickle.dump(ct,open(\"preprocsser\",\"wb\"))"
   ]
  },
  {
   "cell_type": "markdown",
   "id": "48e436fa",
   "metadata": {},
   "source": [
    "-----------------------------------"
   ]
  },
  {
   "cell_type": "markdown",
   "id": "b87ca84b",
   "metadata": {},
   "source": [
    "# Model "
   ]
  },
  {
   "cell_type": "markdown",
   "id": "78e23789",
   "metadata": {},
   "source": [
    "##### in Modeling process i will do\n",
    "1) Use Logstic regression as base model .\n",
    "\n",
    "2) Use Support vector machine (SVC)\n",
    "\n",
    "3) Use KNN\n",
    "\n",
    "4) Use Descion Tree\n",
    "\n",
    "5) Use Random forest\n",
    "\n",
    "6) Use XG Boost\n",
    "\n",
    "7) Use Voting Ensemble method\n",
    "\n",
    "8) Use Bagging method\n",
    "\n",
    "9) Model Evalution and select best model\n",
    "\n",
    "10) save model as binary file"
   ]
  },
  {
   "cell_type": "markdown",
   "id": "5d372ffd",
   "metadata": {},
   "source": [
    "#### 1) Use Logstic regression as base model "
   ]
  },
  {
   "cell_type": "code",
   "execution_count": 35,
   "id": "784e0f56",
   "metadata": {},
   "outputs": [
    {
     "name": "stderr",
     "output_type": "stream",
     "text": [
      "/home/ramy/anaconda3/lib/python3.9/site-packages/sklearn/linear_model/_logistic.py:460: ConvergenceWarning: lbfgs failed to converge (status=1):\n",
      "STOP: TOTAL NO. of ITERATIONS REACHED LIMIT.\n",
      "\n",
      "Increase the number of iterations (max_iter) or scale the data as shown in:\n",
      "    https://scikit-learn.org/stable/modules/preprocessing.html\n",
      "Please also refer to the documentation for alternative solver options:\n",
      "    https://scikit-learn.org/stable/modules/linear_model.html#logistic-regression\n",
      "  n_iter_i = _check_optimize_result(\n"
     ]
    },
    {
     "data": {
      "text/html": [
       "<style>#sk-container-id-1 {color: black;}#sk-container-id-1 pre{padding: 0;}#sk-container-id-1 div.sk-toggleable {background-color: white;}#sk-container-id-1 label.sk-toggleable__label {cursor: pointer;display: block;width: 100%;margin-bottom: 0;padding: 0.3em;box-sizing: border-box;text-align: center;}#sk-container-id-1 label.sk-toggleable__label-arrow:before {content: \"▸\";float: left;margin-right: 0.25em;color: #696969;}#sk-container-id-1 label.sk-toggleable__label-arrow:hover:before {color: black;}#sk-container-id-1 div.sk-estimator:hover label.sk-toggleable__label-arrow:before {color: black;}#sk-container-id-1 div.sk-toggleable__content {max-height: 0;max-width: 0;overflow: hidden;text-align: left;background-color: #f0f8ff;}#sk-container-id-1 div.sk-toggleable__content pre {margin: 0.2em;color: black;border-radius: 0.25em;background-color: #f0f8ff;}#sk-container-id-1 input.sk-toggleable__control:checked~div.sk-toggleable__content {max-height: 200px;max-width: 100%;overflow: auto;}#sk-container-id-1 input.sk-toggleable__control:checked~label.sk-toggleable__label-arrow:before {content: \"▾\";}#sk-container-id-1 div.sk-estimator input.sk-toggleable__control:checked~label.sk-toggleable__label {background-color: #d4ebff;}#sk-container-id-1 div.sk-label input.sk-toggleable__control:checked~label.sk-toggleable__label {background-color: #d4ebff;}#sk-container-id-1 input.sk-hidden--visually {border: 0;clip: rect(1px 1px 1px 1px);clip: rect(1px, 1px, 1px, 1px);height: 1px;margin: -1px;overflow: hidden;padding: 0;position: absolute;width: 1px;}#sk-container-id-1 div.sk-estimator {font-family: monospace;background-color: #f0f8ff;border: 1px dotted black;border-radius: 0.25em;box-sizing: border-box;margin-bottom: 0.5em;}#sk-container-id-1 div.sk-estimator:hover {background-color: #d4ebff;}#sk-container-id-1 div.sk-parallel-item::after {content: \"\";width: 100%;border-bottom: 1px solid gray;flex-grow: 1;}#sk-container-id-1 div.sk-label:hover label.sk-toggleable__label {background-color: #d4ebff;}#sk-container-id-1 div.sk-serial::before {content: \"\";position: absolute;border-left: 1px solid gray;box-sizing: border-box;top: 0;bottom: 0;left: 50%;z-index: 0;}#sk-container-id-1 div.sk-serial {display: flex;flex-direction: column;align-items: center;background-color: white;padding-right: 0.2em;padding-left: 0.2em;position: relative;}#sk-container-id-1 div.sk-item {position: relative;z-index: 1;}#sk-container-id-1 div.sk-parallel {display: flex;align-items: stretch;justify-content: center;background-color: white;position: relative;}#sk-container-id-1 div.sk-item::before, #sk-container-id-1 div.sk-parallel-item::before {content: \"\";position: absolute;border-left: 1px solid gray;box-sizing: border-box;top: 0;bottom: 0;left: 50%;z-index: -1;}#sk-container-id-1 div.sk-parallel-item {display: flex;flex-direction: column;z-index: 1;position: relative;background-color: white;}#sk-container-id-1 div.sk-parallel-item:first-child::after {align-self: flex-end;width: 50%;}#sk-container-id-1 div.sk-parallel-item:last-child::after {align-self: flex-start;width: 50%;}#sk-container-id-1 div.sk-parallel-item:only-child::after {width: 0;}#sk-container-id-1 div.sk-dashed-wrapped {border: 1px dashed gray;margin: 0 0.4em 0.5em 0.4em;box-sizing: border-box;padding-bottom: 0.4em;background-color: white;}#sk-container-id-1 div.sk-label label {font-family: monospace;font-weight: bold;display: inline-block;line-height: 1.2em;}#sk-container-id-1 div.sk-label-container {text-align: center;}#sk-container-id-1 div.sk-container {/* jupyter's `normalize.less` sets `[hidden] { display: none; }` but bootstrap.min.css set `[hidden] { display: none !important; }` so we also need the `!important` here to be able to override the default hidden behavior on the sphinx rendered scikit-learn.org. See: https://github.com/scikit-learn/scikit-learn/issues/21755 */display: inline-block !important;position: relative;}#sk-container-id-1 div.sk-text-repr-fallback {display: none;}</style><div id=\"sk-container-id-1\" class=\"sk-top-container\"><div class=\"sk-text-repr-fallback\"><pre>LogisticRegression()</pre><b>In a Jupyter environment, please rerun this cell to show the HTML representation or trust the notebook. <br />On GitHub, the HTML representation is unable to render, please try loading this page with nbviewer.org.</b></div><div class=\"sk-container\" hidden><div class=\"sk-item\"><div class=\"sk-estimator sk-toggleable\"><input class=\"sk-toggleable__control sk-hidden--visually\" id=\"sk-estimator-id-1\" type=\"checkbox\" checked><label for=\"sk-estimator-id-1\" class=\"sk-toggleable__label sk-toggleable__label-arrow\">LogisticRegression</label><div class=\"sk-toggleable__content\"><pre>LogisticRegression()</pre></div></div></div></div></div>"
      ],
      "text/plain": [
       "LogisticRegression()"
      ]
     },
     "execution_count": 35,
     "metadata": {},
     "output_type": "execute_result"
    }
   ],
   "source": [
    "from sklearn.linear_model import LogisticRegression\n",
    "base=LogisticRegression()\n",
    "\n",
    "base.fit(X_train_pre,y_train)"
   ]
  },
  {
   "cell_type": "code",
   "execution_count": 36,
   "id": "a6b78f63",
   "metadata": {},
   "outputs": [
    {
     "data": {
      "text/plain": [
       "0.43935391350290587"
      ]
     },
     "execution_count": 36,
     "metadata": {},
     "output_type": "execute_result"
    }
   ],
   "source": [
    "base_score=base.score(X_test_pre,y_test)\n",
    "base_score"
   ]
  },
  {
   "cell_type": "code",
   "execution_count": 37,
   "id": "81dab8f0",
   "metadata": {},
   "outputs": [
    {
     "name": "stdout",
     "output_type": "stream",
     "text": [
      "              precision    recall  f1-score   support\n",
      "\n",
      "           0       1.00      1.00      1.00      4814\n",
      "           1       0.11      0.23      0.15       673\n",
      "           2       0.17      0.03      0.06       925\n",
      "           3       0.08      0.04      0.05       731\n",
      "           4       0.12      0.10      0.11       738\n",
      "           5       0.11      0.04      0.06       919\n",
      "           6       0.12      0.06      0.08       881\n",
      "           7       0.11      0.05      0.06       710\n",
      "           8       0.11      0.25      0.15       915\n",
      "           9       0.14      0.14      0.14       956\n",
      "          10       0.14      0.25      0.17       987\n",
      "\n",
      "    accuracy                           0.44     13249\n",
      "   macro avg       0.20      0.20      0.18     13249\n",
      "weighted avg       0.44      0.44      0.43     13249\n",
      "\n"
     ]
    }
   ],
   "source": [
    "from sklearn.metrics import classification_report\n",
    "#classification_report\n",
    "y_pred=base.predict(X_test_pre)\n",
    "\n",
    "print(classification_report(y_test, y_pred))\n"
   ]
  },
  {
   "cell_type": "markdown",
   "id": "4edffa53",
   "metadata": {},
   "source": [
    "-----------------------------------"
   ]
  },
  {
   "cell_type": "markdown",
   "id": "450a3721",
   "metadata": {},
   "source": [
    "###### 2) Use Support vector machine (SVC)"
   ]
  },
  {
   "cell_type": "code",
   "execution_count": 38,
   "id": "90fba2f2",
   "metadata": {},
   "outputs": [
    {
     "data": {
      "text/html": [
       "<style>#sk-container-id-2 {color: black;}#sk-container-id-2 pre{padding: 0;}#sk-container-id-2 div.sk-toggleable {background-color: white;}#sk-container-id-2 label.sk-toggleable__label {cursor: pointer;display: block;width: 100%;margin-bottom: 0;padding: 0.3em;box-sizing: border-box;text-align: center;}#sk-container-id-2 label.sk-toggleable__label-arrow:before {content: \"▸\";float: left;margin-right: 0.25em;color: #696969;}#sk-container-id-2 label.sk-toggleable__label-arrow:hover:before {color: black;}#sk-container-id-2 div.sk-estimator:hover label.sk-toggleable__label-arrow:before {color: black;}#sk-container-id-2 div.sk-toggleable__content {max-height: 0;max-width: 0;overflow: hidden;text-align: left;background-color: #f0f8ff;}#sk-container-id-2 div.sk-toggleable__content pre {margin: 0.2em;color: black;border-radius: 0.25em;background-color: #f0f8ff;}#sk-container-id-2 input.sk-toggleable__control:checked~div.sk-toggleable__content {max-height: 200px;max-width: 100%;overflow: auto;}#sk-container-id-2 input.sk-toggleable__control:checked~label.sk-toggleable__label-arrow:before {content: \"▾\";}#sk-container-id-2 div.sk-estimator input.sk-toggleable__control:checked~label.sk-toggleable__label {background-color: #d4ebff;}#sk-container-id-2 div.sk-label input.sk-toggleable__control:checked~label.sk-toggleable__label {background-color: #d4ebff;}#sk-container-id-2 input.sk-hidden--visually {border: 0;clip: rect(1px 1px 1px 1px);clip: rect(1px, 1px, 1px, 1px);height: 1px;margin: -1px;overflow: hidden;padding: 0;position: absolute;width: 1px;}#sk-container-id-2 div.sk-estimator {font-family: monospace;background-color: #f0f8ff;border: 1px dotted black;border-radius: 0.25em;box-sizing: border-box;margin-bottom: 0.5em;}#sk-container-id-2 div.sk-estimator:hover {background-color: #d4ebff;}#sk-container-id-2 div.sk-parallel-item::after {content: \"\";width: 100%;border-bottom: 1px solid gray;flex-grow: 1;}#sk-container-id-2 div.sk-label:hover label.sk-toggleable__label {background-color: #d4ebff;}#sk-container-id-2 div.sk-serial::before {content: \"\";position: absolute;border-left: 1px solid gray;box-sizing: border-box;top: 0;bottom: 0;left: 50%;z-index: 0;}#sk-container-id-2 div.sk-serial {display: flex;flex-direction: column;align-items: center;background-color: white;padding-right: 0.2em;padding-left: 0.2em;position: relative;}#sk-container-id-2 div.sk-item {position: relative;z-index: 1;}#sk-container-id-2 div.sk-parallel {display: flex;align-items: stretch;justify-content: center;background-color: white;position: relative;}#sk-container-id-2 div.sk-item::before, #sk-container-id-2 div.sk-parallel-item::before {content: \"\";position: absolute;border-left: 1px solid gray;box-sizing: border-box;top: 0;bottom: 0;left: 50%;z-index: -1;}#sk-container-id-2 div.sk-parallel-item {display: flex;flex-direction: column;z-index: 1;position: relative;background-color: white;}#sk-container-id-2 div.sk-parallel-item:first-child::after {align-self: flex-end;width: 50%;}#sk-container-id-2 div.sk-parallel-item:last-child::after {align-self: flex-start;width: 50%;}#sk-container-id-2 div.sk-parallel-item:only-child::after {width: 0;}#sk-container-id-2 div.sk-dashed-wrapped {border: 1px dashed gray;margin: 0 0.4em 0.5em 0.4em;box-sizing: border-box;padding-bottom: 0.4em;background-color: white;}#sk-container-id-2 div.sk-label label {font-family: monospace;font-weight: bold;display: inline-block;line-height: 1.2em;}#sk-container-id-2 div.sk-label-container {text-align: center;}#sk-container-id-2 div.sk-container {/* jupyter's `normalize.less` sets `[hidden] { display: none; }` but bootstrap.min.css set `[hidden] { display: none !important; }` so we also need the `!important` here to be able to override the default hidden behavior on the sphinx rendered scikit-learn.org. See: https://github.com/scikit-learn/scikit-learn/issues/21755 */display: inline-block !important;position: relative;}#sk-container-id-2 div.sk-text-repr-fallback {display: none;}</style><div id=\"sk-container-id-2\" class=\"sk-top-container\"><div class=\"sk-text-repr-fallback\"><pre>SVC()</pre><b>In a Jupyter environment, please rerun this cell to show the HTML representation or trust the notebook. <br />On GitHub, the HTML representation is unable to render, please try loading this page with nbviewer.org.</b></div><div class=\"sk-container\" hidden><div class=\"sk-item\"><div class=\"sk-estimator sk-toggleable\"><input class=\"sk-toggleable__control sk-hidden--visually\" id=\"sk-estimator-id-2\" type=\"checkbox\" checked><label for=\"sk-estimator-id-2\" class=\"sk-toggleable__label sk-toggleable__label-arrow\">SVC</label><div class=\"sk-toggleable__content\"><pre>SVC()</pre></div></div></div></div></div>"
      ],
      "text/plain": [
       "SVC()"
      ]
     },
     "execution_count": 38,
     "metadata": {},
     "output_type": "execute_result"
    }
   ],
   "source": [
    "\n",
    "from sklearn.svm import SVC\n",
    "svc=SVC()\n",
    "svc.fit(X_train_pre,y_train)\n"
   ]
  },
  {
   "cell_type": "code",
   "execution_count": 39,
   "id": "e24072e6",
   "metadata": {},
   "outputs": [
    {
     "data": {
      "text/plain": [
       "0.4522605479658842"
      ]
     },
     "execution_count": 39,
     "metadata": {},
     "output_type": "execute_result"
    }
   ],
   "source": [
    "svc_score=svc.score(X_test_pre,y_test)\n",
    "svc_score"
   ]
  },
  {
   "cell_type": "code",
   "execution_count": 40,
   "id": "4a708157",
   "metadata": {},
   "outputs": [
    {
     "name": "stdout",
     "output_type": "stream",
     "text": [
      "              precision    recall  f1-score   support\n",
      "\n",
      "           0       1.00      1.00      1.00      4814\n",
      "           1       0.11      0.15      0.13       673\n",
      "           2       0.16      0.20      0.17       925\n",
      "           3       0.11      0.09      0.10       731\n",
      "           4       0.08      0.06      0.07       738\n",
      "           5       0.14      0.14      0.14       919\n",
      "           6       0.14      0.11      0.12       881\n",
      "           7       0.16      0.07      0.10       710\n",
      "           8       0.16      0.17      0.17       915\n",
      "           9       0.14      0.16      0.15       956\n",
      "          10       0.17      0.20      0.18       987\n",
      "\n",
      "    accuracy                           0.45     13249\n",
      "   macro avg       0.21      0.21      0.21     13249\n",
      "weighted avg       0.45      0.45      0.45     13249\n",
      "\n"
     ]
    }
   ],
   "source": [
    "\n",
    "#classification_report\n",
    "y_scv_pred=svc.predict(X_test_pre)\n",
    "\n",
    "print(classification_report(y_test, y_scv_pred))\n"
   ]
  },
  {
   "cell_type": "markdown",
   "id": "623d57d9",
   "metadata": {},
   "source": [
    "-----------------------------"
   ]
  },
  {
   "cell_type": "markdown",
   "id": "f503a32f",
   "metadata": {},
   "source": [
    "###### 3) Use KNN"
   ]
  },
  {
   "cell_type": "code",
   "execution_count": 41,
   "id": "a755d711",
   "metadata": {},
   "outputs": [
    {
     "data": {
      "text/html": [
       "<style>#sk-container-id-3 {color: black;}#sk-container-id-3 pre{padding: 0;}#sk-container-id-3 div.sk-toggleable {background-color: white;}#sk-container-id-3 label.sk-toggleable__label {cursor: pointer;display: block;width: 100%;margin-bottom: 0;padding: 0.3em;box-sizing: border-box;text-align: center;}#sk-container-id-3 label.sk-toggleable__label-arrow:before {content: \"▸\";float: left;margin-right: 0.25em;color: #696969;}#sk-container-id-3 label.sk-toggleable__label-arrow:hover:before {color: black;}#sk-container-id-3 div.sk-estimator:hover label.sk-toggleable__label-arrow:before {color: black;}#sk-container-id-3 div.sk-toggleable__content {max-height: 0;max-width: 0;overflow: hidden;text-align: left;background-color: #f0f8ff;}#sk-container-id-3 div.sk-toggleable__content pre {margin: 0.2em;color: black;border-radius: 0.25em;background-color: #f0f8ff;}#sk-container-id-3 input.sk-toggleable__control:checked~div.sk-toggleable__content {max-height: 200px;max-width: 100%;overflow: auto;}#sk-container-id-3 input.sk-toggleable__control:checked~label.sk-toggleable__label-arrow:before {content: \"▾\";}#sk-container-id-3 div.sk-estimator input.sk-toggleable__control:checked~label.sk-toggleable__label {background-color: #d4ebff;}#sk-container-id-3 div.sk-label input.sk-toggleable__control:checked~label.sk-toggleable__label {background-color: #d4ebff;}#sk-container-id-3 input.sk-hidden--visually {border: 0;clip: rect(1px 1px 1px 1px);clip: rect(1px, 1px, 1px, 1px);height: 1px;margin: -1px;overflow: hidden;padding: 0;position: absolute;width: 1px;}#sk-container-id-3 div.sk-estimator {font-family: monospace;background-color: #f0f8ff;border: 1px dotted black;border-radius: 0.25em;box-sizing: border-box;margin-bottom: 0.5em;}#sk-container-id-3 div.sk-estimator:hover {background-color: #d4ebff;}#sk-container-id-3 div.sk-parallel-item::after {content: \"\";width: 100%;border-bottom: 1px solid gray;flex-grow: 1;}#sk-container-id-3 div.sk-label:hover label.sk-toggleable__label {background-color: #d4ebff;}#sk-container-id-3 div.sk-serial::before {content: \"\";position: absolute;border-left: 1px solid gray;box-sizing: border-box;top: 0;bottom: 0;left: 50%;z-index: 0;}#sk-container-id-3 div.sk-serial {display: flex;flex-direction: column;align-items: center;background-color: white;padding-right: 0.2em;padding-left: 0.2em;position: relative;}#sk-container-id-3 div.sk-item {position: relative;z-index: 1;}#sk-container-id-3 div.sk-parallel {display: flex;align-items: stretch;justify-content: center;background-color: white;position: relative;}#sk-container-id-3 div.sk-item::before, #sk-container-id-3 div.sk-parallel-item::before {content: \"\";position: absolute;border-left: 1px solid gray;box-sizing: border-box;top: 0;bottom: 0;left: 50%;z-index: -1;}#sk-container-id-3 div.sk-parallel-item {display: flex;flex-direction: column;z-index: 1;position: relative;background-color: white;}#sk-container-id-3 div.sk-parallel-item:first-child::after {align-self: flex-end;width: 50%;}#sk-container-id-3 div.sk-parallel-item:last-child::after {align-self: flex-start;width: 50%;}#sk-container-id-3 div.sk-parallel-item:only-child::after {width: 0;}#sk-container-id-3 div.sk-dashed-wrapped {border: 1px dashed gray;margin: 0 0.4em 0.5em 0.4em;box-sizing: border-box;padding-bottom: 0.4em;background-color: white;}#sk-container-id-3 div.sk-label label {font-family: monospace;font-weight: bold;display: inline-block;line-height: 1.2em;}#sk-container-id-3 div.sk-label-container {text-align: center;}#sk-container-id-3 div.sk-container {/* jupyter's `normalize.less` sets `[hidden] { display: none; }` but bootstrap.min.css set `[hidden] { display: none !important; }` so we also need the `!important` here to be able to override the default hidden behavior on the sphinx rendered scikit-learn.org. See: https://github.com/scikit-learn/scikit-learn/issues/21755 */display: inline-block !important;position: relative;}#sk-container-id-3 div.sk-text-repr-fallback {display: none;}</style><div id=\"sk-container-id-3\" class=\"sk-top-container\"><div class=\"sk-text-repr-fallback\"><pre>RandomizedSearchCV(cv=3, estimator=KNeighborsClassifier(),\n",
       "                   param_distributions=[{&#x27;n_neighbors&#x27;: [3, 5, 7, 9, 11, 13, 15,\n",
       "                                                         17, 19, 21, 23, 25, 27,\n",
       "                                                         29, 31],\n",
       "                                         &#x27;weights&#x27;: [&#x27;uniform&#x27;, &#x27;distance&#x27;]}])</pre><b>In a Jupyter environment, please rerun this cell to show the HTML representation or trust the notebook. <br />On GitHub, the HTML representation is unable to render, please try loading this page with nbviewer.org.</b></div><div class=\"sk-container\" hidden><div class=\"sk-item sk-dashed-wrapped\"><div class=\"sk-label-container\"><div class=\"sk-label sk-toggleable\"><input class=\"sk-toggleable__control sk-hidden--visually\" id=\"sk-estimator-id-3\" type=\"checkbox\" ><label for=\"sk-estimator-id-3\" class=\"sk-toggleable__label sk-toggleable__label-arrow\">RandomizedSearchCV</label><div class=\"sk-toggleable__content\"><pre>RandomizedSearchCV(cv=3, estimator=KNeighborsClassifier(),\n",
       "                   param_distributions=[{&#x27;n_neighbors&#x27;: [3, 5, 7, 9, 11, 13, 15,\n",
       "                                                         17, 19, 21, 23, 25, 27,\n",
       "                                                         29, 31],\n",
       "                                         &#x27;weights&#x27;: [&#x27;uniform&#x27;, &#x27;distance&#x27;]}])</pre></div></div></div><div class=\"sk-parallel\"><div class=\"sk-parallel-item\"><div class=\"sk-item\"><div class=\"sk-label-container\"><div class=\"sk-label sk-toggleable\"><input class=\"sk-toggleable__control sk-hidden--visually\" id=\"sk-estimator-id-4\" type=\"checkbox\" ><label for=\"sk-estimator-id-4\" class=\"sk-toggleable__label sk-toggleable__label-arrow\">estimator: KNeighborsClassifier</label><div class=\"sk-toggleable__content\"><pre>KNeighborsClassifier()</pre></div></div></div><div class=\"sk-serial\"><div class=\"sk-item\"><div class=\"sk-estimator sk-toggleable\"><input class=\"sk-toggleable__control sk-hidden--visually\" id=\"sk-estimator-id-5\" type=\"checkbox\" ><label for=\"sk-estimator-id-5\" class=\"sk-toggleable__label sk-toggleable__label-arrow\">KNeighborsClassifier</label><div class=\"sk-toggleable__content\"><pre>KNeighborsClassifier()</pre></div></div></div></div></div></div></div></div></div></div>"
      ],
      "text/plain": [
       "RandomizedSearchCV(cv=3, estimator=KNeighborsClassifier(),\n",
       "                   param_distributions=[{'n_neighbors': [3, 5, 7, 9, 11, 13, 15,\n",
       "                                                         17, 19, 21, 23, 25, 27,\n",
       "                                                         29, 31],\n",
       "                                         'weights': ['uniform', 'distance']}])"
      ]
     },
     "execution_count": 41,
     "metadata": {},
     "output_type": "execute_result"
    }
   ],
   "source": [
    "from sklearn.model_selection import RandomizedSearchCV\n",
    "from sklearn.neighbors import KNeighborsClassifier\n",
    "#hyperparmaret\n",
    "\n",
    "knn_parameter=[{\"n_neighbors\":[x for x in range(3,33,2)],\n",
    "               \"weights\":[\"uniform\",\"distance\"],\n",
    "               }\n",
    "                \n",
    "              ]\n",
    "\n",
    "knn=RandomizedSearchCV(estimator=KNeighborsClassifier(),param_distributions=knn_parameter,cv=3)\n",
    "\n",
    "#fit\n",
    "knn.fit(X_train_pre,y_train)"
   ]
  },
  {
   "cell_type": "code",
   "execution_count": 42,
   "id": "3bbc4ac1",
   "metadata": {},
   "outputs": [
    {
     "name": "stdout",
     "output_type": "stream",
     "text": [
      "Best parameter in KNN {'weights': 'distance', 'n_neighbors': 31}\n",
      "Best score in KNN 0.6866020917143931\n"
     ]
    }
   ],
   "source": [
    "#best parameter\n",
    "print(\"Best parameter in KNN\",knn.best_params_)\n",
    "print(\"Best score in KNN\",knn.best_score_)"
   ]
  },
  {
   "cell_type": "code",
   "execution_count": 43,
   "id": "5699386e",
   "metadata": {},
   "outputs": [
    {
     "name": "stdout",
     "output_type": "stream",
     "text": [
      "Score of KNN =  0.6866020917143931\n"
     ]
    }
   ],
   "source": [
    "#score\n",
    "knn_score=knn.best_score_\n",
    "print(\"Score of KNN = \",knn_score)"
   ]
  },
  {
   "cell_type": "code",
   "execution_count": 44,
   "id": "e814e6a8",
   "metadata": {},
   "outputs": [],
   "source": [
    "knn=knn.best_estimator_"
   ]
  },
  {
   "cell_type": "code",
   "execution_count": 45,
   "id": "08a0ce71",
   "metadata": {},
   "outputs": [
    {
     "name": "stdout",
     "output_type": "stream",
     "text": [
      "              precision    recall  f1-score   support\n",
      "\n",
      "           0       0.99      1.00      1.00      4814\n",
      "           1       0.77      0.71      0.74       673\n",
      "           2       0.65      0.70      0.68       925\n",
      "           3       0.82      0.69      0.75       731\n",
      "           4       0.75      0.67      0.71       738\n",
      "           5       0.66      0.70      0.68       919\n",
      "           6       0.70      0.67      0.69       881\n",
      "           7       0.80      0.69      0.74       710\n",
      "           8       0.68      0.69      0.68       915\n",
      "           9       0.65      0.70      0.67       956\n",
      "          10       0.66      0.75      0.70       987\n",
      "\n",
      "    accuracy                           0.81     13249\n",
      "   macro avg       0.74      0.72      0.73     13249\n",
      "weighted avg       0.81      0.81      0.81     13249\n",
      "\n"
     ]
    }
   ],
   "source": [
    "#classification_report\n",
    "y_knn_pred=knn.predict(X_test_pre)\n",
    "\n",
    "print(classification_report(y_test, y_knn_pred))"
   ]
  },
  {
   "cell_type": "markdown",
   "id": "bc931be3",
   "metadata": {},
   "source": [
    "-------------------"
   ]
  },
  {
   "cell_type": "markdown",
   "id": "038c56de",
   "metadata": {},
   "source": [
    "###### 4) Use Descion Tree"
   ]
  },
  {
   "cell_type": "code",
   "execution_count": 46,
   "id": "85862929",
   "metadata": {},
   "outputs": [
    {
     "name": "stderr",
     "output_type": "stream",
     "text": [
      "/home/ramy/anaconda3/lib/python3.9/site-packages/sklearn/model_selection/_validation.py:425: FitFailedWarning: \n",
      "270 fits failed out of a total of 810.\n",
      "The score on these train-test partitions for these parameters will be set to nan.\n",
      "If these failures are not expected, you can try to debug them by setting error_score='raise'.\n",
      "\n",
      "Below are more details about the failures:\n",
      "--------------------------------------------------------------------------------\n",
      "270 fits failed with the following error:\n",
      "Traceback (most recent call last):\n",
      "  File \"/home/ramy/anaconda3/lib/python3.9/site-packages/sklearn/model_selection/_validation.py\", line 732, in _fit_and_score\n",
      "    estimator.fit(X_train, y_train, **fit_params)\n",
      "  File \"/home/ramy/anaconda3/lib/python3.9/site-packages/sklearn/base.py\", line 1144, in wrapper\n",
      "    estimator._validate_params()\n",
      "  File \"/home/ramy/anaconda3/lib/python3.9/site-packages/sklearn/base.py\", line 637, in _validate_params\n",
      "    validate_parameter_constraints(\n",
      "  File \"/home/ramy/anaconda3/lib/python3.9/site-packages/sklearn/utils/_param_validation.py\", line 95, in validate_parameter_constraints\n",
      "    raise InvalidParameterError(\n",
      "sklearn.utils._param_validation.InvalidParameterError: The 'min_samples_split' parameter of DecisionTreeClassifier must be an int in the range [2, inf) or a float in the range (0.0, 1.0]. Got 1 instead.\n",
      "\n",
      "  warnings.warn(some_fits_failed_message, FitFailedWarning)\n",
      "/home/ramy/anaconda3/lib/python3.9/site-packages/sklearn/model_selection/_search.py:976: UserWarning: One or more of the test scores are non-finite: [       nan        nan 0.3633413  0.3633413  0.3633413  0.3633413\n",
      "        nan        nan 0.43748903 0.43748903 0.43748903 0.43748903\n",
      "        nan        nan 0.43766515 0.43769031 0.43766515 0.43769031\n",
      "        nan        nan 0.43899865 0.43960245 0.43899865 0.43960245\n",
      "        nan        nan 0.44231985 0.44231972 0.44229469 0.44365325\n",
      "        nan        nan 0.45042149 0.45213235 0.4504215  0.45027049\n",
      "        nan        nan 0.46363074 0.46410873 0.4620708  0.46425973\n",
      "        nan        nan 0.48413662 0.49349594 0.48136897 0.48896712\n",
      "        nan        nan 0.51304605 0.52806684 0.5053721  0.51780109\n",
      "        nan        nan 0.54381739 0.56049817 0.53204223 0.56027149\n",
      "        nan        nan 0.57624927 0.61147312 0.5596181  0.5910682\n",
      "        nan        nan 0.60714605 0.62996637 0.58442612 0.61333517\n",
      "        nan        nan 0.63157676 0.66677576 0.60405115 0.62677067\n",
      "        nan        nan 0.6514533  0.67678966 0.62012854 0.63056992\n",
      "        nan        nan 0.66350504 0.66657505 0.63039389 0.63409234\n",
      "        nan        nan 0.3633413  0.3633413  0.3633413  0.3633413\n",
      "        nan        nan 0.43748903 0.43748903 0.43748903 0.43748903\n",
      "        nan        nan 0.43839479 0.43809286 0.43839479 0.43809286\n",
      "        nan        nan 0.44008056 0.4394767  0.44008056 0.4394767\n",
      "        nan        nan 0.44332632 0.44423201 0.44337664 0.44380431\n",
      "        nan        nan 0.45339047 0.4503963  0.45341564 0.45190593\n",
      "        nan        nan 0.47158148 0.46808412 0.47029831 0.46954342\n",
      "        nan        nan 0.49908216 0.50054097 0.49550935 0.49055228\n",
      "        nan        nan 0.53121213 0.54625741 0.52389041 0.52801605\n",
      "        nan        nan 0.56414722 0.59089189 0.55214561 0.56656188\n",
      "        nan        nan 0.5914463  0.62138651 0.57562035 0.59320671\n",
      "        nan        nan 0.6159526  0.65228304 0.59532096 0.6109947\n",
      "        nan        nan 0.63331325 0.66886427 0.60963719 0.62916087\n",
      "        nan        nan 0.64745345 0.6780223  0.62075812 0.63094723\n",
      "        nan        nan 0.65809618 0.67958233 0.62976541 0.63489762\n",
      "        nan        nan 0.3633413  0.3633413  0.3633413  0.3633413\n",
      "        nan        nan 0.43748903 0.43748903 0.43748903 0.43748903\n",
      "        nan        nan 0.43839479 0.43809286 0.43839479 0.43809286\n",
      "        nan        nan 0.44008056 0.4394767  0.44008056 0.4394767\n",
      "        nan        nan 0.44332632 0.44423201 0.44337664 0.44380431\n",
      "        nan        nan 0.45339047 0.4503963  0.45341564 0.45190593\n",
      "        nan        nan 0.47158148 0.46808412 0.47029831 0.46954342\n",
      "        nan        nan 0.49908216 0.50054097 0.49550935 0.49055228\n",
      "        nan        nan 0.53121213 0.54625741 0.52389041 0.52801605\n",
      "        nan        nan 0.56414722 0.59089189 0.55214561 0.56656188\n",
      "        nan        nan 0.5914463  0.62138651 0.57562035 0.59320671\n",
      "        nan        nan 0.6159526  0.65228304 0.59532096 0.6109947\n",
      "        nan        nan 0.63331325 0.66886427 0.60963719 0.62916087\n",
      "        nan        nan 0.64745345 0.6780223  0.62075812 0.63094723\n",
      "        nan        nan 0.65809618 0.67958233 0.62976541 0.63489762]\n",
      "  warnings.warn(\n"
     ]
    },
    {
     "data": {
      "text/html": [
       "<style>#sk-container-id-4 {color: black;}#sk-container-id-4 pre{padding: 0;}#sk-container-id-4 div.sk-toggleable {background-color: white;}#sk-container-id-4 label.sk-toggleable__label {cursor: pointer;display: block;width: 100%;margin-bottom: 0;padding: 0.3em;box-sizing: border-box;text-align: center;}#sk-container-id-4 label.sk-toggleable__label-arrow:before {content: \"▸\";float: left;margin-right: 0.25em;color: #696969;}#sk-container-id-4 label.sk-toggleable__label-arrow:hover:before {color: black;}#sk-container-id-4 div.sk-estimator:hover label.sk-toggleable__label-arrow:before {color: black;}#sk-container-id-4 div.sk-toggleable__content {max-height: 0;max-width: 0;overflow: hidden;text-align: left;background-color: #f0f8ff;}#sk-container-id-4 div.sk-toggleable__content pre {margin: 0.2em;color: black;border-radius: 0.25em;background-color: #f0f8ff;}#sk-container-id-4 input.sk-toggleable__control:checked~div.sk-toggleable__content {max-height: 200px;max-width: 100%;overflow: auto;}#sk-container-id-4 input.sk-toggleable__control:checked~label.sk-toggleable__label-arrow:before {content: \"▾\";}#sk-container-id-4 div.sk-estimator input.sk-toggleable__control:checked~label.sk-toggleable__label {background-color: #d4ebff;}#sk-container-id-4 div.sk-label input.sk-toggleable__control:checked~label.sk-toggleable__label {background-color: #d4ebff;}#sk-container-id-4 input.sk-hidden--visually {border: 0;clip: rect(1px 1px 1px 1px);clip: rect(1px, 1px, 1px, 1px);height: 1px;margin: -1px;overflow: hidden;padding: 0;position: absolute;width: 1px;}#sk-container-id-4 div.sk-estimator {font-family: monospace;background-color: #f0f8ff;border: 1px dotted black;border-radius: 0.25em;box-sizing: border-box;margin-bottom: 0.5em;}#sk-container-id-4 div.sk-estimator:hover {background-color: #d4ebff;}#sk-container-id-4 div.sk-parallel-item::after {content: \"\";width: 100%;border-bottom: 1px solid gray;flex-grow: 1;}#sk-container-id-4 div.sk-label:hover label.sk-toggleable__label {background-color: #d4ebff;}#sk-container-id-4 div.sk-serial::before {content: \"\";position: absolute;border-left: 1px solid gray;box-sizing: border-box;top: 0;bottom: 0;left: 50%;z-index: 0;}#sk-container-id-4 div.sk-serial {display: flex;flex-direction: column;align-items: center;background-color: white;padding-right: 0.2em;padding-left: 0.2em;position: relative;}#sk-container-id-4 div.sk-item {position: relative;z-index: 1;}#sk-container-id-4 div.sk-parallel {display: flex;align-items: stretch;justify-content: center;background-color: white;position: relative;}#sk-container-id-4 div.sk-item::before, #sk-container-id-4 div.sk-parallel-item::before {content: \"\";position: absolute;border-left: 1px solid gray;box-sizing: border-box;top: 0;bottom: 0;left: 50%;z-index: -1;}#sk-container-id-4 div.sk-parallel-item {display: flex;flex-direction: column;z-index: 1;position: relative;background-color: white;}#sk-container-id-4 div.sk-parallel-item:first-child::after {align-self: flex-end;width: 50%;}#sk-container-id-4 div.sk-parallel-item:last-child::after {align-self: flex-start;width: 50%;}#sk-container-id-4 div.sk-parallel-item:only-child::after {width: 0;}#sk-container-id-4 div.sk-dashed-wrapped {border: 1px dashed gray;margin: 0 0.4em 0.5em 0.4em;box-sizing: border-box;padding-bottom: 0.4em;background-color: white;}#sk-container-id-4 div.sk-label label {font-family: monospace;font-weight: bold;display: inline-block;line-height: 1.2em;}#sk-container-id-4 div.sk-label-container {text-align: center;}#sk-container-id-4 div.sk-container {/* jupyter's `normalize.less` sets `[hidden] { display: none; }` but bootstrap.min.css set `[hidden] { display: none !important; }` so we also need the `!important` here to be able to override the default hidden behavior on the sphinx rendered scikit-learn.org. See: https://github.com/scikit-learn/scikit-learn/issues/21755 */display: inline-block !important;position: relative;}#sk-container-id-4 div.sk-text-repr-fallback {display: none;}</style><div id=\"sk-container-id-4\" class=\"sk-top-container\"><div class=\"sk-text-repr-fallback\"><pre>GridSearchCV(cv=3, estimator=DecisionTreeClassifier(random_state=0),\n",
       "             param_grid={&#x27;criterion&#x27;: [&#x27;gini&#x27;, &#x27;entropy&#x27;, &#x27;log_loss&#x27;],\n",
       "                         &#x27;max_depth&#x27;: [1, 3, 5, 7, 9, 11, 13, 15, 17, 19, 21,\n",
       "                                       23, 25, 27, 29],\n",
       "                         &#x27;min_samples_split&#x27;: [1, 2, 3],\n",
       "                         &#x27;splitter&#x27;: [&#x27;best&#x27;, &#x27;random&#x27;]})</pre><b>In a Jupyter environment, please rerun this cell to show the HTML representation or trust the notebook. <br />On GitHub, the HTML representation is unable to render, please try loading this page with nbviewer.org.</b></div><div class=\"sk-container\" hidden><div class=\"sk-item sk-dashed-wrapped\"><div class=\"sk-label-container\"><div class=\"sk-label sk-toggleable\"><input class=\"sk-toggleable__control sk-hidden--visually\" id=\"sk-estimator-id-6\" type=\"checkbox\" ><label for=\"sk-estimator-id-6\" class=\"sk-toggleable__label sk-toggleable__label-arrow\">GridSearchCV</label><div class=\"sk-toggleable__content\"><pre>GridSearchCV(cv=3, estimator=DecisionTreeClassifier(random_state=0),\n",
       "             param_grid={&#x27;criterion&#x27;: [&#x27;gini&#x27;, &#x27;entropy&#x27;, &#x27;log_loss&#x27;],\n",
       "                         &#x27;max_depth&#x27;: [1, 3, 5, 7, 9, 11, 13, 15, 17, 19, 21,\n",
       "                                       23, 25, 27, 29],\n",
       "                         &#x27;min_samples_split&#x27;: [1, 2, 3],\n",
       "                         &#x27;splitter&#x27;: [&#x27;best&#x27;, &#x27;random&#x27;]})</pre></div></div></div><div class=\"sk-parallel\"><div class=\"sk-parallel-item\"><div class=\"sk-item\"><div class=\"sk-label-container\"><div class=\"sk-label sk-toggleable\"><input class=\"sk-toggleable__control sk-hidden--visually\" id=\"sk-estimator-id-7\" type=\"checkbox\" ><label for=\"sk-estimator-id-7\" class=\"sk-toggleable__label sk-toggleable__label-arrow\">estimator: DecisionTreeClassifier</label><div class=\"sk-toggleable__content\"><pre>DecisionTreeClassifier(random_state=0)</pre></div></div></div><div class=\"sk-serial\"><div class=\"sk-item\"><div class=\"sk-estimator sk-toggleable\"><input class=\"sk-toggleable__control sk-hidden--visually\" id=\"sk-estimator-id-8\" type=\"checkbox\" ><label for=\"sk-estimator-id-8\" class=\"sk-toggleable__label sk-toggleable__label-arrow\">DecisionTreeClassifier</label><div class=\"sk-toggleable__content\"><pre>DecisionTreeClassifier(random_state=0)</pre></div></div></div></div></div></div></div></div></div></div>"
      ],
      "text/plain": [
       "GridSearchCV(cv=3, estimator=DecisionTreeClassifier(random_state=0),\n",
       "             param_grid={'criterion': ['gini', 'entropy', 'log_loss'],\n",
       "                         'max_depth': [1, 3, 5, 7, 9, 11, 13, 15, 17, 19, 21,\n",
       "                                       23, 25, 27, 29],\n",
       "                         'min_samples_split': [1, 2, 3],\n",
       "                         'splitter': ['best', 'random']})"
      ]
     },
     "execution_count": 46,
     "metadata": {},
     "output_type": "execute_result"
    }
   ],
   "source": [
    "#hyperparmaret\n",
    "from sklearn.tree import DecisionTreeClassifier\n",
    "from sklearn.model_selection import GridSearchCV\n",
    "dtc_parameter={\"criterion\":['gini','entropy','log_loss'],\n",
    "               \"splitter\":[\"best\",\"random\"],\n",
    "               'max_depth':[x for x in range(1,30,2)],\n",
    "               'min_samples_split':[1,2,3]\n",
    "               }\n",
    "\n",
    "dtc=GridSearchCV(estimator=DecisionTreeClassifier(random_state=0),param_grid=dtc_parameter,cv=3)\n",
    "\n",
    "#fit\n",
    "dtc.fit(X_train_pre,y_train)"
   ]
  },
  {
   "cell_type": "code",
   "execution_count": 47,
   "id": "d337449b",
   "metadata": {},
   "outputs": [
    {
     "name": "stdout",
     "output_type": "stream",
     "text": [
      "Best parameter in DTC {'criterion': 'entropy', 'max_depth': 29, 'min_samples_split': 2, 'splitter': 'random'}\n",
      "Best score in DTC 0.679582327499818\n"
     ]
    }
   ],
   "source": [
    "#best parameter\n",
    "print(\"Best parameter in DTC\",dtc.best_params_)\n",
    "print(\"Best score in DTC\",dtc.best_score_)"
   ]
  },
  {
   "cell_type": "code",
   "execution_count": 48,
   "id": "f40dc6c5",
   "metadata": {},
   "outputs": [
    {
     "name": "stdout",
     "output_type": "stream",
     "text": [
      "Score of DTC =  0.679582327499818\n"
     ]
    }
   ],
   "source": [
    "#score\n",
    "dtc_score=dtc.best_score_\n",
    "print(\"Score of DTC = \",dtc_score)"
   ]
  },
  {
   "cell_type": "code",
   "execution_count": 49,
   "id": "22a43a9b",
   "metadata": {},
   "outputs": [
    {
     "data": {
      "text/plain": [
       "array([1.56767313e-02, 1.83554015e-02, 1.71940608e-03, 1.19394752e-01,\n",
       "       0.00000000e+00, 6.09063181e-03, 1.98854852e-01, 5.64716442e-04,\n",
       "       4.61199002e-04, 2.40454721e-04, 5.72914739e-04, 1.75886728e-04,\n",
       "       4.56127368e-04, 1.47414950e-03, 7.77988933e-04, 9.06771592e-04,\n",
       "       1.11191785e-03, 6.77937639e-04, 6.51411138e-04, 7.04374428e-04,\n",
       "       4.23623415e-04, 2.36605370e-04, 1.43201553e-04, 1.46500059e-01,\n",
       "       3.83624881e-02, 8.79679564e-02, 1.24680344e-01, 9.47164976e-02,\n",
       "       1.38101600e-01])"
      ]
     },
     "execution_count": 49,
     "metadata": {},
     "output_type": "execute_result"
    }
   ],
   "source": [
    "feature_importances=dtc.best_estimator_.feature_importances_\n",
    "feature_importances"
   ]
  },
  {
   "cell_type": "code",
   "execution_count": 50,
   "id": "3af4bc0d",
   "metadata": {},
   "outputs": [],
   "source": [
    "dtc=dtc.best_estimator_"
   ]
  },
  {
   "cell_type": "code",
   "execution_count": 51,
   "id": "e60da90b",
   "metadata": {},
   "outputs": [
    {
     "name": "stdout",
     "output_type": "stream",
     "text": [
      "              precision    recall  f1-score   support\n",
      "\n",
      "           0       1.00      1.00      1.00      4814\n",
      "           1       0.68      0.69      0.68       673\n",
      "           2       0.63      0.66      0.65       925\n",
      "           3       0.65      0.63      0.64       731\n",
      "           4       0.67      0.64      0.66       738\n",
      "           5       0.64      0.66      0.65       919\n",
      "           6       0.63      0.65      0.64       881\n",
      "           7       0.66      0.65      0.66       710\n",
      "           8       0.65      0.64      0.64       915\n",
      "           9       0.68      0.65      0.66       956\n",
      "          10       0.69      0.69      0.69       987\n",
      "\n",
      "    accuracy                           0.78     13249\n",
      "   macro avg       0.69      0.69      0.69     13249\n",
      "weighted avg       0.78      0.78      0.78     13249\n",
      "\n"
     ]
    }
   ],
   "source": [
    "#classification_report\n",
    "y_dtc_pred=dtc.predict(X_test_pre)\n",
    "\n",
    "print(classification_report(y_test, y_dtc_pred))"
   ]
  },
  {
   "cell_type": "code",
   "execution_count": 52,
   "id": "d812891a",
   "metadata": {},
   "outputs": [
    {
     "data": {
      "text/html": [
       "<div>\n",
       "<style scoped>\n",
       "    .dataframe tbody tr th:only-of-type {\n",
       "        vertical-align: middle;\n",
       "    }\n",
       "\n",
       "    .dataframe tbody tr th {\n",
       "        vertical-align: top;\n",
       "    }\n",
       "\n",
       "    .dataframe thead th {\n",
       "        text-align: right;\n",
       "    }\n",
       "</style>\n",
       "<table border=\"1\" class=\"dataframe\">\n",
       "  <thead>\n",
       "    <tr style=\"text-align: right;\">\n",
       "      <th></th>\n",
       "      <th>features</th>\n",
       "      <th>values</th>\n",
       "    </tr>\n",
       "  </thead>\n",
       "  <tbody>\n",
       "    <tr>\n",
       "      <th>6</th>\n",
       "      <td>encoder__event_transaction</td>\n",
       "      <td>0.198855</td>\n",
       "    </tr>\n",
       "    <tr>\n",
       "      <th>23</th>\n",
       "      <td>scaler__age</td>\n",
       "      <td>0.146500</td>\n",
       "    </tr>\n",
       "    <tr>\n",
       "      <th>28</th>\n",
       "      <td>scaler__income</td>\n",
       "      <td>0.138102</td>\n",
       "    </tr>\n",
       "    <tr>\n",
       "      <th>26</th>\n",
       "      <td>scaler__became_member_day</td>\n",
       "      <td>0.124680</td>\n",
       "    </tr>\n",
       "    <tr>\n",
       "      <th>3</th>\n",
       "      <td>encoder__event_offer completed</td>\n",
       "      <td>0.119395</td>\n",
       "    </tr>\n",
       "    <tr>\n",
       "      <th>27</th>\n",
       "      <td>scaler__login_days</td>\n",
       "      <td>0.094716</td>\n",
       "    </tr>\n",
       "    <tr>\n",
       "      <th>25</th>\n",
       "      <td>scaler__became_member_month</td>\n",
       "      <td>0.087968</td>\n",
       "    </tr>\n",
       "    <tr>\n",
       "      <th>24</th>\n",
       "      <td>scaler__became_member_year</td>\n",
       "      <td>0.038362</td>\n",
       "    </tr>\n",
       "    <tr>\n",
       "      <th>1</th>\n",
       "      <td>encoder__gender_M</td>\n",
       "      <td>0.018355</td>\n",
       "    </tr>\n",
       "    <tr>\n",
       "      <th>0</th>\n",
       "      <td>encoder__gender_F</td>\n",
       "      <td>0.015677</td>\n",
       "    </tr>\n",
       "    <tr>\n",
       "      <th>5</th>\n",
       "      <td>encoder__event_offer viewed</td>\n",
       "      <td>0.006091</td>\n",
       "    </tr>\n",
       "    <tr>\n",
       "      <th>2</th>\n",
       "      <td>encoder__gender_O</td>\n",
       "      <td>0.001719</td>\n",
       "    </tr>\n",
       "    <tr>\n",
       "      <th>13</th>\n",
       "      <td>encoder__time_36</td>\n",
       "      <td>0.001474</td>\n",
       "    </tr>\n",
       "    <tr>\n",
       "      <th>16</th>\n",
       "      <td>encoder__time_54</td>\n",
       "      <td>0.001112</td>\n",
       "    </tr>\n",
       "    <tr>\n",
       "      <th>15</th>\n",
       "      <td>encoder__time_48</td>\n",
       "      <td>0.000907</td>\n",
       "    </tr>\n",
       "    <tr>\n",
       "      <th>14</th>\n",
       "      <td>encoder__time_42</td>\n",
       "      <td>0.000778</td>\n",
       "    </tr>\n",
       "    <tr>\n",
       "      <th>19</th>\n",
       "      <td>encoder__time_72</td>\n",
       "      <td>0.000704</td>\n",
       "    </tr>\n",
       "    <tr>\n",
       "      <th>17</th>\n",
       "      <td>encoder__time_60</td>\n",
       "      <td>0.000678</td>\n",
       "    </tr>\n",
       "    <tr>\n",
       "      <th>18</th>\n",
       "      <td>encoder__time_66</td>\n",
       "      <td>0.000651</td>\n",
       "    </tr>\n",
       "    <tr>\n",
       "      <th>10</th>\n",
       "      <td>encoder__time_18</td>\n",
       "      <td>0.000573</td>\n",
       "    </tr>\n",
       "    <tr>\n",
       "      <th>7</th>\n",
       "      <td>encoder__time_0</td>\n",
       "      <td>0.000565</td>\n",
       "    </tr>\n",
       "    <tr>\n",
       "      <th>8</th>\n",
       "      <td>encoder__time_6</td>\n",
       "      <td>0.000461</td>\n",
       "    </tr>\n",
       "    <tr>\n",
       "      <th>12</th>\n",
       "      <td>encoder__time_30</td>\n",
       "      <td>0.000456</td>\n",
       "    </tr>\n",
       "    <tr>\n",
       "      <th>20</th>\n",
       "      <td>encoder__time_78</td>\n",
       "      <td>0.000424</td>\n",
       "    </tr>\n",
       "    <tr>\n",
       "      <th>9</th>\n",
       "      <td>encoder__time_12</td>\n",
       "      <td>0.000240</td>\n",
       "    </tr>\n",
       "    <tr>\n",
       "      <th>21</th>\n",
       "      <td>encoder__time_84</td>\n",
       "      <td>0.000237</td>\n",
       "    </tr>\n",
       "    <tr>\n",
       "      <th>11</th>\n",
       "      <td>encoder__time_24</td>\n",
       "      <td>0.000176</td>\n",
       "    </tr>\n",
       "    <tr>\n",
       "      <th>22</th>\n",
       "      <td>encoder__time_90</td>\n",
       "      <td>0.000143</td>\n",
       "    </tr>\n",
       "    <tr>\n",
       "      <th>4</th>\n",
       "      <td>encoder__event_offer received</td>\n",
       "      <td>0.000000</td>\n",
       "    </tr>\n",
       "  </tbody>\n",
       "</table>\n",
       "</div>"
      ],
      "text/plain": [
       "                          features    values\n",
       "6       encoder__event_transaction  0.198855\n",
       "23                     scaler__age  0.146500\n",
       "28                  scaler__income  0.138102\n",
       "26       scaler__became_member_day  0.124680\n",
       "3   encoder__event_offer completed  0.119395\n",
       "27              scaler__login_days  0.094716\n",
       "25     scaler__became_member_month  0.087968\n",
       "24      scaler__became_member_year  0.038362\n",
       "1                encoder__gender_M  0.018355\n",
       "0                encoder__gender_F  0.015677\n",
       "5      encoder__event_offer viewed  0.006091\n",
       "2                encoder__gender_O  0.001719\n",
       "13                encoder__time_36  0.001474\n",
       "16                encoder__time_54  0.001112\n",
       "15                encoder__time_48  0.000907\n",
       "14                encoder__time_42  0.000778\n",
       "19                encoder__time_72  0.000704\n",
       "17                encoder__time_60  0.000678\n",
       "18                encoder__time_66  0.000651\n",
       "10                encoder__time_18  0.000573\n",
       "7                  encoder__time_0  0.000565\n",
       "8                  encoder__time_6  0.000461\n",
       "12                encoder__time_30  0.000456\n",
       "20                encoder__time_78  0.000424\n",
       "9                 encoder__time_12  0.000240\n",
       "21                encoder__time_84  0.000237\n",
       "11                encoder__time_24  0.000176\n",
       "22                encoder__time_90  0.000143\n",
       "4    encoder__event_offer received  0.000000"
      ]
     },
     "execution_count": 52,
     "metadata": {},
     "output_type": "execute_result"
    }
   ],
   "source": [
    "pd.DataFrame({\"features\":df_train.columns,\n",
    "              \"values\":feature_importances}).sort_values(by=\"values\",ascending=False) #to show all name of features and importance"
   ]
  },
  {
   "cell_type": "markdown",
   "id": "1e3da45a",
   "metadata": {},
   "source": [
    "---------------------------"
   ]
  },
  {
   "cell_type": "markdown",
   "id": "d1098c8e",
   "metadata": {},
   "source": [
    "###### 5) Use Random forest"
   ]
  },
  {
   "cell_type": "code",
   "execution_count": 53,
   "id": "59d2cf2f",
   "metadata": {},
   "outputs": [],
   "source": [
    "#without hyperparemeter\n",
    "from sklearn.ensemble import RandomForestClassifier\n",
    "\n",
    "rfc=RandomForestClassifier(random_state=0)\n",
    "rfc.fit(X_train_pre,y_train)\n",
    "\n",
    "rfc_score=rfc.score(X_test_pre,y_test)"
   ]
  },
  {
   "cell_type": "code",
   "execution_count": 54,
   "id": "630f2a91",
   "metadata": {},
   "outputs": [
    {
     "data": {
      "text/plain": [
       "0.8030040003019095"
      ]
     },
     "execution_count": 54,
     "metadata": {},
     "output_type": "execute_result"
    }
   ],
   "source": [
    "rfc_score"
   ]
  },
  {
   "cell_type": "markdown",
   "id": "af5a7cd2",
   "metadata": {},
   "source": [
    "######  Accuracy of Random forest"
   ]
  },
  {
   "cell_type": "code",
   "execution_count": 55,
   "id": "22c135bc",
   "metadata": {},
   "outputs": [
    {
     "name": "stdout",
     "output_type": "stream",
     "text": [
      "              precision    recall  f1-score   support\n",
      "\n",
      "           0       1.00      1.00      1.00      4814\n",
      "           1       0.74      0.72      0.73       673\n",
      "           2       0.68      0.70      0.69       925\n",
      "           3       0.75      0.68      0.71       731\n",
      "           4       0.72      0.67      0.69       738\n",
      "           5       0.67      0.69      0.68       919\n",
      "           6       0.64      0.67      0.65       881\n",
      "           7       0.73      0.68      0.71       710\n",
      "           8       0.68      0.68      0.68       915\n",
      "           9       0.67      0.68      0.68       956\n",
      "          10       0.68      0.73      0.71       987\n",
      "\n",
      "    accuracy                           0.80     13249\n",
      "   macro avg       0.72      0.72      0.72     13249\n",
      "weighted avg       0.80      0.80      0.80     13249\n",
      "\n"
     ]
    }
   ],
   "source": [
    "#classification_report\n",
    "y_predict_rfc=rfc.predict(X_test_pre)\n",
    "\n",
    "print(classification_report(y_test, y_predict_rfc))"
   ]
  },
  {
   "cell_type": "markdown",
   "id": "85720f95",
   "metadata": {},
   "source": [
    "-------------------------------"
   ]
  },
  {
   "cell_type": "markdown",
   "id": "8f213728",
   "metadata": {},
   "source": [
    "###### 6) Use XG Boost"
   ]
  },
  {
   "cell_type": "code",
   "execution_count": 56,
   "id": "81387d78",
   "metadata": {},
   "outputs": [
    {
     "data": {
      "text/html": [
       "<style>#sk-container-id-5 {color: black;}#sk-container-id-5 pre{padding: 0;}#sk-container-id-5 div.sk-toggleable {background-color: white;}#sk-container-id-5 label.sk-toggleable__label {cursor: pointer;display: block;width: 100%;margin-bottom: 0;padding: 0.3em;box-sizing: border-box;text-align: center;}#sk-container-id-5 label.sk-toggleable__label-arrow:before {content: \"▸\";float: left;margin-right: 0.25em;color: #696969;}#sk-container-id-5 label.sk-toggleable__label-arrow:hover:before {color: black;}#sk-container-id-5 div.sk-estimator:hover label.sk-toggleable__label-arrow:before {color: black;}#sk-container-id-5 div.sk-toggleable__content {max-height: 0;max-width: 0;overflow: hidden;text-align: left;background-color: #f0f8ff;}#sk-container-id-5 div.sk-toggleable__content pre {margin: 0.2em;color: black;border-radius: 0.25em;background-color: #f0f8ff;}#sk-container-id-5 input.sk-toggleable__control:checked~div.sk-toggleable__content {max-height: 200px;max-width: 100%;overflow: auto;}#sk-container-id-5 input.sk-toggleable__control:checked~label.sk-toggleable__label-arrow:before {content: \"▾\";}#sk-container-id-5 div.sk-estimator input.sk-toggleable__control:checked~label.sk-toggleable__label {background-color: #d4ebff;}#sk-container-id-5 div.sk-label input.sk-toggleable__control:checked~label.sk-toggleable__label {background-color: #d4ebff;}#sk-container-id-5 input.sk-hidden--visually {border: 0;clip: rect(1px 1px 1px 1px);clip: rect(1px, 1px, 1px, 1px);height: 1px;margin: -1px;overflow: hidden;padding: 0;position: absolute;width: 1px;}#sk-container-id-5 div.sk-estimator {font-family: monospace;background-color: #f0f8ff;border: 1px dotted black;border-radius: 0.25em;box-sizing: border-box;margin-bottom: 0.5em;}#sk-container-id-5 div.sk-estimator:hover {background-color: #d4ebff;}#sk-container-id-5 div.sk-parallel-item::after {content: \"\";width: 100%;border-bottom: 1px solid gray;flex-grow: 1;}#sk-container-id-5 div.sk-label:hover label.sk-toggleable__label {background-color: #d4ebff;}#sk-container-id-5 div.sk-serial::before {content: \"\";position: absolute;border-left: 1px solid gray;box-sizing: border-box;top: 0;bottom: 0;left: 50%;z-index: 0;}#sk-container-id-5 div.sk-serial {display: flex;flex-direction: column;align-items: center;background-color: white;padding-right: 0.2em;padding-left: 0.2em;position: relative;}#sk-container-id-5 div.sk-item {position: relative;z-index: 1;}#sk-container-id-5 div.sk-parallel {display: flex;align-items: stretch;justify-content: center;background-color: white;position: relative;}#sk-container-id-5 div.sk-item::before, #sk-container-id-5 div.sk-parallel-item::before {content: \"\";position: absolute;border-left: 1px solid gray;box-sizing: border-box;top: 0;bottom: 0;left: 50%;z-index: -1;}#sk-container-id-5 div.sk-parallel-item {display: flex;flex-direction: column;z-index: 1;position: relative;background-color: white;}#sk-container-id-5 div.sk-parallel-item:first-child::after {align-self: flex-end;width: 50%;}#sk-container-id-5 div.sk-parallel-item:last-child::after {align-self: flex-start;width: 50%;}#sk-container-id-5 div.sk-parallel-item:only-child::after {width: 0;}#sk-container-id-5 div.sk-dashed-wrapped {border: 1px dashed gray;margin: 0 0.4em 0.5em 0.4em;box-sizing: border-box;padding-bottom: 0.4em;background-color: white;}#sk-container-id-5 div.sk-label label {font-family: monospace;font-weight: bold;display: inline-block;line-height: 1.2em;}#sk-container-id-5 div.sk-label-container {text-align: center;}#sk-container-id-5 div.sk-container {/* jupyter's `normalize.less` sets `[hidden] { display: none; }` but bootstrap.min.css set `[hidden] { display: none !important; }` so we also need the `!important` here to be able to override the default hidden behavior on the sphinx rendered scikit-learn.org. See: https://github.com/scikit-learn/scikit-learn/issues/21755 */display: inline-block !important;position: relative;}#sk-container-id-5 div.sk-text-repr-fallback {display: none;}</style><div id=\"sk-container-id-5\" class=\"sk-top-container\"><div class=\"sk-text-repr-fallback\"><pre>XGBClassifier(base_score=None, booster=None, callbacks=None,\n",
       "              colsample_bylevel=None, colsample_bynode=None,\n",
       "              colsample_bytree=None, early_stopping_rounds=None,\n",
       "              enable_categorical=False, eval_metric=None, feature_types=None,\n",
       "              gamma=None, gpu_id=None, grow_policy=None, importance_type=None,\n",
       "              interaction_constraints=None, learning_rate=None, max_bin=None,\n",
       "              max_cat_threshold=None, max_cat_to_onehot=None,\n",
       "              max_delta_step=None, max_depth=None, max_leaves=None,\n",
       "              min_child_weight=None, missing=nan, monotone_constraints=None,\n",
       "              n_estimators=100, n_jobs=None, num_parallel_tree=None,\n",
       "              objective=&#x27;multi:softprob&#x27;, predictor=None, ...)</pre><b>In a Jupyter environment, please rerun this cell to show the HTML representation or trust the notebook. <br />On GitHub, the HTML representation is unable to render, please try loading this page with nbviewer.org.</b></div><div class=\"sk-container\" hidden><div class=\"sk-item\"><div class=\"sk-estimator sk-toggleable\"><input class=\"sk-toggleable__control sk-hidden--visually\" id=\"sk-estimator-id-9\" type=\"checkbox\" checked><label for=\"sk-estimator-id-9\" class=\"sk-toggleable__label sk-toggleable__label-arrow\">XGBClassifier</label><div class=\"sk-toggleable__content\"><pre>XGBClassifier(base_score=None, booster=None, callbacks=None,\n",
       "              colsample_bylevel=None, colsample_bynode=None,\n",
       "              colsample_bytree=None, early_stopping_rounds=None,\n",
       "              enable_categorical=False, eval_metric=None, feature_types=None,\n",
       "              gamma=None, gpu_id=None, grow_policy=None, importance_type=None,\n",
       "              interaction_constraints=None, learning_rate=None, max_bin=None,\n",
       "              max_cat_threshold=None, max_cat_to_onehot=None,\n",
       "              max_delta_step=None, max_depth=None, max_leaves=None,\n",
       "              min_child_weight=None, missing=nan, monotone_constraints=None,\n",
       "              n_estimators=100, n_jobs=None, num_parallel_tree=None,\n",
       "              objective=&#x27;multi:softprob&#x27;, predictor=None, ...)</pre></div></div></div></div></div>"
      ],
      "text/plain": [
       "XGBClassifier(base_score=None, booster=None, callbacks=None,\n",
       "              colsample_bylevel=None, colsample_bynode=None,\n",
       "              colsample_bytree=None, early_stopping_rounds=None,\n",
       "              enable_categorical=False, eval_metric=None, feature_types=None,\n",
       "              gamma=None, gpu_id=None, grow_policy=None, importance_type=None,\n",
       "              interaction_constraints=None, learning_rate=None, max_bin=None,\n",
       "              max_cat_threshold=None, max_cat_to_onehot=None,\n",
       "              max_delta_step=None, max_depth=None, max_leaves=None,\n",
       "              min_child_weight=None, missing=nan, monotone_constraints=None,\n",
       "              n_estimators=100, n_jobs=None, num_parallel_tree=None,\n",
       "              objective='multi:softprob', predictor=None, ...)"
      ]
     },
     "execution_count": 56,
     "metadata": {},
     "output_type": "execute_result"
    }
   ],
   "source": [
    "from xgboost import XGBClassifier\n",
    "#without hyperparemeter\n",
    "\n",
    "xgb_base = XGBClassifier(objective=\"multi:softprob\", random_state=42)\n",
    "xgb_base.fit(X_train_pre,y_train)"
   ]
  },
  {
   "cell_type": "code",
   "execution_count": 57,
   "id": "e0982293",
   "metadata": {},
   "outputs": [
    {
     "data": {
      "text/plain": [
       "0.6862404709789418"
      ]
     },
     "execution_count": 57,
     "metadata": {},
     "output_type": "execute_result"
    }
   ],
   "source": [
    "xgb_base.score(X_test_pre,y_test)"
   ]
  },
  {
   "cell_type": "code",
   "execution_count": 58,
   "id": "a19bb915",
   "metadata": {},
   "outputs": [
    {
     "name": "stdout",
     "output_type": "stream",
     "text": [
      "              precision    recall  f1-score   support\n",
      "\n",
      "           0       1.00      1.00      1.00      4814\n",
      "           1       0.43      0.39      0.41       673\n",
      "           2       0.48      0.55      0.52       925\n",
      "           3       0.45      0.36      0.40       731\n",
      "           4       0.52      0.41      0.46       738\n",
      "           5       0.56      0.61      0.59       919\n",
      "           6       0.51      0.55      0.53       881\n",
      "           7       0.55      0.43      0.49       710\n",
      "           8       0.51      0.54      0.52       915\n",
      "           9       0.52      0.53      0.52       956\n",
      "          10       0.51      0.59      0.54       987\n",
      "\n",
      "    accuracy                           0.69     13249\n",
      "   macro avg       0.55      0.54      0.54     13249\n",
      "weighted avg       0.69      0.69      0.68     13249\n",
      "\n"
     ]
    }
   ],
   "source": [
    "y_pred = xgb_base.predict(X_test_pre)\n",
    "\n",
    "print(classification_report(y_test, y_pred))"
   ]
  },
  {
   "cell_type": "code",
   "execution_count": 59,
   "id": "f80757a0",
   "metadata": {},
   "outputs": [
    {
     "data": {
      "text/html": [
       "<style>#sk-container-id-6 {color: black;}#sk-container-id-6 pre{padding: 0;}#sk-container-id-6 div.sk-toggleable {background-color: white;}#sk-container-id-6 label.sk-toggleable__label {cursor: pointer;display: block;width: 100%;margin-bottom: 0;padding: 0.3em;box-sizing: border-box;text-align: center;}#sk-container-id-6 label.sk-toggleable__label-arrow:before {content: \"▸\";float: left;margin-right: 0.25em;color: #696969;}#sk-container-id-6 label.sk-toggleable__label-arrow:hover:before {color: black;}#sk-container-id-6 div.sk-estimator:hover label.sk-toggleable__label-arrow:before {color: black;}#sk-container-id-6 div.sk-toggleable__content {max-height: 0;max-width: 0;overflow: hidden;text-align: left;background-color: #f0f8ff;}#sk-container-id-6 div.sk-toggleable__content pre {margin: 0.2em;color: black;border-radius: 0.25em;background-color: #f0f8ff;}#sk-container-id-6 input.sk-toggleable__control:checked~div.sk-toggleable__content {max-height: 200px;max-width: 100%;overflow: auto;}#sk-container-id-6 input.sk-toggleable__control:checked~label.sk-toggleable__label-arrow:before {content: \"▾\";}#sk-container-id-6 div.sk-estimator input.sk-toggleable__control:checked~label.sk-toggleable__label {background-color: #d4ebff;}#sk-container-id-6 div.sk-label input.sk-toggleable__control:checked~label.sk-toggleable__label {background-color: #d4ebff;}#sk-container-id-6 input.sk-hidden--visually {border: 0;clip: rect(1px 1px 1px 1px);clip: rect(1px, 1px, 1px, 1px);height: 1px;margin: -1px;overflow: hidden;padding: 0;position: absolute;width: 1px;}#sk-container-id-6 div.sk-estimator {font-family: monospace;background-color: #f0f8ff;border: 1px dotted black;border-radius: 0.25em;box-sizing: border-box;margin-bottom: 0.5em;}#sk-container-id-6 div.sk-estimator:hover {background-color: #d4ebff;}#sk-container-id-6 div.sk-parallel-item::after {content: \"\";width: 100%;border-bottom: 1px solid gray;flex-grow: 1;}#sk-container-id-6 div.sk-label:hover label.sk-toggleable__label {background-color: #d4ebff;}#sk-container-id-6 div.sk-serial::before {content: \"\";position: absolute;border-left: 1px solid gray;box-sizing: border-box;top: 0;bottom: 0;left: 50%;z-index: 0;}#sk-container-id-6 div.sk-serial {display: flex;flex-direction: column;align-items: center;background-color: white;padding-right: 0.2em;padding-left: 0.2em;position: relative;}#sk-container-id-6 div.sk-item {position: relative;z-index: 1;}#sk-container-id-6 div.sk-parallel {display: flex;align-items: stretch;justify-content: center;background-color: white;position: relative;}#sk-container-id-6 div.sk-item::before, #sk-container-id-6 div.sk-parallel-item::before {content: \"\";position: absolute;border-left: 1px solid gray;box-sizing: border-box;top: 0;bottom: 0;left: 50%;z-index: -1;}#sk-container-id-6 div.sk-parallel-item {display: flex;flex-direction: column;z-index: 1;position: relative;background-color: white;}#sk-container-id-6 div.sk-parallel-item:first-child::after {align-self: flex-end;width: 50%;}#sk-container-id-6 div.sk-parallel-item:last-child::after {align-self: flex-start;width: 50%;}#sk-container-id-6 div.sk-parallel-item:only-child::after {width: 0;}#sk-container-id-6 div.sk-dashed-wrapped {border: 1px dashed gray;margin: 0 0.4em 0.5em 0.4em;box-sizing: border-box;padding-bottom: 0.4em;background-color: white;}#sk-container-id-6 div.sk-label label {font-family: monospace;font-weight: bold;display: inline-block;line-height: 1.2em;}#sk-container-id-6 div.sk-label-container {text-align: center;}#sk-container-id-6 div.sk-container {/* jupyter's `normalize.less` sets `[hidden] { display: none; }` but bootstrap.min.css set `[hidden] { display: none !important; }` so we also need the `!important` here to be able to override the default hidden behavior on the sphinx rendered scikit-learn.org. See: https://github.com/scikit-learn/scikit-learn/issues/21755 */display: inline-block !important;position: relative;}#sk-container-id-6 div.sk-text-repr-fallback {display: none;}</style><div id=\"sk-container-id-6\" class=\"sk-top-container\"><div class=\"sk-text-repr-fallback\"><pre>RandomizedSearchCV(cv=3,\n",
       "                   estimator=XGBClassifier(base_score=None, booster=None,\n",
       "                                           callbacks=None,\n",
       "                                           colsample_bylevel=None,\n",
       "                                           colsample_bynode=None,\n",
       "                                           colsample_bytree=None,\n",
       "                                           early_stopping_rounds=None,\n",
       "                                           enable_categorical=False,\n",
       "                                           eval_metric=None, feature_types=None,\n",
       "                                           gamma=None, gpu_id=None,\n",
       "                                           grow_policy=None,\n",
       "                                           importance_type=None,\n",
       "                                           interaction_constraints=None,\n",
       "                                           learning_rate...\n",
       "                                           num_parallel_tree=None,\n",
       "                                           objective=&#x27;multi:softprob&#x27;,\n",
       "                                           predictor=None, ...),\n",
       "                   param_distributions={&#x27;colsample_bytree&#x27;: [0.6, 0.7, 0.8,\n",
       "                                                             0.9],\n",
       "                                        &#x27;eta&#x27;: [0.01, 0.03, 0.05, 0.07, 0.09,\n",
       "                                                0.11, 0.13, 0.15, 0.17, 0.19,\n",
       "                                                0.21, 0.23, 0.25, 0.27, 0.29],\n",
       "                                        &#x27;gamma&#x27;: [0.0, 0.1, 0.2, 0.3, 0.4],\n",
       "                                        &#x27;max_depth&#x27;: range(3, 10, 2),\n",
       "                                        &#x27;min_child_weight&#x27;: range(1, 6, 2),\n",
       "                                        &#x27;reg_alpha&#x27;: [1e-05, 0.01, 0.1, 1, 100],\n",
       "                                        &#x27;subsample&#x27;: [0.6, 0.7, 0.8, 0.9]})</pre><b>In a Jupyter environment, please rerun this cell to show the HTML representation or trust the notebook. <br />On GitHub, the HTML representation is unable to render, please try loading this page with nbviewer.org.</b></div><div class=\"sk-container\" hidden><div class=\"sk-item sk-dashed-wrapped\"><div class=\"sk-label-container\"><div class=\"sk-label sk-toggleable\"><input class=\"sk-toggleable__control sk-hidden--visually\" id=\"sk-estimator-id-10\" type=\"checkbox\" ><label for=\"sk-estimator-id-10\" class=\"sk-toggleable__label sk-toggleable__label-arrow\">RandomizedSearchCV</label><div class=\"sk-toggleable__content\"><pre>RandomizedSearchCV(cv=3,\n",
       "                   estimator=XGBClassifier(base_score=None, booster=None,\n",
       "                                           callbacks=None,\n",
       "                                           colsample_bylevel=None,\n",
       "                                           colsample_bynode=None,\n",
       "                                           colsample_bytree=None,\n",
       "                                           early_stopping_rounds=None,\n",
       "                                           enable_categorical=False,\n",
       "                                           eval_metric=None, feature_types=None,\n",
       "                                           gamma=None, gpu_id=None,\n",
       "                                           grow_policy=None,\n",
       "                                           importance_type=None,\n",
       "                                           interaction_constraints=None,\n",
       "                                           learning_rate...\n",
       "                                           num_parallel_tree=None,\n",
       "                                           objective=&#x27;multi:softprob&#x27;,\n",
       "                                           predictor=None, ...),\n",
       "                   param_distributions={&#x27;colsample_bytree&#x27;: [0.6, 0.7, 0.8,\n",
       "                                                             0.9],\n",
       "                                        &#x27;eta&#x27;: [0.01, 0.03, 0.05, 0.07, 0.09,\n",
       "                                                0.11, 0.13, 0.15, 0.17, 0.19,\n",
       "                                                0.21, 0.23, 0.25, 0.27, 0.29],\n",
       "                                        &#x27;gamma&#x27;: [0.0, 0.1, 0.2, 0.3, 0.4],\n",
       "                                        &#x27;max_depth&#x27;: range(3, 10, 2),\n",
       "                                        &#x27;min_child_weight&#x27;: range(1, 6, 2),\n",
       "                                        &#x27;reg_alpha&#x27;: [1e-05, 0.01, 0.1, 1, 100],\n",
       "                                        &#x27;subsample&#x27;: [0.6, 0.7, 0.8, 0.9]})</pre></div></div></div><div class=\"sk-parallel\"><div class=\"sk-parallel-item\"><div class=\"sk-item\"><div class=\"sk-label-container\"><div class=\"sk-label sk-toggleable\"><input class=\"sk-toggleable__control sk-hidden--visually\" id=\"sk-estimator-id-11\" type=\"checkbox\" ><label for=\"sk-estimator-id-11\" class=\"sk-toggleable__label sk-toggleable__label-arrow\">estimator: XGBClassifier</label><div class=\"sk-toggleable__content\"><pre>XGBClassifier(base_score=None, booster=None, callbacks=None,\n",
       "              colsample_bylevel=None, colsample_bynode=None,\n",
       "              colsample_bytree=None, early_stopping_rounds=None,\n",
       "              enable_categorical=False, eval_metric=None, feature_types=None,\n",
       "              gamma=None, gpu_id=None, grow_policy=None, importance_type=None,\n",
       "              interaction_constraints=None, learning_rate=None, max_bin=None,\n",
       "              max_cat_threshold=None, max_cat_to_onehot=None,\n",
       "              max_delta_step=None, max_depth=None, max_leaves=None,\n",
       "              min_child_weight=None, missing=nan, monotone_constraints=None,\n",
       "              n_estimators=100, n_jobs=None, num_parallel_tree=None,\n",
       "              objective=&#x27;multi:softprob&#x27;, predictor=None, ...)</pre></div></div></div><div class=\"sk-serial\"><div class=\"sk-item\"><div class=\"sk-estimator sk-toggleable\"><input class=\"sk-toggleable__control sk-hidden--visually\" id=\"sk-estimator-id-12\" type=\"checkbox\" ><label for=\"sk-estimator-id-12\" class=\"sk-toggleable__label sk-toggleable__label-arrow\">XGBClassifier</label><div class=\"sk-toggleable__content\"><pre>XGBClassifier(base_score=None, booster=None, callbacks=None,\n",
       "              colsample_bylevel=None, colsample_bynode=None,\n",
       "              colsample_bytree=None, early_stopping_rounds=None,\n",
       "              enable_categorical=False, eval_metric=None, feature_types=None,\n",
       "              gamma=None, gpu_id=None, grow_policy=None, importance_type=None,\n",
       "              interaction_constraints=None, learning_rate=None, max_bin=None,\n",
       "              max_cat_threshold=None, max_cat_to_onehot=None,\n",
       "              max_delta_step=None, max_depth=None, max_leaves=None,\n",
       "              min_child_weight=None, missing=nan, monotone_constraints=None,\n",
       "              n_estimators=100, n_jobs=None, num_parallel_tree=None,\n",
       "              objective=&#x27;multi:softprob&#x27;, predictor=None, ...)</pre></div></div></div></div></div></div></div></div></div></div>"
      ],
      "text/plain": [
       "RandomizedSearchCV(cv=3,\n",
       "                   estimator=XGBClassifier(base_score=None, booster=None,\n",
       "                                           callbacks=None,\n",
       "                                           colsample_bylevel=None,\n",
       "                                           colsample_bynode=None,\n",
       "                                           colsample_bytree=None,\n",
       "                                           early_stopping_rounds=None,\n",
       "                                           enable_categorical=False,\n",
       "                                           eval_metric=None, feature_types=None,\n",
       "                                           gamma=None, gpu_id=None,\n",
       "                                           grow_policy=None,\n",
       "                                           importance_type=None,\n",
       "                                           interaction_constraints=None,\n",
       "                                           learning_rate...\n",
       "                                           num_parallel_tree=None,\n",
       "                                           objective='multi:softprob',\n",
       "                                           predictor=None, ...),\n",
       "                   param_distributions={'colsample_bytree': [0.6, 0.7, 0.8,\n",
       "                                                             0.9],\n",
       "                                        'eta': [0.01, 0.03, 0.05, 0.07, 0.09,\n",
       "                                                0.11, 0.13, 0.15, 0.17, 0.19,\n",
       "                                                0.21, 0.23, 0.25, 0.27, 0.29],\n",
       "                                        'gamma': [0.0, 0.1, 0.2, 0.3, 0.4],\n",
       "                                        'max_depth': range(3, 10, 2),\n",
       "                                        'min_child_weight': range(1, 6, 2),\n",
       "                                        'reg_alpha': [1e-05, 0.01, 0.1, 1, 100],\n",
       "                                        'subsample': [0.6, 0.7, 0.8, 0.9]})"
      ]
     },
     "execution_count": 59,
     "metadata": {},
     "output_type": "execute_result"
    }
   ],
   "source": [
    "#hyperparamerter\n",
    "\n",
    "parameter={\n",
    "            \"eta\":[i/100.0 for i in range(1,31,2)],\n",
    "            'max_depth':range(3,10,2),\n",
    "            'min_child_weight':range(1,6,2),\n",
    "            'gamma':[i/10.0 for i in range(0,5)],\n",
    "            'subsample':[i/10.0 for i in range(6,10)],#Tune subsample and colsample_bytree\n",
    "            'colsample_bytree':[i/10.0 for i in range(6,10)], \n",
    "            'reg_alpha':[1e-5, 1e-2, 0.1, 1, 100] #Tuning regularization parameters\n",
    "}\n",
    "\n",
    "xgb=RandomizedSearchCV(estimator=xgb_base,param_distributions=parameter,cv=3)\n",
    "xgb.fit(X_train_pre,y_train)"
   ]
  },
  {
   "cell_type": "code",
   "execution_count": 60,
   "id": "86efc754",
   "metadata": {},
   "outputs": [],
   "source": [
    "xgb=xgb.best_estimator_"
   ]
  },
  {
   "cell_type": "code",
   "execution_count": 61,
   "id": "f5bcaba0",
   "metadata": {},
   "outputs": [
    {
     "data": {
      "text/plain": [
       "0.6340101139708657"
      ]
     },
     "execution_count": 61,
     "metadata": {},
     "output_type": "execute_result"
    }
   ],
   "source": [
    "xgb_score=xgb.score(X_test_pre,y_test)\n",
    "xgb_score"
   ]
  },
  {
   "cell_type": "code",
   "execution_count": 62,
   "id": "582f3abc",
   "metadata": {},
   "outputs": [
    {
     "name": "stdout",
     "output_type": "stream",
     "text": [
      "              precision    recall  f1-score   support\n",
      "\n",
      "           0       1.00      1.00      1.00      4814\n",
      "           1       0.38      0.40      0.39       673\n",
      "           2       0.38      0.46      0.42       925\n",
      "           3       0.40      0.31      0.34       731\n",
      "           4       0.40      0.29      0.33       738\n",
      "           5       0.43      0.49      0.46       919\n",
      "           6       0.46      0.41      0.43       881\n",
      "           7       0.49      0.34      0.40       710\n",
      "           8       0.47      0.51      0.49       915\n",
      "           9       0.40      0.44      0.42       956\n",
      "          10       0.45      0.52      0.48       987\n",
      "\n",
      "    accuracy                           0.63     13249\n",
      "   macro avg       0.48      0.47      0.47     13249\n",
      "weighted avg       0.63      0.63      0.63     13249\n",
      "\n"
     ]
    }
   ],
   "source": [
    "y_pred = xgb.predict(X_test_pre)\n",
    "\n",
    "print(classification_report(y_test, y_pred))"
   ]
  },
  {
   "cell_type": "markdown",
   "id": "8c3b24ba",
   "metadata": {},
   "source": [
    "---------------------------"
   ]
  },
  {
   "cell_type": "markdown",
   "id": "54dc8c58",
   "metadata": {},
   "source": [
    "###### 7) Use Voting Ensemble method"
   ]
  },
  {
   "cell_type": "markdown",
   "id": "f5ac4275",
   "metadata": {},
   "source": [
    "__We have now  6 weak models with the best parameter for those , now make ensemble for their models__"
   ]
  },
  {
   "cell_type": "code",
   "execution_count": 63,
   "id": "d564a387",
   "metadata": {},
   "outputs": [
    {
     "name": "stderr",
     "output_type": "stream",
     "text": [
      "/home/ramy/anaconda3/lib/python3.9/site-packages/sklearn/linear_model/_logistic.py:460: ConvergenceWarning: lbfgs failed to converge (status=1):\n",
      "STOP: TOTAL NO. of ITERATIONS REACHED LIMIT.\n",
      "\n",
      "Increase the number of iterations (max_iter) or scale the data as shown in:\n",
      "    https://scikit-learn.org/stable/modules/preprocessing.html\n",
      "Please also refer to the documentation for alternative solver options:\n",
      "    https://scikit-learn.org/stable/modules/linear_model.html#logistic-regression\n",
      "  n_iter_i = _check_optimize_result(\n"
     ]
    },
    {
     "data": {
      "text/html": [
       "<style>#sk-container-id-7 {color: black;}#sk-container-id-7 pre{padding: 0;}#sk-container-id-7 div.sk-toggleable {background-color: white;}#sk-container-id-7 label.sk-toggleable__label {cursor: pointer;display: block;width: 100%;margin-bottom: 0;padding: 0.3em;box-sizing: border-box;text-align: center;}#sk-container-id-7 label.sk-toggleable__label-arrow:before {content: \"▸\";float: left;margin-right: 0.25em;color: #696969;}#sk-container-id-7 label.sk-toggleable__label-arrow:hover:before {color: black;}#sk-container-id-7 div.sk-estimator:hover label.sk-toggleable__label-arrow:before {color: black;}#sk-container-id-7 div.sk-toggleable__content {max-height: 0;max-width: 0;overflow: hidden;text-align: left;background-color: #f0f8ff;}#sk-container-id-7 div.sk-toggleable__content pre {margin: 0.2em;color: black;border-radius: 0.25em;background-color: #f0f8ff;}#sk-container-id-7 input.sk-toggleable__control:checked~div.sk-toggleable__content {max-height: 200px;max-width: 100%;overflow: auto;}#sk-container-id-7 input.sk-toggleable__control:checked~label.sk-toggleable__label-arrow:before {content: \"▾\";}#sk-container-id-7 div.sk-estimator input.sk-toggleable__control:checked~label.sk-toggleable__label {background-color: #d4ebff;}#sk-container-id-7 div.sk-label input.sk-toggleable__control:checked~label.sk-toggleable__label {background-color: #d4ebff;}#sk-container-id-7 input.sk-hidden--visually {border: 0;clip: rect(1px 1px 1px 1px);clip: rect(1px, 1px, 1px, 1px);height: 1px;margin: -1px;overflow: hidden;padding: 0;position: absolute;width: 1px;}#sk-container-id-7 div.sk-estimator {font-family: monospace;background-color: #f0f8ff;border: 1px dotted black;border-radius: 0.25em;box-sizing: border-box;margin-bottom: 0.5em;}#sk-container-id-7 div.sk-estimator:hover {background-color: #d4ebff;}#sk-container-id-7 div.sk-parallel-item::after {content: \"\";width: 100%;border-bottom: 1px solid gray;flex-grow: 1;}#sk-container-id-7 div.sk-label:hover label.sk-toggleable__label {background-color: #d4ebff;}#sk-container-id-7 div.sk-serial::before {content: \"\";position: absolute;border-left: 1px solid gray;box-sizing: border-box;top: 0;bottom: 0;left: 50%;z-index: 0;}#sk-container-id-7 div.sk-serial {display: flex;flex-direction: column;align-items: center;background-color: white;padding-right: 0.2em;padding-left: 0.2em;position: relative;}#sk-container-id-7 div.sk-item {position: relative;z-index: 1;}#sk-container-id-7 div.sk-parallel {display: flex;align-items: stretch;justify-content: center;background-color: white;position: relative;}#sk-container-id-7 div.sk-item::before, #sk-container-id-7 div.sk-parallel-item::before {content: \"\";position: absolute;border-left: 1px solid gray;box-sizing: border-box;top: 0;bottom: 0;left: 50%;z-index: -1;}#sk-container-id-7 div.sk-parallel-item {display: flex;flex-direction: column;z-index: 1;position: relative;background-color: white;}#sk-container-id-7 div.sk-parallel-item:first-child::after {align-self: flex-end;width: 50%;}#sk-container-id-7 div.sk-parallel-item:last-child::after {align-self: flex-start;width: 50%;}#sk-container-id-7 div.sk-parallel-item:only-child::after {width: 0;}#sk-container-id-7 div.sk-dashed-wrapped {border: 1px dashed gray;margin: 0 0.4em 0.5em 0.4em;box-sizing: border-box;padding-bottom: 0.4em;background-color: white;}#sk-container-id-7 div.sk-label label {font-family: monospace;font-weight: bold;display: inline-block;line-height: 1.2em;}#sk-container-id-7 div.sk-label-container {text-align: center;}#sk-container-id-7 div.sk-container {/* jupyter's `normalize.less` sets `[hidden] { display: none; }` but bootstrap.min.css set `[hidden] { display: none !important; }` so we also need the `!important` here to be able to override the default hidden behavior on the sphinx rendered scikit-learn.org. See: https://github.com/scikit-learn/scikit-learn/issues/21755 */display: inline-block !important;position: relative;}#sk-container-id-7 div.sk-text-repr-fallback {display: none;}</style><div id=\"sk-container-id-7\" class=\"sk-top-container\"><div class=\"sk-text-repr-fallback\"><pre>VotingClassifier(estimators=[(&#x27;log&#x27;, LogisticRegression()), (&#x27;svc&#x27;, SVC()),\n",
       "                             (&#x27;knn&#x27;,\n",
       "                              KNeighborsClassifier(n_neighbors=31,\n",
       "                                                   weights=&#x27;distance&#x27;)),\n",
       "                             (&#x27;desciontree&#x27;,\n",
       "                              DecisionTreeClassifier(criterion=&#x27;entropy&#x27;,\n",
       "                                                     max_depth=29,\n",
       "                                                     random_state=0,\n",
       "                                                     splitter=&#x27;random&#x27;)),\n",
       "                             (&#x27;randomforset&#x27;,\n",
       "                              RandomForestClassifier(random_state=0)),\n",
       "                             (&#x27;xgboost&#x27;,\n",
       "                              XGBClassifier(base_score=None, booster=Non...\n",
       "                                            feature_types=None, gamma=0.0,\n",
       "                                            gpu_id=None, grow_policy=None,\n",
       "                                            importance_type=None,\n",
       "                                            interaction_constraints=None,\n",
       "                                            learning_rate=None, max_bin=None,\n",
       "                                            max_cat_threshold=None,\n",
       "                                            max_cat_to_onehot=None,\n",
       "                                            max_delta_step=None, max_depth=9,\n",
       "                                            max_leaves=None, min_child_weight=1,\n",
       "                                            missing=nan,\n",
       "                                            monotone_constraints=None,\n",
       "                                            n_estimators=100, n_jobs=None,\n",
       "                                            num_parallel_tree=None,\n",
       "                                            objective=&#x27;multi:softprob&#x27;, ...))])</pre><b>In a Jupyter environment, please rerun this cell to show the HTML representation or trust the notebook. <br />On GitHub, the HTML representation is unable to render, please try loading this page with nbviewer.org.</b></div><div class=\"sk-container\" hidden><div class=\"sk-item sk-dashed-wrapped\"><div class=\"sk-label-container\"><div class=\"sk-label sk-toggleable\"><input class=\"sk-toggleable__control sk-hidden--visually\" id=\"sk-estimator-id-13\" type=\"checkbox\" ><label for=\"sk-estimator-id-13\" class=\"sk-toggleable__label sk-toggleable__label-arrow\">VotingClassifier</label><div class=\"sk-toggleable__content\"><pre>VotingClassifier(estimators=[(&#x27;log&#x27;, LogisticRegression()), (&#x27;svc&#x27;, SVC()),\n",
       "                             (&#x27;knn&#x27;,\n",
       "                              KNeighborsClassifier(n_neighbors=31,\n",
       "                                                   weights=&#x27;distance&#x27;)),\n",
       "                             (&#x27;desciontree&#x27;,\n",
       "                              DecisionTreeClassifier(criterion=&#x27;entropy&#x27;,\n",
       "                                                     max_depth=29,\n",
       "                                                     random_state=0,\n",
       "                                                     splitter=&#x27;random&#x27;)),\n",
       "                             (&#x27;randomforset&#x27;,\n",
       "                              RandomForestClassifier(random_state=0)),\n",
       "                             (&#x27;xgboost&#x27;,\n",
       "                              XGBClassifier(base_score=None, booster=Non...\n",
       "                                            feature_types=None, gamma=0.0,\n",
       "                                            gpu_id=None, grow_policy=None,\n",
       "                                            importance_type=None,\n",
       "                                            interaction_constraints=None,\n",
       "                                            learning_rate=None, max_bin=None,\n",
       "                                            max_cat_threshold=None,\n",
       "                                            max_cat_to_onehot=None,\n",
       "                                            max_delta_step=None, max_depth=9,\n",
       "                                            max_leaves=None, min_child_weight=1,\n",
       "                                            missing=nan,\n",
       "                                            monotone_constraints=None,\n",
       "                                            n_estimators=100, n_jobs=None,\n",
       "                                            num_parallel_tree=None,\n",
       "                                            objective=&#x27;multi:softprob&#x27;, ...))])</pre></div></div></div><div class=\"sk-parallel\"><div class=\"sk-parallel-item\"><div class=\"sk-item\"><div class=\"sk-label-container\"><div class=\"sk-label sk-toggleable\"><label>log</label></div></div><div class=\"sk-serial\"><div class=\"sk-item\"><div class=\"sk-estimator sk-toggleable\"><input class=\"sk-toggleable__control sk-hidden--visually\" id=\"sk-estimator-id-14\" type=\"checkbox\" ><label for=\"sk-estimator-id-14\" class=\"sk-toggleable__label sk-toggleable__label-arrow\">LogisticRegression</label><div class=\"sk-toggleable__content\"><pre>LogisticRegression()</pre></div></div></div></div></div></div><div class=\"sk-parallel-item\"><div class=\"sk-item\"><div class=\"sk-label-container\"><div class=\"sk-label sk-toggleable\"><label>svc</label></div></div><div class=\"sk-serial\"><div class=\"sk-item\"><div class=\"sk-estimator sk-toggleable\"><input class=\"sk-toggleable__control sk-hidden--visually\" id=\"sk-estimator-id-15\" type=\"checkbox\" ><label for=\"sk-estimator-id-15\" class=\"sk-toggleable__label sk-toggleable__label-arrow\">SVC</label><div class=\"sk-toggleable__content\"><pre>SVC()</pre></div></div></div></div></div></div><div class=\"sk-parallel-item\"><div class=\"sk-item\"><div class=\"sk-label-container\"><div class=\"sk-label sk-toggleable\"><label>knn</label></div></div><div class=\"sk-serial\"><div class=\"sk-item\"><div class=\"sk-estimator sk-toggleable\"><input class=\"sk-toggleable__control sk-hidden--visually\" id=\"sk-estimator-id-16\" type=\"checkbox\" ><label for=\"sk-estimator-id-16\" class=\"sk-toggleable__label sk-toggleable__label-arrow\">KNeighborsClassifier</label><div class=\"sk-toggleable__content\"><pre>KNeighborsClassifier(n_neighbors=31, weights=&#x27;distance&#x27;)</pre></div></div></div></div></div></div><div class=\"sk-parallel-item\"><div class=\"sk-item\"><div class=\"sk-label-container\"><div class=\"sk-label sk-toggleable\"><label>desciontree</label></div></div><div class=\"sk-serial\"><div class=\"sk-item\"><div class=\"sk-estimator sk-toggleable\"><input class=\"sk-toggleable__control sk-hidden--visually\" id=\"sk-estimator-id-17\" type=\"checkbox\" ><label for=\"sk-estimator-id-17\" class=\"sk-toggleable__label sk-toggleable__label-arrow\">DecisionTreeClassifier</label><div class=\"sk-toggleable__content\"><pre>DecisionTreeClassifier(criterion=&#x27;entropy&#x27;, max_depth=29, random_state=0,\n",
       "                       splitter=&#x27;random&#x27;)</pre></div></div></div></div></div></div><div class=\"sk-parallel-item\"><div class=\"sk-item\"><div class=\"sk-label-container\"><div class=\"sk-label sk-toggleable\"><label>randomforset</label></div></div><div class=\"sk-serial\"><div class=\"sk-item\"><div class=\"sk-estimator sk-toggleable\"><input class=\"sk-toggleable__control sk-hidden--visually\" id=\"sk-estimator-id-18\" type=\"checkbox\" ><label for=\"sk-estimator-id-18\" class=\"sk-toggleable__label sk-toggleable__label-arrow\">RandomForestClassifier</label><div class=\"sk-toggleable__content\"><pre>RandomForestClassifier(random_state=0)</pre></div></div></div></div></div></div><div class=\"sk-parallel-item\"><div class=\"sk-item\"><div class=\"sk-label-container\"><div class=\"sk-label sk-toggleable\"><label>xgboost</label></div></div><div class=\"sk-serial\"><div class=\"sk-item\"><div class=\"sk-estimator sk-toggleable\"><input class=\"sk-toggleable__control sk-hidden--visually\" id=\"sk-estimator-id-19\" type=\"checkbox\" ><label for=\"sk-estimator-id-19\" class=\"sk-toggleable__label sk-toggleable__label-arrow\">XGBClassifier</label><div class=\"sk-toggleable__content\"><pre>XGBClassifier(base_score=None, booster=None, callbacks=None,\n",
       "              colsample_bylevel=None, colsample_bynode=None,\n",
       "              colsample_bytree=0.8, early_stopping_rounds=None,\n",
       "              enable_categorical=False, eta=0.07, eval_metric=None,\n",
       "              feature_types=None, gamma=0.0, gpu_id=None, grow_policy=None,\n",
       "              importance_type=None, interaction_constraints=None,\n",
       "              learning_rate=None, max_bin=None, max_cat_threshold=None,\n",
       "              max_cat_to_onehot=None, max_delta_step=None, max_depth=9,\n",
       "              max_leaves=None, min_child_weight=1, missing=nan,\n",
       "              monotone_constraints=None, n_estimators=100, n_jobs=None,\n",
       "              num_parallel_tree=None, objective=&#x27;multi:softprob&#x27;, ...)</pre></div></div></div></div></div></div></div></div></div></div>"
      ],
      "text/plain": [
       "VotingClassifier(estimators=[('log', LogisticRegression()), ('svc', SVC()),\n",
       "                             ('knn',\n",
       "                              KNeighborsClassifier(n_neighbors=31,\n",
       "                                                   weights='distance')),\n",
       "                             ('desciontree',\n",
       "                              DecisionTreeClassifier(criterion='entropy',\n",
       "                                                     max_depth=29,\n",
       "                                                     random_state=0,\n",
       "                                                     splitter='random')),\n",
       "                             ('randomforset',\n",
       "                              RandomForestClassifier(random_state=0)),\n",
       "                             ('xgboost',\n",
       "                              XGBClassifier(base_score=None, booster=Non...\n",
       "                                            feature_types=None, gamma=0.0,\n",
       "                                            gpu_id=None, grow_policy=None,\n",
       "                                            importance_type=None,\n",
       "                                            interaction_constraints=None,\n",
       "                                            learning_rate=None, max_bin=None,\n",
       "                                            max_cat_threshold=None,\n",
       "                                            max_cat_to_onehot=None,\n",
       "                                            max_delta_step=None, max_depth=9,\n",
       "                                            max_leaves=None, min_child_weight=1,\n",
       "                                            missing=nan,\n",
       "                                            monotone_constraints=None,\n",
       "                                            n_estimators=100, n_jobs=None,\n",
       "                                            num_parallel_tree=None,\n",
       "                                            objective='multi:softprob', ...))])"
      ]
     },
     "execution_count": 63,
     "metadata": {},
     "output_type": "execute_result"
    }
   ],
   "source": [
    "from sklearn.ensemble import VotingClassifier\n",
    "estimators=[(\"log\",base),\n",
    "            (\"svc\",svc),\n",
    "            (\"knn\",knn),\n",
    "            (\"desciontree\",dtc),\n",
    "            (\"randomforset\",rfc),\n",
    "            (\"xgboost\",xgb)]\n",
    " \n",
    "vot =VotingClassifier(estimators=estimators)\n",
    "vot.fit(X_train_pre,y_train)"
   ]
  },
  {
   "cell_type": "code",
   "execution_count": 64,
   "id": "b5bb39bd",
   "metadata": {},
   "outputs": [
    {
     "name": "stderr",
     "output_type": "stream",
     "text": [
      "/home/ramy/anaconda3/lib/python3.9/site-packages/sklearn/linear_model/_logistic.py:460: ConvergenceWarning: lbfgs failed to converge (status=1):\n",
      "STOP: TOTAL NO. of ITERATIONS REACHED LIMIT.\n",
      "\n",
      "Increase the number of iterations (max_iter) or scale the data as shown in:\n",
      "    https://scikit-learn.org/stable/modules/preprocessing.html\n",
      "Please also refer to the documentation for alternative solver options:\n",
      "    https://scikit-learn.org/stable/modules/linear_model.html#logistic-regression\n",
      "  n_iter_i = _check_optimize_result(\n",
      "/home/ramy/anaconda3/lib/python3.9/site-packages/sklearn/linear_model/_logistic.py:460: ConvergenceWarning: lbfgs failed to converge (status=1):\n",
      "STOP: TOTAL NO. of ITERATIONS REACHED LIMIT.\n",
      "\n",
      "Increase the number of iterations (max_iter) or scale the data as shown in:\n",
      "    https://scikit-learn.org/stable/modules/preprocessing.html\n",
      "Please also refer to the documentation for alternative solver options:\n",
      "    https://scikit-learn.org/stable/modules/linear_model.html#logistic-regression\n",
      "  n_iter_i = _check_optimize_result(\n",
      "/home/ramy/anaconda3/lib/python3.9/site-packages/sklearn/linear_model/_logistic.py:460: ConvergenceWarning: lbfgs failed to converge (status=1):\n",
      "STOP: TOTAL NO. of ITERATIONS REACHED LIMIT.\n",
      "\n",
      "Increase the number of iterations (max_iter) or scale the data as shown in:\n",
      "    https://scikit-learn.org/stable/modules/preprocessing.html\n",
      "Please also refer to the documentation for alternative solver options:\n",
      "    https://scikit-learn.org/stable/modules/linear_model.html#logistic-regression\n",
      "  n_iter_i = _check_optimize_result(\n"
     ]
    }
   ],
   "source": [
    "from sklearn.model_selection import cross_val_score\n",
    "#score using cross valdtion\n",
    "score_vot=cross_val_score(vot, X_train_pre,y_train, cv=3).mean()\n"
   ]
  },
  {
   "cell_type": "code",
   "execution_count": 65,
   "id": "8e3ef2b7",
   "metadata": {},
   "outputs": [
    {
     "name": "stdout",
     "output_type": "stream",
     "text": [
      "Score of voting = 0.6882123388007652\n"
     ]
    }
   ],
   "source": [
    "print(\"Score of voting =\",score_vot)"
   ]
  },
  {
   "cell_type": "markdown",
   "id": "2dfe6134",
   "metadata": {},
   "source": [
    "in last code i use all model (6 models) ,but this way is not efficient ,so i will try to use the best 3 model have higher accuracy."
   ]
  },
  {
   "cell_type": "code",
   "execution_count": 66,
   "id": "2860eeaa",
   "metadata": {},
   "outputs": [
    {
     "name": "stdout",
     "output_type": "stream",
     "text": [
      "accuracy of logstic 0.43935391350290587\n",
      "accuracy of SVM 0.4522605479658842\n",
      "accuracy of KNN 0.6866020917143931\n",
      "accuracy of Dection tree 0.679582327499818\n",
      "accuracy of random forest 0.8030040003019095\n",
      "accuracy of Xgboost 0.6340101139708657\n"
     ]
    }
   ],
   "source": [
    "print(\"accuracy of logstic\",base_score)\n",
    "print(\"accuracy of SVM\",svc_score)\n",
    "print(\"accuracy of KNN\",knn_score)\n",
    "print(\"accuracy of Dection tree\",dtc_score)\n",
    "print(\"accuracy of random forest\",rfc_score)\n",
    "print(\"accuracy of Xgboost\",xgb_score)\n"
   ]
  },
  {
   "cell_type": "code",
   "execution_count": 67,
   "id": "0a4b7c4c",
   "metadata": {},
   "outputs": [
    {
     "data": {
      "text/html": [
       "<style>#sk-container-id-8 {color: black;}#sk-container-id-8 pre{padding: 0;}#sk-container-id-8 div.sk-toggleable {background-color: white;}#sk-container-id-8 label.sk-toggleable__label {cursor: pointer;display: block;width: 100%;margin-bottom: 0;padding: 0.3em;box-sizing: border-box;text-align: center;}#sk-container-id-8 label.sk-toggleable__label-arrow:before {content: \"▸\";float: left;margin-right: 0.25em;color: #696969;}#sk-container-id-8 label.sk-toggleable__label-arrow:hover:before {color: black;}#sk-container-id-8 div.sk-estimator:hover label.sk-toggleable__label-arrow:before {color: black;}#sk-container-id-8 div.sk-toggleable__content {max-height: 0;max-width: 0;overflow: hidden;text-align: left;background-color: #f0f8ff;}#sk-container-id-8 div.sk-toggleable__content pre {margin: 0.2em;color: black;border-radius: 0.25em;background-color: #f0f8ff;}#sk-container-id-8 input.sk-toggleable__control:checked~div.sk-toggleable__content {max-height: 200px;max-width: 100%;overflow: auto;}#sk-container-id-8 input.sk-toggleable__control:checked~label.sk-toggleable__label-arrow:before {content: \"▾\";}#sk-container-id-8 div.sk-estimator input.sk-toggleable__control:checked~label.sk-toggleable__label {background-color: #d4ebff;}#sk-container-id-8 div.sk-label input.sk-toggleable__control:checked~label.sk-toggleable__label {background-color: #d4ebff;}#sk-container-id-8 input.sk-hidden--visually {border: 0;clip: rect(1px 1px 1px 1px);clip: rect(1px, 1px, 1px, 1px);height: 1px;margin: -1px;overflow: hidden;padding: 0;position: absolute;width: 1px;}#sk-container-id-8 div.sk-estimator {font-family: monospace;background-color: #f0f8ff;border: 1px dotted black;border-radius: 0.25em;box-sizing: border-box;margin-bottom: 0.5em;}#sk-container-id-8 div.sk-estimator:hover {background-color: #d4ebff;}#sk-container-id-8 div.sk-parallel-item::after {content: \"\";width: 100%;border-bottom: 1px solid gray;flex-grow: 1;}#sk-container-id-8 div.sk-label:hover label.sk-toggleable__label {background-color: #d4ebff;}#sk-container-id-8 div.sk-serial::before {content: \"\";position: absolute;border-left: 1px solid gray;box-sizing: border-box;top: 0;bottom: 0;left: 50%;z-index: 0;}#sk-container-id-8 div.sk-serial {display: flex;flex-direction: column;align-items: center;background-color: white;padding-right: 0.2em;padding-left: 0.2em;position: relative;}#sk-container-id-8 div.sk-item {position: relative;z-index: 1;}#sk-container-id-8 div.sk-parallel {display: flex;align-items: stretch;justify-content: center;background-color: white;position: relative;}#sk-container-id-8 div.sk-item::before, #sk-container-id-8 div.sk-parallel-item::before {content: \"\";position: absolute;border-left: 1px solid gray;box-sizing: border-box;top: 0;bottom: 0;left: 50%;z-index: -1;}#sk-container-id-8 div.sk-parallel-item {display: flex;flex-direction: column;z-index: 1;position: relative;background-color: white;}#sk-container-id-8 div.sk-parallel-item:first-child::after {align-self: flex-end;width: 50%;}#sk-container-id-8 div.sk-parallel-item:last-child::after {align-self: flex-start;width: 50%;}#sk-container-id-8 div.sk-parallel-item:only-child::after {width: 0;}#sk-container-id-8 div.sk-dashed-wrapped {border: 1px dashed gray;margin: 0 0.4em 0.5em 0.4em;box-sizing: border-box;padding-bottom: 0.4em;background-color: white;}#sk-container-id-8 div.sk-label label {font-family: monospace;font-weight: bold;display: inline-block;line-height: 1.2em;}#sk-container-id-8 div.sk-label-container {text-align: center;}#sk-container-id-8 div.sk-container {/* jupyter's `normalize.less` sets `[hidden] { display: none; }` but bootstrap.min.css set `[hidden] { display: none !important; }` so we also need the `!important` here to be able to override the default hidden behavior on the sphinx rendered scikit-learn.org. See: https://github.com/scikit-learn/scikit-learn/issues/21755 */display: inline-block !important;position: relative;}#sk-container-id-8 div.sk-text-repr-fallback {display: none;}</style><div id=\"sk-container-id-8\" class=\"sk-top-container\"><div class=\"sk-text-repr-fallback\"><pre>VotingClassifier(estimators=[(&#x27;knn&#x27;,\n",
       "                              KNeighborsClassifier(n_neighbors=31,\n",
       "                                                   weights=&#x27;distance&#x27;)),\n",
       "                             (&#x27;randomforset&#x27;,\n",
       "                              RandomForestClassifier(random_state=0)),\n",
       "                             (&#x27;xgboost&#x27;,\n",
       "                              XGBClassifier(base_score=None, booster=None,\n",
       "                                            callbacks=None,\n",
       "                                            colsample_bylevel=None,\n",
       "                                            colsample_bynode=None,\n",
       "                                            colsample_bytree=0.8,\n",
       "                                            early_stopping_rounds=None,\n",
       "                                            enable_categorical=False, eta=0.07,\n",
       "                                            eval_...\n",
       "                                            feature_types=None, gamma=0.0,\n",
       "                                            gpu_id=None, grow_policy=None,\n",
       "                                            importance_type=None,\n",
       "                                            interaction_constraints=None,\n",
       "                                            learning_rate=None, max_bin=None,\n",
       "                                            max_cat_threshold=None,\n",
       "                                            max_cat_to_onehot=None,\n",
       "                                            max_delta_step=None, max_depth=9,\n",
       "                                            max_leaves=None, min_child_weight=1,\n",
       "                                            missing=nan,\n",
       "                                            monotone_constraints=None,\n",
       "                                            n_estimators=100, n_jobs=None,\n",
       "                                            num_parallel_tree=None,\n",
       "                                            objective=&#x27;multi:softprob&#x27;, ...))])</pre><b>In a Jupyter environment, please rerun this cell to show the HTML representation or trust the notebook. <br />On GitHub, the HTML representation is unable to render, please try loading this page with nbviewer.org.</b></div><div class=\"sk-container\" hidden><div class=\"sk-item sk-dashed-wrapped\"><div class=\"sk-label-container\"><div class=\"sk-label sk-toggleable\"><input class=\"sk-toggleable__control sk-hidden--visually\" id=\"sk-estimator-id-20\" type=\"checkbox\" ><label for=\"sk-estimator-id-20\" class=\"sk-toggleable__label sk-toggleable__label-arrow\">VotingClassifier</label><div class=\"sk-toggleable__content\"><pre>VotingClassifier(estimators=[(&#x27;knn&#x27;,\n",
       "                              KNeighborsClassifier(n_neighbors=31,\n",
       "                                                   weights=&#x27;distance&#x27;)),\n",
       "                             (&#x27;randomforset&#x27;,\n",
       "                              RandomForestClassifier(random_state=0)),\n",
       "                             (&#x27;xgboost&#x27;,\n",
       "                              XGBClassifier(base_score=None, booster=None,\n",
       "                                            callbacks=None,\n",
       "                                            colsample_bylevel=None,\n",
       "                                            colsample_bynode=None,\n",
       "                                            colsample_bytree=0.8,\n",
       "                                            early_stopping_rounds=None,\n",
       "                                            enable_categorical=False, eta=0.07,\n",
       "                                            eval_...\n",
       "                                            feature_types=None, gamma=0.0,\n",
       "                                            gpu_id=None, grow_policy=None,\n",
       "                                            importance_type=None,\n",
       "                                            interaction_constraints=None,\n",
       "                                            learning_rate=None, max_bin=None,\n",
       "                                            max_cat_threshold=None,\n",
       "                                            max_cat_to_onehot=None,\n",
       "                                            max_delta_step=None, max_depth=9,\n",
       "                                            max_leaves=None, min_child_weight=1,\n",
       "                                            missing=nan,\n",
       "                                            monotone_constraints=None,\n",
       "                                            n_estimators=100, n_jobs=None,\n",
       "                                            num_parallel_tree=None,\n",
       "                                            objective=&#x27;multi:softprob&#x27;, ...))])</pre></div></div></div><div class=\"sk-parallel\"><div class=\"sk-parallel-item\"><div class=\"sk-item\"><div class=\"sk-label-container\"><div class=\"sk-label sk-toggleable\"><label>knn</label></div></div><div class=\"sk-serial\"><div class=\"sk-item\"><div class=\"sk-estimator sk-toggleable\"><input class=\"sk-toggleable__control sk-hidden--visually\" id=\"sk-estimator-id-21\" type=\"checkbox\" ><label for=\"sk-estimator-id-21\" class=\"sk-toggleable__label sk-toggleable__label-arrow\">KNeighborsClassifier</label><div class=\"sk-toggleable__content\"><pre>KNeighborsClassifier(n_neighbors=31, weights=&#x27;distance&#x27;)</pre></div></div></div></div></div></div><div class=\"sk-parallel-item\"><div class=\"sk-item\"><div class=\"sk-label-container\"><div class=\"sk-label sk-toggleable\"><label>randomforset</label></div></div><div class=\"sk-serial\"><div class=\"sk-item\"><div class=\"sk-estimator sk-toggleable\"><input class=\"sk-toggleable__control sk-hidden--visually\" id=\"sk-estimator-id-22\" type=\"checkbox\" ><label for=\"sk-estimator-id-22\" class=\"sk-toggleable__label sk-toggleable__label-arrow\">RandomForestClassifier</label><div class=\"sk-toggleable__content\"><pre>RandomForestClassifier(random_state=0)</pre></div></div></div></div></div></div><div class=\"sk-parallel-item\"><div class=\"sk-item\"><div class=\"sk-label-container\"><div class=\"sk-label sk-toggleable\"><label>xgboost</label></div></div><div class=\"sk-serial\"><div class=\"sk-item\"><div class=\"sk-estimator sk-toggleable\"><input class=\"sk-toggleable__control sk-hidden--visually\" id=\"sk-estimator-id-23\" type=\"checkbox\" ><label for=\"sk-estimator-id-23\" class=\"sk-toggleable__label sk-toggleable__label-arrow\">XGBClassifier</label><div class=\"sk-toggleable__content\"><pre>XGBClassifier(base_score=None, booster=None, callbacks=None,\n",
       "              colsample_bylevel=None, colsample_bynode=None,\n",
       "              colsample_bytree=0.8, early_stopping_rounds=None,\n",
       "              enable_categorical=False, eta=0.07, eval_metric=None,\n",
       "              feature_types=None, gamma=0.0, gpu_id=None, grow_policy=None,\n",
       "              importance_type=None, interaction_constraints=None,\n",
       "              learning_rate=None, max_bin=None, max_cat_threshold=None,\n",
       "              max_cat_to_onehot=None, max_delta_step=None, max_depth=9,\n",
       "              max_leaves=None, min_child_weight=1, missing=nan,\n",
       "              monotone_constraints=None, n_estimators=100, n_jobs=None,\n",
       "              num_parallel_tree=None, objective=&#x27;multi:softprob&#x27;, ...)</pre></div></div></div></div></div></div></div></div></div></div>"
      ],
      "text/plain": [
       "VotingClassifier(estimators=[('knn',\n",
       "                              KNeighborsClassifier(n_neighbors=31,\n",
       "                                                   weights='distance')),\n",
       "                             ('randomforset',\n",
       "                              RandomForestClassifier(random_state=0)),\n",
       "                             ('xgboost',\n",
       "                              XGBClassifier(base_score=None, booster=None,\n",
       "                                            callbacks=None,\n",
       "                                            colsample_bylevel=None,\n",
       "                                            colsample_bynode=None,\n",
       "                                            colsample_bytree=0.8,\n",
       "                                            early_stopping_rounds=None,\n",
       "                                            enable_categorical=False, eta=0.07,\n",
       "                                            eval_...\n",
       "                                            feature_types=None, gamma=0.0,\n",
       "                                            gpu_id=None, grow_policy=None,\n",
       "                                            importance_type=None,\n",
       "                                            interaction_constraints=None,\n",
       "                                            learning_rate=None, max_bin=None,\n",
       "                                            max_cat_threshold=None,\n",
       "                                            max_cat_to_onehot=None,\n",
       "                                            max_delta_step=None, max_depth=9,\n",
       "                                            max_leaves=None, min_child_weight=1,\n",
       "                                            missing=nan,\n",
       "                                            monotone_constraints=None,\n",
       "                                            n_estimators=100, n_jobs=None,\n",
       "                                            num_parallel_tree=None,\n",
       "                                            objective='multi:softprob', ...))])"
      ]
     },
     "execution_count": 67,
     "metadata": {},
     "output_type": "execute_result"
    }
   ],
   "source": [
    "estimators2=[ \n",
    "            (\"knn\",knn),\n",
    "            (\"randomforset\",rfc),\n",
    "            (\"xgboost\",xgb)]\n",
    " \n",
    "vot2 =VotingClassifier(estimators=estimators2)\n",
    "vot2.fit(X_train_pre,y_train)"
   ]
  },
  {
   "cell_type": "code",
   "execution_count": 68,
   "id": "f70995fd",
   "metadata": {},
   "outputs": [],
   "source": [
    "#score using cross valdtion\n",
    "score_vot2=cross_val_score(vot2, X_train_pre,y_train, cv=3).mean()\n"
   ]
  },
  {
   "cell_type": "code",
   "execution_count": 69,
   "id": "65b4ed99",
   "metadata": {},
   "outputs": [
    {
     "name": "stdout",
     "output_type": "stream",
     "text": [
      "Score of voting 2 = 0.6950308831377788\n"
     ]
    }
   ],
   "source": [
    "print(\"Score of voting 2 =\",score_vot2)"
   ]
  },
  {
   "cell_type": "markdown",
   "id": "4ae5a11e",
   "metadata": {},
   "source": [
    "------------------------------------------------"
   ]
  },
  {
   "cell_type": "markdown",
   "id": "695c9578",
   "metadata": {},
   "source": [
    "###### 8) Use Bagging method"
   ]
  },
  {
   "cell_type": "code",
   "execution_count": 78,
   "id": "259965a3",
   "metadata": {},
   "outputs": [
    {
     "data": {
      "text/html": [
       "<style>#sk-container-id-11 {color: black;}#sk-container-id-11 pre{padding: 0;}#sk-container-id-11 div.sk-toggleable {background-color: white;}#sk-container-id-11 label.sk-toggleable__label {cursor: pointer;display: block;width: 100%;margin-bottom: 0;padding: 0.3em;box-sizing: border-box;text-align: center;}#sk-container-id-11 label.sk-toggleable__label-arrow:before {content: \"▸\";float: left;margin-right: 0.25em;color: #696969;}#sk-container-id-11 label.sk-toggleable__label-arrow:hover:before {color: black;}#sk-container-id-11 div.sk-estimator:hover label.sk-toggleable__label-arrow:before {color: black;}#sk-container-id-11 div.sk-toggleable__content {max-height: 0;max-width: 0;overflow: hidden;text-align: left;background-color: #f0f8ff;}#sk-container-id-11 div.sk-toggleable__content pre {margin: 0.2em;color: black;border-radius: 0.25em;background-color: #f0f8ff;}#sk-container-id-11 input.sk-toggleable__control:checked~div.sk-toggleable__content {max-height: 200px;max-width: 100%;overflow: auto;}#sk-container-id-11 input.sk-toggleable__control:checked~label.sk-toggleable__label-arrow:before {content: \"▾\";}#sk-container-id-11 div.sk-estimator input.sk-toggleable__control:checked~label.sk-toggleable__label {background-color: #d4ebff;}#sk-container-id-11 div.sk-label input.sk-toggleable__control:checked~label.sk-toggleable__label {background-color: #d4ebff;}#sk-container-id-11 input.sk-hidden--visually {border: 0;clip: rect(1px 1px 1px 1px);clip: rect(1px, 1px, 1px, 1px);height: 1px;margin: -1px;overflow: hidden;padding: 0;position: absolute;width: 1px;}#sk-container-id-11 div.sk-estimator {font-family: monospace;background-color: #f0f8ff;border: 1px dotted black;border-radius: 0.25em;box-sizing: border-box;margin-bottom: 0.5em;}#sk-container-id-11 div.sk-estimator:hover {background-color: #d4ebff;}#sk-container-id-11 div.sk-parallel-item::after {content: \"\";width: 100%;border-bottom: 1px solid gray;flex-grow: 1;}#sk-container-id-11 div.sk-label:hover label.sk-toggleable__label {background-color: #d4ebff;}#sk-container-id-11 div.sk-serial::before {content: \"\";position: absolute;border-left: 1px solid gray;box-sizing: border-box;top: 0;bottom: 0;left: 50%;z-index: 0;}#sk-container-id-11 div.sk-serial {display: flex;flex-direction: column;align-items: center;background-color: white;padding-right: 0.2em;padding-left: 0.2em;position: relative;}#sk-container-id-11 div.sk-item {position: relative;z-index: 1;}#sk-container-id-11 div.sk-parallel {display: flex;align-items: stretch;justify-content: center;background-color: white;position: relative;}#sk-container-id-11 div.sk-item::before, #sk-container-id-11 div.sk-parallel-item::before {content: \"\";position: absolute;border-left: 1px solid gray;box-sizing: border-box;top: 0;bottom: 0;left: 50%;z-index: -1;}#sk-container-id-11 div.sk-parallel-item {display: flex;flex-direction: column;z-index: 1;position: relative;background-color: white;}#sk-container-id-11 div.sk-parallel-item:first-child::after {align-self: flex-end;width: 50%;}#sk-container-id-11 div.sk-parallel-item:last-child::after {align-self: flex-start;width: 50%;}#sk-container-id-11 div.sk-parallel-item:only-child::after {width: 0;}#sk-container-id-11 div.sk-dashed-wrapped {border: 1px dashed gray;margin: 0 0.4em 0.5em 0.4em;box-sizing: border-box;padding-bottom: 0.4em;background-color: white;}#sk-container-id-11 div.sk-label label {font-family: monospace;font-weight: bold;display: inline-block;line-height: 1.2em;}#sk-container-id-11 div.sk-label-container {text-align: center;}#sk-container-id-11 div.sk-container {/* jupyter's `normalize.less` sets `[hidden] { display: none; }` but bootstrap.min.css set `[hidden] { display: none !important; }` so we also need the `!important` here to be able to override the default hidden behavior on the sphinx rendered scikit-learn.org. See: https://github.com/scikit-learn/scikit-learn/issues/21755 */display: inline-block !important;position: relative;}#sk-container-id-11 div.sk-text-repr-fallback {display: none;}</style><div id=\"sk-container-id-11\" class=\"sk-top-container\"><div class=\"sk-text-repr-fallback\"><pre>GridSearchCV(cv=3,\n",
       "             estimator=BaggingClassifier(estimator=KNeighborsClassifier(n_neighbors=31,\n",
       "                                                                        weights=&#x27;distance&#x27;)),\n",
       "             param_grid={&#x27;max_samples&#x27;: range(31, 50, 2),\n",
       "                         &#x27;n_estimators&#x27;: [10, 100, 500, 1000]})</pre><b>In a Jupyter environment, please rerun this cell to show the HTML representation or trust the notebook. <br />On GitHub, the HTML representation is unable to render, please try loading this page with nbviewer.org.</b></div><div class=\"sk-container\" hidden><div class=\"sk-item sk-dashed-wrapped\"><div class=\"sk-label-container\"><div class=\"sk-label sk-toggleable\"><input class=\"sk-toggleable__control sk-hidden--visually\" id=\"sk-estimator-id-32\" type=\"checkbox\" ><label for=\"sk-estimator-id-32\" class=\"sk-toggleable__label sk-toggleable__label-arrow\">GridSearchCV</label><div class=\"sk-toggleable__content\"><pre>GridSearchCV(cv=3,\n",
       "             estimator=BaggingClassifier(estimator=KNeighborsClassifier(n_neighbors=31,\n",
       "                                                                        weights=&#x27;distance&#x27;)),\n",
       "             param_grid={&#x27;max_samples&#x27;: range(31, 50, 2),\n",
       "                         &#x27;n_estimators&#x27;: [10, 100, 500, 1000]})</pre></div></div></div><div class=\"sk-parallel\"><div class=\"sk-parallel-item\"><div class=\"sk-item\"><div class=\"sk-label-container\"><div class=\"sk-label sk-toggleable\"><input class=\"sk-toggleable__control sk-hidden--visually\" id=\"sk-estimator-id-33\" type=\"checkbox\" ><label for=\"sk-estimator-id-33\" class=\"sk-toggleable__label sk-toggleable__label-arrow\">estimator: BaggingClassifier</label><div class=\"sk-toggleable__content\"><pre>BaggingClassifier(estimator=KNeighborsClassifier(n_neighbors=31,\n",
       "                                                 weights=&#x27;distance&#x27;))</pre></div></div></div><div class=\"sk-serial\"><div class=\"sk-item sk-dashed-wrapped\"><div class=\"sk-parallel\"><div class=\"sk-parallel-item\"><div class=\"sk-item\"><div class=\"sk-label-container\"><div class=\"sk-label sk-toggleable\"><input class=\"sk-toggleable__control sk-hidden--visually\" id=\"sk-estimator-id-34\" type=\"checkbox\" ><label for=\"sk-estimator-id-34\" class=\"sk-toggleable__label sk-toggleable__label-arrow\">estimator: KNeighborsClassifier</label><div class=\"sk-toggleable__content\"><pre>KNeighborsClassifier(n_neighbors=31, weights=&#x27;distance&#x27;)</pre></div></div></div><div class=\"sk-serial\"><div class=\"sk-item\"><div class=\"sk-estimator sk-toggleable\"><input class=\"sk-toggleable__control sk-hidden--visually\" id=\"sk-estimator-id-35\" type=\"checkbox\" ><label for=\"sk-estimator-id-35\" class=\"sk-toggleable__label sk-toggleable__label-arrow\">KNeighborsClassifier</label><div class=\"sk-toggleable__content\"><pre>KNeighborsClassifier(n_neighbors=31, weights=&#x27;distance&#x27;)</pre></div></div></div></div></div></div></div></div></div></div></div></div></div></div></div>"
      ],
      "text/plain": [
       "GridSearchCV(cv=3,\n",
       "             estimator=BaggingClassifier(estimator=KNeighborsClassifier(n_neighbors=31,\n",
       "                                                                        weights='distance')),\n",
       "             param_grid={'max_samples': range(31, 50, 2),\n",
       "                         'n_estimators': [10, 100, 500, 1000]})"
      ]
     },
     "execution_count": 78,
     "metadata": {},
     "output_type": "execute_result"
    }
   ],
   "source": [
    "from sklearn.ensemble import BaggingClassifier\n",
    "#bagg with only KNN model\n",
    "\n",
    "parmaeter={\"n_estimators\":[10,100,500,1000],\n",
    "               \"max_samples\":range(31,50,2)}\n",
    "knn_bagg=GridSearchCV(estimator=BaggingClassifier(estimator=knn),param_grid=parmaeter,cv=3)\n",
    "\n",
    "#fit\n",
    "knn_bagg.fit(X_train_pre,y_train)"
   ]
  },
  {
   "cell_type": "code",
   "execution_count": 79,
   "id": "ade238a6",
   "metadata": {},
   "outputs": [
    {
     "name": "stdout",
     "output_type": "stream",
     "text": [
      "Best parameter in Bagging {'max_samples': 39, 'n_estimators': 10}\n",
      "Best score in Bagging 0.3633916226807261\n"
     ]
    }
   ],
   "source": [
    "#best parameter\n",
    "print(\"Best parameter in Bagging\",knn_bagg.best_params_)\n",
    "print(\"Best score in Bagging\",knn_bagg.best_score_)"
   ]
  },
  {
   "cell_type": "code",
   "execution_count": 80,
   "id": "0889fe0c",
   "metadata": {},
   "outputs": [
    {
     "data": {
      "text/html": [
       "<style>#sk-container-id-12 {color: black;}#sk-container-id-12 pre{padding: 0;}#sk-container-id-12 div.sk-toggleable {background-color: white;}#sk-container-id-12 label.sk-toggleable__label {cursor: pointer;display: block;width: 100%;margin-bottom: 0;padding: 0.3em;box-sizing: border-box;text-align: center;}#sk-container-id-12 label.sk-toggleable__label-arrow:before {content: \"▸\";float: left;margin-right: 0.25em;color: #696969;}#sk-container-id-12 label.sk-toggleable__label-arrow:hover:before {color: black;}#sk-container-id-12 div.sk-estimator:hover label.sk-toggleable__label-arrow:before {color: black;}#sk-container-id-12 div.sk-toggleable__content {max-height: 0;max-width: 0;overflow: hidden;text-align: left;background-color: #f0f8ff;}#sk-container-id-12 div.sk-toggleable__content pre {margin: 0.2em;color: black;border-radius: 0.25em;background-color: #f0f8ff;}#sk-container-id-12 input.sk-toggleable__control:checked~div.sk-toggleable__content {max-height: 200px;max-width: 100%;overflow: auto;}#sk-container-id-12 input.sk-toggleable__control:checked~label.sk-toggleable__label-arrow:before {content: \"▾\";}#sk-container-id-12 div.sk-estimator input.sk-toggleable__control:checked~label.sk-toggleable__label {background-color: #d4ebff;}#sk-container-id-12 div.sk-label input.sk-toggleable__control:checked~label.sk-toggleable__label {background-color: #d4ebff;}#sk-container-id-12 input.sk-hidden--visually {border: 0;clip: rect(1px 1px 1px 1px);clip: rect(1px, 1px, 1px, 1px);height: 1px;margin: -1px;overflow: hidden;padding: 0;position: absolute;width: 1px;}#sk-container-id-12 div.sk-estimator {font-family: monospace;background-color: #f0f8ff;border: 1px dotted black;border-radius: 0.25em;box-sizing: border-box;margin-bottom: 0.5em;}#sk-container-id-12 div.sk-estimator:hover {background-color: #d4ebff;}#sk-container-id-12 div.sk-parallel-item::after {content: \"\";width: 100%;border-bottom: 1px solid gray;flex-grow: 1;}#sk-container-id-12 div.sk-label:hover label.sk-toggleable__label {background-color: #d4ebff;}#sk-container-id-12 div.sk-serial::before {content: \"\";position: absolute;border-left: 1px solid gray;box-sizing: border-box;top: 0;bottom: 0;left: 50%;z-index: 0;}#sk-container-id-12 div.sk-serial {display: flex;flex-direction: column;align-items: center;background-color: white;padding-right: 0.2em;padding-left: 0.2em;position: relative;}#sk-container-id-12 div.sk-item {position: relative;z-index: 1;}#sk-container-id-12 div.sk-parallel {display: flex;align-items: stretch;justify-content: center;background-color: white;position: relative;}#sk-container-id-12 div.sk-item::before, #sk-container-id-12 div.sk-parallel-item::before {content: \"\";position: absolute;border-left: 1px solid gray;box-sizing: border-box;top: 0;bottom: 0;left: 50%;z-index: -1;}#sk-container-id-12 div.sk-parallel-item {display: flex;flex-direction: column;z-index: 1;position: relative;background-color: white;}#sk-container-id-12 div.sk-parallel-item:first-child::after {align-self: flex-end;width: 50%;}#sk-container-id-12 div.sk-parallel-item:last-child::after {align-self: flex-start;width: 50%;}#sk-container-id-12 div.sk-parallel-item:only-child::after {width: 0;}#sk-container-id-12 div.sk-dashed-wrapped {border: 1px dashed gray;margin: 0 0.4em 0.5em 0.4em;box-sizing: border-box;padding-bottom: 0.4em;background-color: white;}#sk-container-id-12 div.sk-label label {font-family: monospace;font-weight: bold;display: inline-block;line-height: 1.2em;}#sk-container-id-12 div.sk-label-container {text-align: center;}#sk-container-id-12 div.sk-container {/* jupyter's `normalize.less` sets `[hidden] { display: none; }` but bootstrap.min.css set `[hidden] { display: none !important; }` so we also need the `!important` here to be able to override the default hidden behavior on the sphinx rendered scikit-learn.org. See: https://github.com/scikit-learn/scikit-learn/issues/21755 */display: inline-block !important;position: relative;}#sk-container-id-12 div.sk-text-repr-fallback {display: none;}</style><div id=\"sk-container-id-12\" class=\"sk-top-container\"><div class=\"sk-text-repr-fallback\"><pre>GridSearchCV(cv=3,\n",
       "             estimator=BaggingClassifier(estimator=DecisionTreeClassifier(criterion=&#x27;entropy&#x27;,\n",
       "                                                                          max_depth=29,\n",
       "                                                                          random_state=0,\n",
       "                                                                          splitter=&#x27;random&#x27;)),\n",
       "             param_grid={&#x27;max_samples&#x27;: [1, 2, 3, 4, 5],\n",
       "                         &#x27;n_estimators&#x27;: [10, 100, 500, 1000]})</pre><b>In a Jupyter environment, please rerun this cell to show the HTML representation or trust the notebook. <br />On GitHub, the HTML representation is unable to render, please try loading this page with nbviewer.org.</b></div><div class=\"sk-container\" hidden><div class=\"sk-item sk-dashed-wrapped\"><div class=\"sk-label-container\"><div class=\"sk-label sk-toggleable\"><input class=\"sk-toggleable__control sk-hidden--visually\" id=\"sk-estimator-id-36\" type=\"checkbox\" ><label for=\"sk-estimator-id-36\" class=\"sk-toggleable__label sk-toggleable__label-arrow\">GridSearchCV</label><div class=\"sk-toggleable__content\"><pre>GridSearchCV(cv=3,\n",
       "             estimator=BaggingClassifier(estimator=DecisionTreeClassifier(criterion=&#x27;entropy&#x27;,\n",
       "                                                                          max_depth=29,\n",
       "                                                                          random_state=0,\n",
       "                                                                          splitter=&#x27;random&#x27;)),\n",
       "             param_grid={&#x27;max_samples&#x27;: [1, 2, 3, 4, 5],\n",
       "                         &#x27;n_estimators&#x27;: [10, 100, 500, 1000]})</pre></div></div></div><div class=\"sk-parallel\"><div class=\"sk-parallel-item\"><div class=\"sk-item\"><div class=\"sk-label-container\"><div class=\"sk-label sk-toggleable\"><input class=\"sk-toggleable__control sk-hidden--visually\" id=\"sk-estimator-id-37\" type=\"checkbox\" ><label for=\"sk-estimator-id-37\" class=\"sk-toggleable__label sk-toggleable__label-arrow\">estimator: BaggingClassifier</label><div class=\"sk-toggleable__content\"><pre>BaggingClassifier(estimator=DecisionTreeClassifier(criterion=&#x27;entropy&#x27;,\n",
       "                                                   max_depth=29, random_state=0,\n",
       "                                                   splitter=&#x27;random&#x27;))</pre></div></div></div><div class=\"sk-serial\"><div class=\"sk-item sk-dashed-wrapped\"><div class=\"sk-parallel\"><div class=\"sk-parallel-item\"><div class=\"sk-item\"><div class=\"sk-label-container\"><div class=\"sk-label sk-toggleable\"><input class=\"sk-toggleable__control sk-hidden--visually\" id=\"sk-estimator-id-38\" type=\"checkbox\" ><label for=\"sk-estimator-id-38\" class=\"sk-toggleable__label sk-toggleable__label-arrow\">estimator: DecisionTreeClassifier</label><div class=\"sk-toggleable__content\"><pre>DecisionTreeClassifier(criterion=&#x27;entropy&#x27;, max_depth=29, random_state=0,\n",
       "                       splitter=&#x27;random&#x27;)</pre></div></div></div><div class=\"sk-serial\"><div class=\"sk-item\"><div class=\"sk-estimator sk-toggleable\"><input class=\"sk-toggleable__control sk-hidden--visually\" id=\"sk-estimator-id-39\" type=\"checkbox\" ><label for=\"sk-estimator-id-39\" class=\"sk-toggleable__label sk-toggleable__label-arrow\">DecisionTreeClassifier</label><div class=\"sk-toggleable__content\"><pre>DecisionTreeClassifier(criterion=&#x27;entropy&#x27;, max_depth=29, random_state=0,\n",
       "                       splitter=&#x27;random&#x27;)</pre></div></div></div></div></div></div></div></div></div></div></div></div></div></div></div>"
      ],
      "text/plain": [
       "GridSearchCV(cv=3,\n",
       "             estimator=BaggingClassifier(estimator=DecisionTreeClassifier(criterion='entropy',\n",
       "                                                                          max_depth=29,\n",
       "                                                                          random_state=0,\n",
       "                                                                          splitter='random')),\n",
       "             param_grid={'max_samples': [1, 2, 3, 4, 5],\n",
       "                         'n_estimators': [10, 100, 500, 1000]})"
      ]
     },
     "execution_count": 80,
     "metadata": {},
     "output_type": "execute_result"
    }
   ],
   "source": [
    "#hyperparameter with only decsion tree model\n",
    "from sklearn.ensemble import BaggingClassifier\n",
    "\n",
    "bagg_parameter={\"n_estimators\":[10,100,500,1000],\n",
    "               \"max_samples\":[1,2,3,4,5]}\n",
    "dtc_bagg=GridSearchCV(estimator=BaggingClassifier(estimator=dtc),param_grid=bagg_parameter,cv=3)\n",
    "\n",
    "#fit\n",
    "dtc_bagg.fit(X_train_pre,y_train)"
   ]
  },
  {
   "cell_type": "code",
   "execution_count": 81,
   "id": "15b270d5",
   "metadata": {},
   "outputs": [
    {
     "name": "stdout",
     "output_type": "stream",
     "text": [
      "Best parameter in Bagging {'max_samples': 5, 'n_estimators': 10}\n",
      "Best score in Bagging 0.3957481819792798\n"
     ]
    }
   ],
   "source": [
    "#best parameter\n",
    "print(\"Best parameter in Bagging\",dtc_bagg.best_params_)\n",
    "print(\"Best score in Bagging\",dtc_bagg.best_score_)"
   ]
  },
  {
   "cell_type": "code",
   "execution_count": 82,
   "id": "85e58629",
   "metadata": {},
   "outputs": [
    {
     "data": {
      "text/plain": [
       "0.3957481819792798"
      ]
     },
     "execution_count": 82,
     "metadata": {},
     "output_type": "execute_result"
    }
   ],
   "source": [
    "#score\n",
    "dtc_bagg_score=dtc_bagg.best_score_\n",
    "dtc_bagg_score"
   ]
  },
  {
   "cell_type": "code",
   "execution_count": 83,
   "id": "91ea420a",
   "metadata": {},
   "outputs": [],
   "source": [
    "dtc_bagg=dtc_bagg.best_params_"
   ]
  },
  {
   "cell_type": "markdown",
   "id": "f8b307f0",
   "metadata": {},
   "source": [
    "- we note that, bagging method have the worset accurcy of all models"
   ]
  },
  {
   "cell_type": "markdown",
   "id": "1023b6af",
   "metadata": {},
   "source": [
    "--------------------------"
   ]
  },
  {
   "cell_type": "markdown",
   "id": "1397b6eb",
   "metadata": {},
   "source": [
    "###### 10) save model as binary file"
   ]
  },
  {
   "cell_type": "code",
   "execution_count": 84,
   "id": "d87dab6a",
   "metadata": {},
   "outputs": [],
   "source": [
    "import pickle\n",
    "model= pickle.dump(rfc,open(\"model\",\"wb\"))"
   ]
  },
  {
   "cell_type": "markdown",
   "id": "84d6e986",
   "metadata": {},
   "source": [
    "Random Forset have the higher accuracy, but have high memory (size)\n",
    "\n",
    "sothat i will save XGboos as demo or test in applictaion"
   ]
  },
  {
   "cell_type": "code",
   "execution_count": 85,
   "id": "b474abe6",
   "metadata": {},
   "outputs": [],
   "source": [
    "demo=pickle.dump(xgb,open(\"demo\",\"wb\"))"
   ]
  },
  {
   "cell_type": "code",
   "execution_count": null,
   "id": "f3b8a911",
   "metadata": {},
   "outputs": [],
   "source": []
  },
  {
   "cell_type": "code",
   "execution_count": null,
   "id": "4e93cac2",
   "metadata": {},
   "outputs": [],
   "source": []
  },
  {
   "cell_type": "code",
   "execution_count": null,
   "id": "d3df0f59",
   "metadata": {},
   "outputs": [],
   "source": []
  },
  {
   "cell_type": "code",
   "execution_count": null,
   "id": "1fefd866",
   "metadata": {},
   "outputs": [],
   "source": []
  },
  {
   "cell_type": "code",
   "execution_count": null,
   "id": "bcd7b649",
   "metadata": {},
   "outputs": [],
   "source": []
  },
  {
   "cell_type": "code",
   "execution_count": null,
   "id": "20b2da4a",
   "metadata": {},
   "outputs": [],
   "source": []
  }
 ],
 "metadata": {
  "kernelspec": {
   "display_name": "Python 3 (ipykernel)",
   "language": "python",
   "name": "python3"
  },
  "language_info": {
   "codemirror_mode": {
    "name": "ipython",
    "version": 3
   },
   "file_extension": ".py",
   "mimetype": "text/x-python",
   "name": "python",
   "nbconvert_exporter": "python",
   "pygments_lexer": "ipython3",
   "version": "3.9.12"
  }
 },
 "nbformat": 4,
 "nbformat_minor": 5
}
