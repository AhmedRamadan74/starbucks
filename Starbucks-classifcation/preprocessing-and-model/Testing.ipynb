{
 "cells": [
  {
   "cell_type": "code",
   "execution_count": 1,
   "id": "93ef48c7",
   "metadata": {},
   "outputs": [],
   "source": [
    "import numpy as np\n",
    "import pandas as pd\n",
    "import pickle"
   ]
  },
  {
   "cell_type": "code",
   "execution_count": 2,
   "id": "109df6fd",
   "metadata": {},
   "outputs": [],
   "source": [
    "preprocessor=pickle.load(open(\"preprocsser\",\"rb\"))\n",
    "demo_model=pickle.load(open(\"demo\",\"rb\"))"
   ]
  },
  {
   "cell_type": "code",
   "execution_count": 9,
   "id": "39d21c55",
   "metadata": {},
   "outputs": [],
   "source": [
    "#function preprecessing\n",
    "from datetime import date\n",
    "def clean(df):\n",
    "    df.became_member_on=pd.to_datetime(df.became_member_on)\n",
    "    df.insert(loc=3,value=df.became_member_on.dt.year,column=\"became_member_year\") # year\n",
    "    df.insert(loc=4,value=df.became_member_on.dt.month,column=\"became_member_month\") # month\n",
    "    df.insert(loc=5,value=df.became_member_on.dt.day,column=\"became_member_day\") # day\n",
    "    #to get login days\n",
    "    max_day=date(2018,7,26)\n",
    "    max_day=pd.to_datetime(max_day)\n",
    "    value=(max_day - df.became_member_on).dt.days\n",
    "    df.insert(loc=6,value=value,column=\"login_days\")\n",
    "    \n",
    "    #convert time to object\n",
    "    df.time=df.time.astype(\"O\")\n",
    "    \n",
    "    df.drop(\"became_member_on\",axis=1,inplace=True)\n",
    "    \n",
    "    return df"
   ]
  },
  {
   "cell_type": "code",
   "execution_count": 10,
   "id": "4b7afdd0",
   "metadata": {},
   "outputs": [],
   "source": [
    "gender=\"F\"\n",
    "age=55\n",
    "became_member_on=\"2017-07-15\"\n",
    "income=112000.0\n",
    "event=\"transaction\"\n",
    "time=18\n",
    "df=pd.DataFrame({\"gender\":gender,\n",
    "                 \"age\":age,\n",
    "                 \"became_member_on\":became_member_on,\n",
    "                 \"income\":income,\n",
    "                 \"event\":event,\n",
    "                 \"time\":time},index=[0])"
   ]
  },
  {
   "cell_type": "code",
   "execution_count": 11,
   "id": "dbb999c3",
   "metadata": {},
   "outputs": [
    {
     "data": {
      "text/html": [
       "<div>\n",
       "<style scoped>\n",
       "    .dataframe tbody tr th:only-of-type {\n",
       "        vertical-align: middle;\n",
       "    }\n",
       "\n",
       "    .dataframe tbody tr th {\n",
       "        vertical-align: top;\n",
       "    }\n",
       "\n",
       "    .dataframe thead th {\n",
       "        text-align: right;\n",
       "    }\n",
       "</style>\n",
       "<table border=\"1\" class=\"dataframe\">\n",
       "  <thead>\n",
       "    <tr style=\"text-align: right;\">\n",
       "      <th></th>\n",
       "      <th>gender</th>\n",
       "      <th>age</th>\n",
       "      <th>became_member_on</th>\n",
       "      <th>income</th>\n",
       "      <th>event</th>\n",
       "      <th>time</th>\n",
       "    </tr>\n",
       "  </thead>\n",
       "  <tbody>\n",
       "    <tr>\n",
       "      <th>0</th>\n",
       "      <td>F</td>\n",
       "      <td>55</td>\n",
       "      <td>2017-07-15</td>\n",
       "      <td>112000.0</td>\n",
       "      <td>transaction</td>\n",
       "      <td>18</td>\n",
       "    </tr>\n",
       "  </tbody>\n",
       "</table>\n",
       "</div>"
      ],
      "text/plain": [
       "  gender  age became_member_on    income        event  time\n",
       "0      F   55       2017-07-15  112000.0  transaction    18"
      ]
     },
     "execution_count": 11,
     "metadata": {},
     "output_type": "execute_result"
    }
   ],
   "source": [
    "df"
   ]
  },
  {
   "cell_type": "code",
   "execution_count": 12,
   "id": "2f891d5f",
   "metadata": {},
   "outputs": [
    {
     "data": {
      "text/plain": [
       "gender               object\n",
       "age                   int64\n",
       "became_member_on     object\n",
       "income              float64\n",
       "event                object\n",
       "time                  int64\n",
       "dtype: object"
      ]
     },
     "execution_count": 12,
     "metadata": {},
     "output_type": "execute_result"
    }
   ],
   "source": [
    "df.dtypes"
   ]
  },
  {
   "cell_type": "code",
   "execution_count": 13,
   "id": "8a227631",
   "metadata": {},
   "outputs": [
    {
     "data": {
      "text/html": [
       "<div>\n",
       "<style scoped>\n",
       "    .dataframe tbody tr th:only-of-type {\n",
       "        vertical-align: middle;\n",
       "    }\n",
       "\n",
       "    .dataframe tbody tr th {\n",
       "        vertical-align: top;\n",
       "    }\n",
       "\n",
       "    .dataframe thead th {\n",
       "        text-align: right;\n",
       "    }\n",
       "</style>\n",
       "<table border=\"1\" class=\"dataframe\">\n",
       "  <thead>\n",
       "    <tr style=\"text-align: right;\">\n",
       "      <th></th>\n",
       "      <th>gender</th>\n",
       "      <th>age</th>\n",
       "      <th>became_member_year</th>\n",
       "      <th>became_member_month</th>\n",
       "      <th>became_member_day</th>\n",
       "      <th>login_days</th>\n",
       "      <th>income</th>\n",
       "      <th>event</th>\n",
       "      <th>time</th>\n",
       "    </tr>\n",
       "  </thead>\n",
       "  <tbody>\n",
       "    <tr>\n",
       "      <th>0</th>\n",
       "      <td>F</td>\n",
       "      <td>55</td>\n",
       "      <td>2017</td>\n",
       "      <td>7</td>\n",
       "      <td>15</td>\n",
       "      <td>376</td>\n",
       "      <td>112000.0</td>\n",
       "      <td>transaction</td>\n",
       "      <td>18</td>\n",
       "    </tr>\n",
       "  </tbody>\n",
       "</table>\n",
       "</div>"
      ],
      "text/plain": [
       "  gender  age  became_member_year  became_member_month  became_member_day  \\\n",
       "0      F   55                2017                    7                 15   \n",
       "\n",
       "   login_days    income        event time  \n",
       "0         376  112000.0  transaction   18  "
      ]
     },
     "execution_count": 13,
     "metadata": {},
     "output_type": "execute_result"
    }
   ],
   "source": [
    "data=clean(df)\n",
    "data"
   ]
  },
  {
   "cell_type": "code",
   "execution_count": 14,
   "id": "7b4fd1da",
   "metadata": {},
   "outputs": [
    {
     "data": {
      "text/plain": [
       "gender                  object\n",
       "age                      int64\n",
       "became_member_year       int64\n",
       "became_member_month      int64\n",
       "became_member_day        int64\n",
       "login_days               int64\n",
       "income                 float64\n",
       "event                   object\n",
       "time                    object\n",
       "dtype: object"
      ]
     },
     "execution_count": 14,
     "metadata": {},
     "output_type": "execute_result"
    }
   ],
   "source": [
    "data.dtypes"
   ]
  },
  {
   "cell_type": "code",
   "execution_count": 17,
   "id": "3dd0c36e",
   "metadata": {},
   "outputs": [
    {
     "data": {
      "text/plain": [
       "array([[ 1.        ,  0.        ,  0.        ,  0.        ,  0.        ,\n",
       "         0.        ,  1.        ,  0.        ,  0.        ,  0.        ,\n",
       "         1.        ,  0.        ,  0.        ,  0.        ,  0.        ,\n",
       "         0.        ,  0.        ,  0.        ,  0.        ,  0.        ,\n",
       "         0.        ,  0.        ,  0.        ,  0.05810249,  0.4055962 ,\n",
       "         0.09119573, -0.10346775, -0.44249785,  2.21926917]])"
      ]
     },
     "execution_count": 17,
     "metadata": {},
     "output_type": "execute_result"
    }
   ],
   "source": [
    "pre=preprocessor.transform(data)\n",
    "pre"
   ]
  },
  {
   "cell_type": "code",
   "execution_count": 21,
   "id": "2ef4595e",
   "metadata": {},
   "outputs": [
    {
     "data": {
      "text/plain": [
       "array([0])"
      ]
     },
     "execution_count": 21,
     "metadata": {},
     "output_type": "execute_result"
    }
   ],
   "source": [
    "demo_model.predict(pre)"
   ]
  },
  {
   "cell_type": "code",
   "execution_count": 27,
   "id": "099c8cdd",
   "metadata": {},
   "outputs": [],
   "source": [
    "#function to appear details of predict\n",
    "def predict(x):\n",
    "    if x == 0:\n",
    "        print(\"No offer\")\n",
    "    elif x==1:\n",
    "        print(\"offer is discount\")\n",
    "        print(\"Details : 5% discount ,minimum required spend to complete an offer =20 Dollar ,offer is open for 10 day \")\n",
    "    elif x==2:\n",
    "        print(\"offer is discount\")\n",
    "        print(\"Details : 3% discount ,minimum required spend to complete an offer =7 Dollar ,offer is open for 7 day \")\n",
    "    elif x== 3:\n",
    "        print(\"offer is discount\")\n",
    "        print(\"Details : 2% discount ,minimum required spend to complete an offer =10 Dollar ,offer is open for 7 day \")\n",
    "        \n",
    "    elif x==4:\n",
    "        print(\"offer is informational\")\n",
    "        print(\"offer is open for 4 day \")\n",
    "    \n",
    "    elif x==5:\n",
    "        print(\"offer is buy one get one [BOGO]\")\n",
    "        print(\"Details : minimum required spend to complete an offer =10 Dollar ,offer is open for 5 day \")\n",
    "        \n",
    "    elif x==6:\n",
    "        print(\"offer is informational\")\n",
    "        print(\"Details : offer is open for 3 day \")\n",
    "        \n",
    "    elif x==7:\n",
    "        print(\"offer is buy one get one [BOGO]\")\n",
    "        print(\"Details :minimum required spend to complete an offer =5 Dollar ,offer is open for 7 day \")\n",
    "    "
   ]
  },
  {
   "cell_type": "code",
   "execution_count": 28,
   "id": "20b7af79",
   "metadata": {},
   "outputs": [
    {
     "name": "stdout",
     "output_type": "stream",
     "text": [
      "No offer\n"
     ]
    }
   ],
   "source": [
    "predict(demo_model.predict(pre)[0])"
   ]
  },
  {
   "cell_type": "code",
   "execution_count": null,
   "id": "10f74826",
   "metadata": {},
   "outputs": [],
   "source": []
  }
 ],
 "metadata": {
  "kernelspec": {
   "display_name": "Python 3 (ipykernel)",
   "language": "python",
   "name": "python3"
  },
  "language_info": {
   "codemirror_mode": {
    "name": "ipython",
    "version": 3
   },
   "file_extension": ".py",
   "mimetype": "text/x-python",
   "name": "python",
   "nbconvert_exporter": "python",
   "pygments_lexer": "ipython3",
   "version": "3.9.12"
  }
 },
 "nbformat": 4,
 "nbformat_minor": 5
}
